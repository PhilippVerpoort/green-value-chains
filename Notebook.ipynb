{
 "cells": [
  {
   "cell_type": "markdown",
   "id": "4ec37d5a-b839-4a45-a7a0-23bb56a2601b",
   "metadata": {},
   "source": [
    "# Jupyter Notebook accompanying \"Future global green value chains: estimating the renewables pull and understanding its impact on industrial relocation\""
   ]
  },
  {
   "cell_type": "markdown",
   "id": "e8057b7a-4dac-4d0a-a9a9-235d28559e1a",
   "metadata": {},
   "source": [
    "This Jupyter notebook accompanies the working paper \"Future global green value chains: estimating the renewables pull and understanding its impact on industrial relocation\" by P.C. Verpoort et al (2023). It contains all the necessary code for reproducing the basic results reported in the manuscript.\n",
    "\n",
    "For reproducing the results with adjusted assumptions on electricity prices and transport costs, you may also want to refer to the interactive webapp: https://interactive.pik-potsdam.de/green-value-chains/\n",
    "For full details on how figures were derived, please refer to the full source code on GitHub: https://github.com/PhilippVerpoort/green-value-chains/"
   ]
  },
  {
   "cell_type": "markdown",
   "id": "86739cd0-f207-473f-9ee3-32ee5e04fe29",
   "metadata": {},
   "source": [
    "### Dependencies\n",
    "In order to reproduce the data, you will need the following dependencies and data.\n",
    "\n",
    "For the techno-economic data, you need the Python package `posted` (the Potsdam Open-Source Techno-Economic Database). You can install it as follows:\n",
    "```bash\n",
    "# when using poetry\n",
    "poetry add git+https://git@github.com:PhilippVerpoort/posted.git#v0.2.0\n",
    "\n",
    "# when using pip\n",
    "pip install git+https://git@github.com:PhilippVerpoort/posted.git#v0.2.0\n",
    "```\n",
    "\n",
    "For all other assumptions, you need the subdirectory `data` and its contents from [here](https://github.com/PhilippVerpoort/green-value-chains/tree/release/data) in your working directory. The easiest way might be to just clone the whole directory with git:\n",
    "\n",
    "```bash\n",
    "git clone https://github.com/PhilippVerpoort/green-value-chains.git\n",
    "```\n",
    "\n",
    "For plotting, this notebook uses `plotly`:\n",
    "```bash\n",
    "# for plotting only\n",
    "poetry add plotly\n",
    "```"
   ]
  },
  {
   "cell_type": "markdown",
   "id": "b17f39bc-230b-4f09-ae95-3f0b15efb5d6",
   "metadata": {},
   "source": [
    "### Preparation"
   ]
  },
  {
   "cell_type": "markdown",
   "id": "2eb68277-c7b9-4ccc-8ff3-18488658a35d",
   "metadata": {},
   "source": [
    "##### Ignore warnings"
   ]
  },
  {
   "cell_type": "code",
   "execution_count": 1,
   "id": "e24213e8-d1d2-4df6-9ab0-a8647a7c3ae6",
   "metadata": {},
   "outputs": [],
   "source": [
    "import warnings\n",
    "warnings.filterwarnings('ignore')\n",
    "warnings.simplefilter('ignore')"
   ]
  },
  {
   "cell_type": "markdown",
   "id": "a1a6eab9-7286-4a4f-87ed-3a69aee9f775",
   "metadata": {},
   "source": [
    "##### Import IPython tools"
   ]
  },
  {
   "cell_type": "code",
   "execution_count": 2,
   "id": "97a8561c-0bf6-44f6-8fde-bb22e4144a7e",
   "metadata": {},
   "outputs": [],
   "source": [
    "from IPython.display import display, Markdown, Latex"
   ]
  },
  {
   "cell_type": "markdown",
   "id": "c3526d52-a053-46ee-96a7-15ca74a62192",
   "metadata": {},
   "source": [
    "##### Set unit registry for pint"
   ]
  },
  {
   "cell_type": "code",
   "execution_count": 3,
   "id": "18885f7d-64fb-434f-8260-0955c0755e99",
   "metadata": {},
   "outputs": [],
   "source": [
    "import pint\n",
    "from posted.units.units import ureg\n",
    "pint.set_application_registry(ureg)"
   ]
  },
  {
   "cell_type": "markdown",
   "id": "6f3630a4",
   "metadata": {},
   "source": [
    "### Loading assumptions"
   ]
  },
  {
   "cell_type": "code",
   "execution_count": 4,
   "id": "929ae75d-197e-40ca-b93c-26c0389fb4e4",
   "metadata": {},
   "outputs": [],
   "source": [
    "import pathlib\n",
    "import yaml\n",
    "import pandas as pd\n",
    "\n",
    "\n",
    "BASE_PATH = pathlib.Path.cwd()\n",
    "\n",
    "def loadCSVDataFile(fname: str):\n",
    "    path = BASE_PATH / 'data' / f\"{fname}.csv\"\n",
    "    return pd.read_csv(path)\n",
    "\n",
    "def loadYAMLDataFile(fname: str):\n",
    "    path = BASE_PATH / 'data' / f\"{fname}.yml\"\n",
    "    with open(path, 'r') as f:\n",
    "        ret = yaml.load(f.read(), Loader=yaml.FullLoader)\n",
    "    return ret"
   ]
  },
  {
   "cell_type": "code",
   "execution_count": 5,
   "id": "2d33c970",
   "metadata": {},
   "outputs": [],
   "source": [
    "inputs = {}\n",
    "\n",
    "# load value chain definitions\n",
    "inputs['value_chains'] = loadYAMLDataFile('value_chains')\n",
    "\n",
    "# load data for electricity-price cases\n",
    "inputs['epdcases'] = loadCSVDataFile('epd_cases') \\\n",
    "    .astype({c: 'pint[EUR/MWh]' for c in ('RE-scarce', 'RE-rich')}, errors='ignore')\n",
    "\n",
    "# load data for other prices\n",
    "inputs['other_prices'] = loadCSVDataFile('other_prices') \\\n",
    "    .astype({'assump': 'float32'}, errors='ignore') \\\n",
    "    .set_index(['type', 'unit']) \\\n",
    "    .transpose() \\\n",
    "    .pint.quantify() \\\n",
    "    .reset_index(drop=True)\n",
    "\n",
    "# load data for specific transport cost\n",
    "inputs['transp_cost'] = loadCSVDataFile('transp_cost') \\\n",
    "    .astype({'assump': 'float32'}, errors='ignore')\n",
    "\n",
    "# load other assumptions\n",
    "inputs['other_assump'] = loadYAMLDataFile('other_assump')\n",
    "\n",
    "# load scenarios and volumes\n",
    "inputs['scenarios'] = loadCSVDataFile('scenarios').set_index(['scenario', 'commodity'])\n",
    "inputs['volumes'] = loadCSVDataFile('volumes').astype({'volume': 'float32'}).set_index(['commodity'])['volume']"
   ]
  },
  {
   "cell_type": "markdown",
   "id": "d6b07104-63a2-4eea-9391-daa95f77a230",
   "metadata": {},
   "source": [
    "##### Electricity-price cases"
   ]
  },
  {
   "cell_type": "code",
   "execution_count": 6,
   "id": "63d5c901-5edb-4ca3-a9da-5e6cd3bbd8a6",
   "metadata": {},
   "outputs": [
    {
     "data": {
      "text/html": [
       "<div>\n",
       "<style scoped>\n",
       "    .dataframe tbody tr th:only-of-type {\n",
       "        vertical-align: middle;\n",
       "    }\n",
       "\n",
       "    .dataframe tbody tr th {\n",
       "        vertical-align: top;\n",
       "    }\n",
       "\n",
       "    .dataframe thead th {\n",
       "        text-align: right;\n",
       "    }\n",
       "</style>\n",
       "<table border=\"1\" class=\"dataframe\">\n",
       "  <thead>\n",
       "    <tr style=\"text-align: right;\">\n",
       "      <th></th>\n",
       "      <th></th>\n",
       "      <th>RE-rich</th>\n",
       "      <th>RE-scarce</th>\n",
       "    </tr>\n",
       "    <tr>\n",
       "      <th>epdcase</th>\n",
       "      <th>process</th>\n",
       "      <th></th>\n",
       "      <th></th>\n",
       "    </tr>\n",
       "  </thead>\n",
       "  <tbody>\n",
       "    <tr>\n",
       "      <th rowspan=\"2\" valign=\"top\">weak</th>\n",
       "      <th>ELH2</th>\n",
       "      <td>30</td>\n",
       "      <td>50</td>\n",
       "    </tr>\n",
       "    <tr>\n",
       "      <th>OTHER</th>\n",
       "      <td>50</td>\n",
       "      <td>70</td>\n",
       "    </tr>\n",
       "    <tr>\n",
       "      <th rowspan=\"2\" valign=\"top\">medium</th>\n",
       "      <th>ELH2</th>\n",
       "      <td>30</td>\n",
       "      <td>70</td>\n",
       "    </tr>\n",
       "    <tr>\n",
       "      <th>OTHER</th>\n",
       "      <td>50</td>\n",
       "      <td>90</td>\n",
       "    </tr>\n",
       "    <tr>\n",
       "      <th rowspan=\"2\" valign=\"top\">strong</th>\n",
       "      <th>ELH2</th>\n",
       "      <td>15</td>\n",
       "      <td>85</td>\n",
       "    </tr>\n",
       "    <tr>\n",
       "      <th>OTHER</th>\n",
       "      <td>35</td>\n",
       "      <td>105</td>\n",
       "    </tr>\n",
       "  </tbody>\n",
       "</table>\n",
       "</div>"
      ],
      "text/plain": [
       "                 RE-rich  RE-scarce\n",
       "epdcase process                    \n",
       "weak    ELH2          30         50\n",
       "        OTHER         50         70\n",
       "medium  ELH2          30         70\n",
       "        OTHER         50         90\n",
       "strong  ELH2          15         85\n",
       "        OTHER         35        105"
      ]
     },
     "execution_count": 6,
     "metadata": {},
     "output_type": "execute_result"
    }
   ],
   "source": [
    "inputs['epdcases'].set_index(['epdcase', 'process'])"
   ]
  },
  {
   "cell_type": "markdown",
   "id": "cfec70af-752e-4c5d-951d-6d47fc5f933c",
   "metadata": {},
   "source": [
    "##### Other price data"
   ]
  },
  {
   "cell_type": "code",
   "execution_count": 7,
   "id": "76d888c7-ca00-411c-9025-e71f8fcdbf16",
   "metadata": {},
   "outputs": [
    {
     "data": {
      "text/html": [
       "<div>\n",
       "<style scoped>\n",
       "    .dataframe tbody tr th:only-of-type {\n",
       "        vertical-align: middle;\n",
       "    }\n",
       "\n",
       "    .dataframe tbody tr th {\n",
       "        vertical-align: top;\n",
       "    }\n",
       "\n",
       "    .dataframe thead th {\n",
       "        text-align: right;\n",
       "    }\n",
       "</style>\n",
       "<table border=\"1\" class=\"dataframe\">\n",
       "  <thead>\n",
       "    <tr style=\"text-align: right;\">\n",
       "      <th></th>\n",
       "      <th>value</th>\n",
       "    </tr>\n",
       "    <tr>\n",
       "      <th>type</th>\n",
       "      <th></th>\n",
       "    </tr>\n",
       "  </thead>\n",
       "  <tbody>\n",
       "    <tr>\n",
       "      <th>price:ng</th>\n",
       "      <td>45.0 EUR/MWh</td>\n",
       "    </tr>\n",
       "    <tr>\n",
       "      <th>price:ironore</th>\n",
       "      <td>130.0 EUR/t</td>\n",
       "    </tr>\n",
       "    <tr>\n",
       "      <th>price:alloys</th>\n",
       "      <td>1720.0 EUR/t</td>\n",
       "    </tr>\n",
       "    <tr>\n",
       "      <th>price:coal</th>\n",
       "      <td>4.0 EUR/GJ</td>\n",
       "    </tr>\n",
       "    <tr>\n",
       "      <th>price:graph_electr</th>\n",
       "      <td>4000.0 EUR/t</td>\n",
       "    </tr>\n",
       "    <tr>\n",
       "      <th>price:lime</th>\n",
       "      <td>100.0 EUR/t</td>\n",
       "    </tr>\n",
       "    <tr>\n",
       "      <th>price:nitrogen</th>\n",
       "      <td>100.0 EUR/t</td>\n",
       "    </tr>\n",
       "    <tr>\n",
       "      <th>price:oxygen</th>\n",
       "      <td>100.0 EUR/t</td>\n",
       "    </tr>\n",
       "    <tr>\n",
       "      <th>price:steelscrap</th>\n",
       "      <td>180.0 EUR/t</td>\n",
       "    </tr>\n",
       "    <tr>\n",
       "      <th>price:water</th>\n",
       "      <td>10.0 EUR/t</td>\n",
       "    </tr>\n",
       "  </tbody>\n",
       "</table>\n",
       "</div>"
      ],
      "text/plain": [
       "                           value\n",
       "type                            \n",
       "price:ng            45.0 EUR/MWh\n",
       "price:ironore        130.0 EUR/t\n",
       "price:alloys        1720.0 EUR/t\n",
       "price:coal            4.0 EUR/GJ\n",
       "price:graph_electr  4000.0 EUR/t\n",
       "price:lime           100.0 EUR/t\n",
       "price:nitrogen       100.0 EUR/t\n",
       "price:oxygen         100.0 EUR/t\n",
       "price:steelscrap     180.0 EUR/t\n",
       "price:water           10.0 EUR/t"
      ]
     },
     "execution_count": 7,
     "metadata": {},
     "output_type": "execute_result"
    }
   ],
   "source": [
    "inputs['other_prices'].iloc[0].to_frame('value')"
   ]
  },
  {
   "cell_type": "markdown",
   "id": "5498d3ae-ccb3-4090-9eba-b82f2800fc4b",
   "metadata": {},
   "source": [
    "##### Transport cost data"
   ]
  },
  {
   "cell_type": "code",
   "execution_count": 8,
   "id": "8f2736fe-bb28-4730-aa65-e601b6a2b2f7",
   "metadata": {},
   "outputs": [
    {
     "data": {
      "text/html": [
       "<div>\n",
       "<style scoped>\n",
       "    .dataframe tbody tr th:only-of-type {\n",
       "        vertical-align: middle;\n",
       "    }\n",
       "\n",
       "    .dataframe tbody tr th {\n",
       "        vertical-align: top;\n",
       "    }\n",
       "\n",
       "    .dataframe thead th {\n",
       "        text-align: right;\n",
       "    }\n",
       "</style>\n",
       "<table border=\"1\" class=\"dataframe\">\n",
       "  <thead>\n",
       "    <tr style=\"text-align: right;\">\n",
       "      <th></th>\n",
       "      <th></th>\n",
       "      <th>assump</th>\n",
       "      <th>unit</th>\n",
       "    </tr>\n",
       "    <tr>\n",
       "      <th>traded</th>\n",
       "      <th>impsubcase</th>\n",
       "      <th></th>\n",
       "      <th></th>\n",
       "    </tr>\n",
       "  </thead>\n",
       "  <tbody>\n",
       "    <tr>\n",
       "      <th rowspan=\"2\" valign=\"top\">h2</th>\n",
       "      <th>A</th>\n",
       "      <td>50.0</td>\n",
       "      <td>EUR/MWh</td>\n",
       "    </tr>\n",
       "    <tr>\n",
       "      <th>B</th>\n",
       "      <td>15.0</td>\n",
       "      <td>EUR/MWh</td>\n",
       "    </tr>\n",
       "    <tr>\n",
       "      <th>ironore</th>\n",
       "      <th>NaN</th>\n",
       "      <td>10.0</td>\n",
       "      <td>EUR/t</td>\n",
       "    </tr>\n",
       "    <tr>\n",
       "      <th>dri</th>\n",
       "      <th>NaN</th>\n",
       "      <td>20.0</td>\n",
       "      <td>EUR/t</td>\n",
       "    </tr>\n",
       "    <tr>\n",
       "      <th>steelhrc</th>\n",
       "      <th>NaN</th>\n",
       "      <td>20.0</td>\n",
       "      <td>EUR/t</td>\n",
       "    </tr>\n",
       "    <tr>\n",
       "      <th>nh3</th>\n",
       "      <th>NaN</th>\n",
       "      <td>30.0</td>\n",
       "      <td>EUR/t</td>\n",
       "    </tr>\n",
       "    <tr>\n",
       "      <th>urea</th>\n",
       "      <th>NaN</th>\n",
       "      <td>50.0</td>\n",
       "      <td>EUR/t</td>\n",
       "    </tr>\n",
       "    <tr>\n",
       "      <th>meoh</th>\n",
       "      <th>NaN</th>\n",
       "      <td>30.0</td>\n",
       "      <td>EUR/t</td>\n",
       "    </tr>\n",
       "    <tr>\n",
       "      <th>hvcs</th>\n",
       "      <th>NaN</th>\n",
       "      <td>80.0</td>\n",
       "      <td>EUR/t</td>\n",
       "    </tr>\n",
       "  </tbody>\n",
       "</table>\n",
       "</div>"
      ],
      "text/plain": [
       "                     assump     unit\n",
       "traded   impsubcase                 \n",
       "h2       A             50.0  EUR/MWh\n",
       "         B             15.0  EUR/MWh\n",
       "ironore  NaN           10.0    EUR/t\n",
       "dri      NaN           20.0    EUR/t\n",
       "steelhrc NaN           20.0    EUR/t\n",
       "nh3      NaN           30.0    EUR/t\n",
       "urea     NaN           50.0    EUR/t\n",
       "meoh     NaN           30.0    EUR/t\n",
       "hvcs     NaN           80.0    EUR/t"
      ]
     },
     "execution_count": 8,
     "metadata": {},
     "output_type": "execute_result"
    }
   ],
   "source": [
    "inputs['transp_cost'].set_index(['traded', 'impsubcase'])"
   ]
  },
  {
   "cell_type": "markdown",
   "id": "910f6bfd-fda6-4d12-9936-cab31e04bf6b",
   "metadata": {},
   "source": [
    "##### Other assumptions"
   ]
  },
  {
   "cell_type": "code",
   "execution_count": 9,
   "id": "8a6317a9-d28f-46ed-aafd-da716864c753",
   "metadata": {},
   "outputs": [
    {
     "name": "stdout",
     "output_type": "stream",
     "text": [
      "irate:\n",
      "  RE-rich: 8.0\n",
      "  RE-scarce: 5.0\n",
      "ltime: 18\n",
      "ocf:\n",
      "  ELH2: 0.5\n",
      "  default: 0.95\n",
      "period: 2040\n",
      "\n"
     ]
    }
   ],
   "source": [
    "print(yaml.dump(inputs['other_assump']))"
   ]
  },
  {
   "cell_type": "markdown",
   "id": "b4b8aae9-5919-4679-aa26-3809e6d0edf3",
   "metadata": {},
   "source": [
    "##### Structure of the value chains"
   ]
  },
  {
   "cell_type": "code",
   "execution_count": 10,
   "id": "0d0d8684-48cf-4be5-897f-3dc51a6606c8",
   "metadata": {},
   "outputs": [
    {
     "name": "stdout",
     "output_type": "stream",
     "text": [
      "Steel:\n",
      "  graph:\n",
      "    HOTROLL:\n",
      "      steelslab: CAST\n",
      "    CAST:\n",
      "      steelliq: EAF\n",
      "    EAF:\n",
      "      dri: IDR\n",
      "    IDR:\n",
      "      h2: ELH2\n",
      "    ELH2: {}\n",
      "  locations:\n",
      "  - - ELH2\n",
      "  - - IDR\n",
      "  - - EAF\n",
      "    - CAST\n",
      "    - HOTROLL\n",
      "Urea:\n",
      "  graph:\n",
      "    UREA-SYN:\n",
      "      nh3: HBNH3-ASU\n",
      "      co2: DAC\n",
      "    HBNH3-ASU:\n",
      "      h2: ELH2\n",
      "    DAC:\n",
      "      heat: HEATPUMP-4-DAC\n",
      "    HEATPUMP-4-DAC: {}\n",
      "    ELH2: {}\n",
      "  locations:\n",
      "  - - ELH2\n",
      "  - - HBNH3-ASU\n",
      "  - - HEATPUMP-4-DAC\n",
      "    - DAC\n",
      "    - UREA-SYN\n",
      "Ethylene:\n",
      "  graph:\n",
      "    MEOH-2-OLEF:\n",
      "      meoh: MEOH-SYN\n",
      "    MEOH-SYN:\n",
      "      h2: ELH2\n",
      "      co2: DAC\n",
      "    DAC:\n",
      "      heat: HEATPUMP-4-DAC\n",
      "    HEATPUMP-4-DAC: {}\n",
      "    ELH2: {}\n",
      "  locations:\n",
      "  - - ELH2\n",
      "  - - HEATPUMP-4-DAC\n",
      "    - DAC\n",
      "    - MEOH-SYN\n",
      "  - - MEOH-2-OLEF\n",
      "\n"
     ]
    }
   ],
   "source": [
    "print(yaml.dump(inputs['value_chains'], sort_keys=False))"
   ]
  },
  {
   "cell_type": "markdown",
   "id": "0dd3096f-308c-404c-8537-350f40322a71",
   "metadata": {},
   "source": [
    "### Loading techno-economic data from POSTED"
   ]
  },
  {
   "cell_type": "code",
   "execution_count": 11,
   "id": "c7bb9a0d-eb0c-407c-b02b-46dba6bd8f50",
   "metadata": {},
   "outputs": [
    {
     "name": "stderr",
     "output_type": "stream",
     "text": [
      "/home/philippv/Documents/4-projects/02-green-value-chain/01-vcs/green-value-chains/.venv/lib/python3.11/site-packages/posted/ted/TEDataSet.py:446: TEGenerationFailure: No CAPEX value matching a relative FOPEX value found.\n",
      "         type flow_type           unit component value\n",
      "21  fopex_rel       NaN  dimensionless       NaN  0.04 (TID: DAC)\n",
      "  warnings.warn(TEGenerationFailure(rows.loc[cond], self._tid, 'No CAPEX value matching a relative FOPEX value found.'))\n",
      "/home/philippv/Documents/4-projects/02-green-value-chain/01-vcs/green-value-chains/.venv/lib/python3.11/site-packages/posted/ted/TEDataSet.py:446: TEGenerationFailure: No CAPEX value matching a relative FOPEX value found.\n",
      "         type flow_type           unit component value\n",
      "22  fopex_rel       NaN  dimensionless       NaN  0.04 (TID: DAC)\n",
      "  warnings.warn(TEGenerationFailure(rows.loc[cond], self._tid, 'No CAPEX value matching a relative FOPEX value found.'))\n"
     ]
    }
   ],
   "source": [
    "from posted.ted.Mask import Mask\n",
    "from posted.ted.TEDataSet import TEDataSet\n",
    "\n",
    "\n",
    "# create list of technologies to load\n",
    "vcs = inputs['value_chains']\n",
    "techs = {k: {} for comm in vcs for k in vcs[comm]['graph'].keys()}\n",
    "\n",
    "# add settings for loading the data\n",
    "techs['ELH2'] |= {\n",
    "    'subtech': 'Alkaline',\n",
    "    'masks': [\n",
    "        Mask(\n",
    "            when=\"type.str.startswith('capex')\",\n",
    "            use=f\"src_ref.isin({'Vartiainen et al. (2022)', 'IRENA Global Hydrogen trade costs (2022)'})\",\n",
    "        ),\n",
    "        Mask(\n",
    "            when=\"type.str.startswith('demand:elec')\",\n",
    "            use=f\"src_ref.isin({'Vartiainen et al. (2022)', 'IRENA Global Hydrogen trade costs (2022)'})\",\n",
    "        ),\n",
    "    ],\n",
    "}\n",
    "techs['DAC'] |= {\n",
    "    'subtech': 'LT-DAC',\n",
    "    'masks': [\n",
    "        Mask(\n",
    "            when=\"type.str.startswith('capex')\",\n",
    "            use=\"src_ref=='custom'\",\n",
    "        )\n",
    "    ]\n",
    "}\n",
    "techs['IDR'] |= {'mode': 'h2'}\n",
    "techs['EAF'] |= {'mode': 'primary'}\n",
    "\n",
    "# load datatables from POSTED\n",
    "inputs['proc_tables'] = {}\n",
    "for tid, kwargs in techs.items():\n",
    "    dac = {'load_other': ['data/DAC-capex-custom.csv'], 'load_database': True} if tid == 'DAC' else {}\n",
    "    t = TEDataSet(tid, **dac).generateTable(\n",
    "        period=inputs['other_assump']['period'],\n",
    "        agg=['src_ref'],\n",
    "        **kwargs,\n",
    "    )\n",
    "    inputs['proc_tables'][tid] = t"
   ]
  },
  {
   "cell_type": "code",
   "execution_count": 12,
   "id": "cd4f5c75-0b30-49ba-991f-97691febd812",
   "metadata": {},
   "outputs": [
    {
     "data": {
      "text/html": [
       "<div>\n",
       "<style scoped>\n",
       "    .dataframe tbody tr th:only-of-type {\n",
       "        vertical-align: middle;\n",
       "    }\n",
       "\n",
       "    .dataframe tbody tr th {\n",
       "        vertical-align: top;\n",
       "    }\n",
       "\n",
       "    .dataframe thead tr th {\n",
       "        text-align: left;\n",
       "    }\n",
       "\n",
       "    .dataframe thead tr:last-of-type th {\n",
       "        text-align: right;\n",
       "    }\n",
       "</style>\n",
       "<table border=\"1\" class=\"dataframe\">\n",
       "  <thead>\n",
       "    <tr>\n",
       "      <th></th>\n",
       "      <th>part</th>\n",
       "      <th colspan=\"21\" halign=\"left\">value</th>\n",
       "    </tr>\n",
       "    <tr>\n",
       "      <th></th>\n",
       "      <th>type</th>\n",
       "      <th>capex</th>\n",
       "      <th>demand:elec</th>\n",
       "      <th>demand:heat</th>\n",
       "      <th>demand:steelslab</th>\n",
       "      <th>demand:steelliq</th>\n",
       "      <th>demand:alloys</th>\n",
       "      <th>demand:coal</th>\n",
       "      <th>demand:dri</th>\n",
       "      <th>demand:graph_electr</th>\n",
       "      <th>demand:lime</th>\n",
       "      <th>...</th>\n",
       "      <th>fopex_spec</th>\n",
       "      <th>vopex</th>\n",
       "      <th>demand:h2</th>\n",
       "      <th>demand:ironore</th>\n",
       "      <th>demand:water</th>\n",
       "      <th>demand:co2</th>\n",
       "      <th>demand:nh3</th>\n",
       "      <th>lifetime</th>\n",
       "      <th>ocf</th>\n",
       "      <th>demand:meoh</th>\n",
       "    </tr>\n",
       "    <tr>\n",
       "      <th>tech</th>\n",
       "      <th>reheating</th>\n",
       "      <th></th>\n",
       "      <th></th>\n",
       "      <th></th>\n",
       "      <th></th>\n",
       "      <th></th>\n",
       "      <th></th>\n",
       "      <th></th>\n",
       "      <th></th>\n",
       "      <th></th>\n",
       "      <th></th>\n",
       "      <th></th>\n",
       "      <th></th>\n",
       "      <th></th>\n",
       "      <th></th>\n",
       "      <th></th>\n",
       "      <th></th>\n",
       "      <th></th>\n",
       "      <th></th>\n",
       "      <th></th>\n",
       "      <th></th>\n",
       "      <th></th>\n",
       "    </tr>\n",
       "  </thead>\n",
       "  <tbody>\n",
       "    <tr>\n",
       "      <th>HOTROLL</th>\n",
       "      <th></th>\n",
       "      <td>103.3</td>\n",
       "      <td>0.09432</td>\n",
       "      <td>0.4147</td>\n",
       "      <td>1.053</td>\n",
       "      <td>NaN</td>\n",
       "      <td>NaN</td>\n",
       "      <td>NaN</td>\n",
       "      <td>NaN</td>\n",
       "      <td>NaN</td>\n",
       "      <td>NaN</td>\n",
       "      <td>...</td>\n",
       "      <td>NaN</td>\n",
       "      <td>NaN</td>\n",
       "      <td>NaN</td>\n",
       "      <td>NaN</td>\n",
       "      <td>NaN</td>\n",
       "      <td>NaN</td>\n",
       "      <td>NaN</td>\n",
       "      <td>NaN</td>\n",
       "      <td>NaN</td>\n",
       "      <td>NaN</td>\n",
       "    </tr>\n",
       "    <tr>\n",
       "      <th>CAST</th>\n",
       "      <th></th>\n",
       "      <td>41.63</td>\n",
       "      <td>0.009317</td>\n",
       "      <td>0.007222</td>\n",
       "      <td>NaN</td>\n",
       "      <td>1.032</td>\n",
       "      <td>NaN</td>\n",
       "      <td>NaN</td>\n",
       "      <td>NaN</td>\n",
       "      <td>NaN</td>\n",
       "      <td>NaN</td>\n",
       "      <td>...</td>\n",
       "      <td>NaN</td>\n",
       "      <td>NaN</td>\n",
       "      <td>NaN</td>\n",
       "      <td>NaN</td>\n",
       "      <td>NaN</td>\n",
       "      <td>NaN</td>\n",
       "      <td>NaN</td>\n",
       "      <td>NaN</td>\n",
       "      <td>NaN</td>\n",
       "      <td>NaN</td>\n",
       "    </tr>\n",
       "    <tr>\n",
       "      <th rowspan=\"2\" valign=\"top\">EAF</th>\n",
       "      <th>w/ reheating</th>\n",
       "      <td>234.8</td>\n",
       "      <td>0.6129</td>\n",
       "      <td>0.1667</td>\n",
       "      <td>NaN</td>\n",
       "      <td>NaN</td>\n",
       "      <td>0.011</td>\n",
       "      <td>0.1836</td>\n",
       "      <td>1.001</td>\n",
       "      <td>0.002125</td>\n",
       "      <td>0.05</td>\n",
       "      <td>...</td>\n",
       "      <td>23.89</td>\n",
       "      <td>9.0</td>\n",
       "      <td>NaN</td>\n",
       "      <td>NaN</td>\n",
       "      <td>NaN</td>\n",
       "      <td>NaN</td>\n",
       "      <td>NaN</td>\n",
       "      <td>NaN</td>\n",
       "      <td>NaN</td>\n",
       "      <td>NaN</td>\n",
       "    </tr>\n",
       "    <tr>\n",
       "      <th>w/o reheating</th>\n",
       "      <td>234.8</td>\n",
       "      <td>0.5731</td>\n",
       "      <td>0.1667</td>\n",
       "      <td>NaN</td>\n",
       "      <td>NaN</td>\n",
       "      <td>0.011</td>\n",
       "      <td>0.1836</td>\n",
       "      <td>1.001</td>\n",
       "      <td>0.002125</td>\n",
       "      <td>0.05</td>\n",
       "      <td>...</td>\n",
       "      <td>23.89</td>\n",
       "      <td>9.0</td>\n",
       "      <td>NaN</td>\n",
       "      <td>NaN</td>\n",
       "      <td>NaN</td>\n",
       "      <td>NaN</td>\n",
       "      <td>NaN</td>\n",
       "      <td>NaN</td>\n",
       "      <td>NaN</td>\n",
       "      <td>NaN</td>\n",
       "    </tr>\n",
       "    <tr>\n",
       "      <th>IDR</th>\n",
       "      <th></th>\n",
       "      <td>320.7</td>\n",
       "      <td>0.09049</td>\n",
       "      <td>0.4839</td>\n",
       "      <td>NaN</td>\n",
       "      <td>NaN</td>\n",
       "      <td>NaN</td>\n",
       "      <td>NaN</td>\n",
       "      <td>NaN</td>\n",
       "      <td>NaN</td>\n",
       "      <td>NaN</td>\n",
       "      <td>...</td>\n",
       "      <td>12.42</td>\n",
       "      <td>NaN</td>\n",
       "      <td>1.886</td>\n",
       "      <td>1.444</td>\n",
       "      <td>NaN</td>\n",
       "      <td>NaN</td>\n",
       "      <td>NaN</td>\n",
       "      <td>NaN</td>\n",
       "      <td>NaN</td>\n",
       "      <td>NaN</td>\n",
       "    </tr>\n",
       "    <tr>\n",
       "      <th>ELH2</th>\n",
       "      <th></th>\n",
       "      <td>31.01</td>\n",
       "      <td>1.411</td>\n",
       "      <td>NaN</td>\n",
       "      <td>NaN</td>\n",
       "      <td>NaN</td>\n",
       "      <td>NaN</td>\n",
       "      <td>NaN</td>\n",
       "      <td>NaN</td>\n",
       "      <td>NaN</td>\n",
       "      <td>NaN</td>\n",
       "      <td>...</td>\n",
       "      <td>1.735</td>\n",
       "      <td>NaN</td>\n",
       "      <td>NaN</td>\n",
       "      <td>NaN</td>\n",
       "      <td>0.285</td>\n",
       "      <td>NaN</td>\n",
       "      <td>NaN</td>\n",
       "      <td>NaN</td>\n",
       "      <td>NaN</td>\n",
       "      <td>NaN</td>\n",
       "    </tr>\n",
       "    <tr>\n",
       "      <th>UREA-SYN</th>\n",
       "      <th></th>\n",
       "      <td>213.0</td>\n",
       "      <td>0.1326</td>\n",
       "      <td>0.9139</td>\n",
       "      <td>NaN</td>\n",
       "      <td>NaN</td>\n",
       "      <td>NaN</td>\n",
       "      <td>NaN</td>\n",
       "      <td>NaN</td>\n",
       "      <td>NaN</td>\n",
       "      <td>NaN</td>\n",
       "      <td>...</td>\n",
       "      <td>NaN</td>\n",
       "      <td>NaN</td>\n",
       "      <td>NaN</td>\n",
       "      <td>NaN</td>\n",
       "      <td>NaN</td>\n",
       "      <td>0.7442</td>\n",
       "      <td>0.575</td>\n",
       "      <td>NaN</td>\n",
       "      <td>NaN</td>\n",
       "      <td>NaN</td>\n",
       "    </tr>\n",
       "    <tr>\n",
       "      <th>HBNH3-ASU</th>\n",
       "      <th></th>\n",
       "      <td>446.2</td>\n",
       "      <td>0.824</td>\n",
       "      <td>NaN</td>\n",
       "      <td>NaN</td>\n",
       "      <td>NaN</td>\n",
       "      <td>NaN</td>\n",
       "      <td>NaN</td>\n",
       "      <td>NaN</td>\n",
       "      <td>NaN</td>\n",
       "      <td>NaN</td>\n",
       "      <td>...</td>\n",
       "      <td>10.7</td>\n",
       "      <td>3100.0</td>\n",
       "      <td>5.933</td>\n",
       "      <td>NaN</td>\n",
       "      <td>NaN</td>\n",
       "      <td>NaN</td>\n",
       "      <td>NaN</td>\n",
       "      <td>NaN</td>\n",
       "      <td>NaN</td>\n",
       "      <td>NaN</td>\n",
       "    </tr>\n",
       "    <tr>\n",
       "      <th>DAC</th>\n",
       "      <th></th>\n",
       "      <td>173.5</td>\n",
       "      <td>1.052</td>\n",
       "      <td>2.261</td>\n",
       "      <td>NaN</td>\n",
       "      <td>NaN</td>\n",
       "      <td>NaN</td>\n",
       "      <td>NaN</td>\n",
       "      <td>NaN</td>\n",
       "      <td>NaN</td>\n",
       "      <td>NaN</td>\n",
       "      <td>...</td>\n",
       "      <td>23.86</td>\n",
       "      <td>NaN</td>\n",
       "      <td>NaN</td>\n",
       "      <td>NaN</td>\n",
       "      <td>NaN</td>\n",
       "      <td>NaN</td>\n",
       "      <td>NaN</td>\n",
       "      <td>37.5</td>\n",
       "      <td>0.9132</td>\n",
       "      <td>NaN</td>\n",
       "    </tr>\n",
       "    <tr>\n",
       "      <th>HEATPUMP-4-DAC</th>\n",
       "      <th></th>\n",
       "      <td>66.61</td>\n",
       "      <td>0.3045</td>\n",
       "      <td>NaN</td>\n",
       "      <td>NaN</td>\n",
       "      <td>NaN</td>\n",
       "      <td>NaN</td>\n",
       "      <td>NaN</td>\n",
       "      <td>NaN</td>\n",
       "      <td>NaN</td>\n",
       "      <td>NaN</td>\n",
       "      <td>...</td>\n",
       "      <td>1.21</td>\n",
       "      <td>NaN</td>\n",
       "      <td>NaN</td>\n",
       "      <td>NaN</td>\n",
       "      <td>NaN</td>\n",
       "      <td>NaN</td>\n",
       "      <td>NaN</td>\n",
       "      <td>NaN</td>\n",
       "      <td>NaN</td>\n",
       "      <td>NaN</td>\n",
       "    </tr>\n",
       "    <tr>\n",
       "      <th>MEOH-2-OLEF</th>\n",
       "      <th></th>\n",
       "      <td>395.1</td>\n",
       "      <td>1.389</td>\n",
       "      <td>NaN</td>\n",
       "      <td>NaN</td>\n",
       "      <td>NaN</td>\n",
       "      <td>NaN</td>\n",
       "      <td>NaN</td>\n",
       "      <td>NaN</td>\n",
       "      <td>NaN</td>\n",
       "      <td>NaN</td>\n",
       "      <td>...</td>\n",
       "      <td>29.85</td>\n",
       "      <td>20.0</td>\n",
       "      <td>NaN</td>\n",
       "      <td>NaN</td>\n",
       "      <td>NaN</td>\n",
       "      <td>NaN</td>\n",
       "      <td>NaN</td>\n",
       "      <td>NaN</td>\n",
       "      <td>NaN</td>\n",
       "      <td>2.28</td>\n",
       "    </tr>\n",
       "    <tr>\n",
       "      <th>MEOH-SYN</th>\n",
       "      <th></th>\n",
       "      <td>355.3</td>\n",
       "      <td>2.14</td>\n",
       "      <td>NaN</td>\n",
       "      <td>NaN</td>\n",
       "      <td>NaN</td>\n",
       "      <td>NaN</td>\n",
       "      <td>NaN</td>\n",
       "      <td>NaN</td>\n",
       "      <td>NaN</td>\n",
       "      <td>NaN</td>\n",
       "      <td>...</td>\n",
       "      <td>8.192</td>\n",
       "      <td>25.0</td>\n",
       "      <td>6.441</td>\n",
       "      <td>NaN</td>\n",
       "      <td>NaN</td>\n",
       "      <td>1.408</td>\n",
       "      <td>NaN</td>\n",
       "      <td>25.0</td>\n",
       "      <td>NaN</td>\n",
       "      <td>NaN</td>\n",
       "    </tr>\n",
       "  </tbody>\n",
       "</table>\n",
       "<p>12 rows × 24 columns</p>\n",
       "</div>"
      ],
      "text/plain": [
       "part                          value                                           \\\n",
       "type                          capex demand:elec demand:heat demand:steelslab   \n",
       "tech           reheating                                                       \n",
       "HOTROLL                       103.3     0.09432      0.4147            1.053   \n",
       "CAST                          41.63    0.009317    0.007222              NaN   \n",
       "EAF            w/ reheating   234.8      0.6129      0.1667              NaN   \n",
       "               w/o reheating  234.8      0.5731      0.1667              NaN   \n",
       "IDR                           320.7     0.09049      0.4839              NaN   \n",
       "ELH2                          31.01       1.411         NaN              NaN   \n",
       "UREA-SYN                      213.0      0.1326      0.9139              NaN   \n",
       "HBNH3-ASU                     446.2       0.824         NaN              NaN   \n",
       "DAC                           173.5       1.052       2.261              NaN   \n",
       "HEATPUMP-4-DAC                66.61      0.3045         NaN              NaN   \n",
       "MEOH-2-OLEF                   395.1       1.389         NaN              NaN   \n",
       "MEOH-SYN                      355.3        2.14         NaN              NaN   \n",
       "\n",
       "part                                                                    \\\n",
       "type                         demand:steelliq demand:alloys demand:coal   \n",
       "tech           reheating                                                 \n",
       "HOTROLL                                  NaN           NaN         NaN   \n",
       "CAST                                   1.032           NaN         NaN   \n",
       "EAF            w/ reheating              NaN         0.011      0.1836   \n",
       "               w/o reheating             NaN         0.011      0.1836   \n",
       "IDR                                      NaN           NaN         NaN   \n",
       "ELH2                                     NaN           NaN         NaN   \n",
       "UREA-SYN                                 NaN           NaN         NaN   \n",
       "HBNH3-ASU                                NaN           NaN         NaN   \n",
       "DAC                                      NaN           NaN         NaN   \n",
       "HEATPUMP-4-DAC                           NaN           NaN         NaN   \n",
       "MEOH-2-OLEF                              NaN           NaN         NaN   \n",
       "MEOH-SYN                                 NaN           NaN         NaN   \n",
       "\n",
       "part                                                                     ...  \\\n",
       "type                         demand:dri demand:graph_electr demand:lime  ...   \n",
       "tech           reheating                                                 ...   \n",
       "HOTROLL                             NaN                 NaN         NaN  ...   \n",
       "CAST                                NaN                 NaN         NaN  ...   \n",
       "EAF            w/ reheating       1.001            0.002125        0.05  ...   \n",
       "               w/o reheating      1.001            0.002125        0.05  ...   \n",
       "IDR                                 NaN                 NaN         NaN  ...   \n",
       "ELH2                                NaN                 NaN         NaN  ...   \n",
       "UREA-SYN                            NaN                 NaN         NaN  ...   \n",
       "HBNH3-ASU                           NaN                 NaN         NaN  ...   \n",
       "DAC                                 NaN                 NaN         NaN  ...   \n",
       "HEATPUMP-4-DAC                      NaN                 NaN         NaN  ...   \n",
       "MEOH-2-OLEF                         NaN                 NaN         NaN  ...   \n",
       "MEOH-SYN                            NaN                 NaN         NaN  ...   \n",
       "\n",
       "part                                                                      \\\n",
       "type                         fopex_spec   vopex demand:h2 demand:ironore   \n",
       "tech           reheating                                                   \n",
       "HOTROLL                             NaN     NaN       NaN            NaN   \n",
       "CAST                                NaN     NaN       NaN            NaN   \n",
       "EAF            w/ reheating       23.89     9.0       NaN            NaN   \n",
       "               w/o reheating      23.89     9.0       NaN            NaN   \n",
       "IDR                               12.42     NaN     1.886          1.444   \n",
       "ELH2                              1.735     NaN       NaN            NaN   \n",
       "UREA-SYN                            NaN     NaN       NaN            NaN   \n",
       "HBNH3-ASU                          10.7  3100.0     5.933            NaN   \n",
       "DAC                               23.86     NaN       NaN            NaN   \n",
       "HEATPUMP-4-DAC                     1.21     NaN       NaN            NaN   \n",
       "MEOH-2-OLEF                       29.85    20.0       NaN            NaN   \n",
       "MEOH-SYN                          8.192    25.0     6.441            NaN   \n",
       "\n",
       "part                                                                      \\\n",
       "type                         demand:water demand:co2 demand:nh3 lifetime   \n",
       "tech           reheating                                                   \n",
       "HOTROLL                               NaN        NaN        NaN      NaN   \n",
       "CAST                                  NaN        NaN        NaN      NaN   \n",
       "EAF            w/ reheating           NaN        NaN        NaN      NaN   \n",
       "               w/o reheating          NaN        NaN        NaN      NaN   \n",
       "IDR                                   NaN        NaN        NaN      NaN   \n",
       "ELH2                                0.285        NaN        NaN      NaN   \n",
       "UREA-SYN                              NaN     0.7442      0.575      NaN   \n",
       "HBNH3-ASU                             NaN        NaN        NaN      NaN   \n",
       "DAC                                   NaN        NaN        NaN     37.5   \n",
       "HEATPUMP-4-DAC                        NaN        NaN        NaN      NaN   \n",
       "MEOH-2-OLEF                           NaN        NaN        NaN      NaN   \n",
       "MEOH-SYN                              NaN      1.408        NaN     25.0   \n",
       "\n",
       "part                                              \n",
       "type                             ocf demand:meoh  \n",
       "tech           reheating                          \n",
       "HOTROLL                          NaN         NaN  \n",
       "CAST                             NaN         NaN  \n",
       "EAF            w/ reheating      NaN         NaN  \n",
       "               w/o reheating     NaN         NaN  \n",
       "IDR                              NaN         NaN  \n",
       "ELH2                             NaN         NaN  \n",
       "UREA-SYN                         NaN         NaN  \n",
       "HBNH3-ASU                        NaN         NaN  \n",
       "DAC                           0.9132         NaN  \n",
       "HEATPUMP-4-DAC                   NaN         NaN  \n",
       "MEOH-2-OLEF                      NaN        2.28  \n",
       "MEOH-SYN                         NaN         NaN  \n",
       "\n",
       "[12 rows x 24 columns]"
      ]
     },
     "execution_count": 12,
     "metadata": {},
     "output_type": "execute_result"
    }
   ],
   "source": [
    "pd.concat([\n",
    "        table.data.assign(tech=tid).reset_index(drop=(tid!='EAF'))\n",
    "        for tid, table in inputs['proc_tables'].items()\n",
    "    ]) \\\n",
    "    .fillna({'reheating': ''}) \\\n",
    "    .set_index(['tech', 'reheating'])"
   ]
  },
  {
   "cell_type": "markdown",
   "id": "22009dd6-0a34-4d62-9c78-030ad417f1f4",
   "metadata": {},
   "source": [
    "### Data processing and calculations"
   ]
  },
  {
   "cell_type": "markdown",
   "id": "74444cb4-fa19-47ee-bd0c-0e8bfb8b9927",
   "metadata": {},
   "source": [
    "##### Combine individual processes into value chains"
   ]
  },
  {
   "cell_type": "code",
   "execution_count": 13,
   "id": "efcb5256-fec2-4dfc-8adc-682eca3c36d7",
   "metadata": {},
   "outputs": [
    {
     "name": "stderr",
     "output_type": "stream",
     "text": [
      "/home/philippv/Documents/4-projects/02-green-value-chain/01-vcs/green-value-chains/.venv/lib/python3.11/site-packages/posted/utils/utils.py:13: PerformanceWarning: dropping on a non-lexsorted multi-index without a level parameter may impact performance.\n",
      "  ret = pd.merge(\n",
      "/home/philippv/Documents/4-projects/02-green-value-chain/01-vcs/green-value-chains/.venv/lib/python3.11/site-packages/posted/ted/TEProcessTreeDataTable.py:52: PerformanceWarning: indexing past lexsort depth may impact performance.\n",
      "  for colID in data['value', pDem].columns:\n",
      "/home/philippv/Documents/4-projects/02-green-value-chain/01-vcs/green-value-chains/.venv/lib/python3.11/site-packages/posted/ted/TEProcessTreeDataTable.py:52: PerformanceWarning: indexing past lexsort depth may impact performance.\n",
      "  for colID in data['value', pDem].columns:\n",
      "/home/philippv/Documents/4-projects/02-green-value-chain/01-vcs/green-value-chains/.venv/lib/python3.11/site-packages/posted/ted/TEProcessTreeDataTable.py:52: PerformanceWarning: indexing past lexsort depth may impact performance.\n",
      "  for colID in data['value', pDem].columns:\n",
      "/home/philippv/Documents/4-projects/02-green-value-chain/01-vcs/green-value-chains/.venv/lib/python3.11/site-packages/posted/ted/TEProcessTreeDataTable.py:52: PerformanceWarning: indexing past lexsort depth may impact performance.\n",
      "  for colID in data['value', pDem].columns:\n",
      "/home/philippv/Documents/4-projects/02-green-value-chain/01-vcs/green-value-chains/.venv/lib/python3.11/site-packages/posted/ted/TEProcessTreeDataTable.py:52: PerformanceWarning: indexing past lexsort depth may impact performance.\n",
      "  for colID in data['value', pDem].columns:\n",
      "/home/philippv/Documents/4-projects/02-green-value-chain/01-vcs/green-value-chains/.venv/lib/python3.11/site-packages/posted/ted/TEProcessTreeDataTable.py:52: PerformanceWarning: indexing past lexsort depth may impact performance.\n",
      "  for colID in data['value', pDem].columns:\n",
      "/home/philippv/Documents/4-projects/02-green-value-chain/01-vcs/green-value-chains/.venv/lib/python3.11/site-packages/posted/ted/TEProcessTreeDataTable.py:52: PerformanceWarning: indexing past lexsort depth may impact performance.\n",
      "  for colID in data['value', pDem].columns:\n",
      "/home/philippv/Documents/4-projects/02-green-value-chain/01-vcs/green-value-chains/.venv/lib/python3.11/site-packages/posted/ted/TEProcessTreeDataTable.py:52: PerformanceWarning: indexing past lexsort depth may impact performance.\n",
      "  for colID in data['value', pDem].columns:\n",
      "/home/philippv/Documents/4-projects/02-green-value-chain/01-vcs/green-value-chains/.venv/lib/python3.11/site-packages/posted/ted/TEProcessTreeDataTable.py:52: PerformanceWarning: indexing past lexsort depth may impact performance.\n",
      "  for colID in data['value', pDem].columns:\n",
      "/home/philippv/Documents/4-projects/02-green-value-chain/01-vcs/green-value-chains/.venv/lib/python3.11/site-packages/posted/ted/TEProcessTreeDataTable.py:52: PerformanceWarning: indexing past lexsort depth may impact performance.\n",
      "  for colID in data['value', pDem].columns:\n",
      "/home/philippv/Documents/4-projects/02-green-value-chain/01-vcs/green-value-chains/.venv/lib/python3.11/site-packages/posted/ted/TEProcessTreeDataTable.py:52: PerformanceWarning: indexing past lexsort depth may impact performance.\n",
      "  for colID in data['value', pDem].columns:\n",
      "/home/philippv/Documents/4-projects/02-green-value-chain/01-vcs/green-value-chains/.venv/lib/python3.11/site-packages/posted/ted/TEProcessTreeDataTable.py:52: PerformanceWarning: indexing past lexsort depth may impact performance.\n",
      "  for colID in data['value', pDem].columns:\n"
     ]
    }
   ],
   "source": [
    "from posted.ted.TEProcessTreeDataTable import TEProcessTreeDataTable\n",
    "\n",
    "inputs['vc_tables'] = {}\n",
    "for comm, details in vcs.items():\n",
    "    graph = vcs[comm]['graph']\n",
    "    t = TEProcessTreeDataTable(*(inputs['proc_tables'][tid] for tid in graph), processGraph=graph)\n",
    "\n",
    "    # map heat to electricity\n",
    "    allCols = []\n",
    "    for idx, cols in t.data.groupby(by=[c for c in t.data.columns.names if c != 'type'], axis=1):\n",
    "        cols = cols.copy()\n",
    "        if 'demand:heat' in cols.columns.get_level_values(level='type'):\n",
    "            cols[(*idx, 'demand:elec')] += cols[(*idx, 'demand:heat')].fillna(0)\n",
    "            cols = cols.drop(columns=[(*idx, 'demand:heat')])\n",
    "        allCols.append(cols)\n",
    "    t.data = pd.concat(allCols, axis=1)\n",
    "\n",
    "    inputs['vc_tables'][comm] = t"
   ]
  },
  {
   "cell_type": "code",
   "execution_count": 14,
   "id": "3b55df6f-39a7-4de0-8582-a515b26b3e88",
   "metadata": {},
   "outputs": [
    {
     "data": {
      "text/markdown": [
       "**Steel**"
      ],
      "text/plain": [
       "<IPython.core.display.Markdown object>"
      ]
     },
     "metadata": {},
     "output_type": "display_data"
    },
    {
     "data": {
      "text/html": [
       "<div>\n",
       "<style scoped>\n",
       "    .dataframe tbody tr th:only-of-type {\n",
       "        vertical-align: middle;\n",
       "    }\n",
       "\n",
       "    .dataframe tbody tr th {\n",
       "        vertical-align: top;\n",
       "    }\n",
       "\n",
       "    .dataframe thead tr th {\n",
       "        text-align: left;\n",
       "    }\n",
       "\n",
       "    .dataframe thead tr:last-of-type th {\n",
       "        text-align: right;\n",
       "    }\n",
       "</style>\n",
       "<table border=\"1\" class=\"dataframe\">\n",
       "  <thead>\n",
       "    <tr>\n",
       "      <th></th>\n",
       "      <th>part</th>\n",
       "      <th colspan=\"18\" halign=\"left\">value</th>\n",
       "    </tr>\n",
       "    <tr>\n",
       "      <th></th>\n",
       "      <th>type</th>\n",
       "      <th>capex</th>\n",
       "      <th>demand:alloys</th>\n",
       "      <th>demand:coal</th>\n",
       "      <th>demand:elec</th>\n",
       "      <th>demand:graph_electr</th>\n",
       "      <th>demand:ironore</th>\n",
       "      <th>demand:lime</th>\n",
       "      <th>demand:ng</th>\n",
       "      <th>demand:nitrogen</th>\n",
       "      <th>demand:oxygen</th>\n",
       "      <th>demand:steelscrap</th>\n",
       "      <th>demand:water</th>\n",
       "      <th>demand_sc:dri</th>\n",
       "      <th>demand_sc:h2</th>\n",
       "      <th>demand_sc:steelliq</th>\n",
       "      <th>demand_sc:steelslab</th>\n",
       "      <th>fopex_spec</th>\n",
       "      <th>vopex</th>\n",
       "    </tr>\n",
       "    <tr>\n",
       "      <th>reheating</th>\n",
       "      <th>process</th>\n",
       "      <th></th>\n",
       "      <th></th>\n",
       "      <th></th>\n",
       "      <th></th>\n",
       "      <th></th>\n",
       "      <th></th>\n",
       "      <th></th>\n",
       "      <th></th>\n",
       "      <th></th>\n",
       "      <th></th>\n",
       "      <th></th>\n",
       "      <th></th>\n",
       "      <th></th>\n",
       "      <th></th>\n",
       "      <th></th>\n",
       "      <th></th>\n",
       "      <th></th>\n",
       "      <th></th>\n",
       "    </tr>\n",
       "  </thead>\n",
       "  <tbody>\n",
       "    <tr>\n",
       "      <th rowspan=\"5\" valign=\"top\">w/ reheating</th>\n",
       "      <th>CAST</th>\n",
       "      <td>43.83639 EUR</td>\n",
       "      <td>NaN</td>\n",
       "      <td>NaN</td>\n",
       "      <td>0.017415567 MWh</td>\n",
       "      <td>NaN</td>\n",
       "      <td>NaN</td>\n",
       "      <td>NaN</td>\n",
       "      <td>NaN</td>\n",
       "      <td>NaN</td>\n",
       "      <td>NaN</td>\n",
       "      <td>NaN</td>\n",
       "      <td>NaN</td>\n",
       "      <td>NaN</td>\n",
       "      <td>NaN</td>\n",
       "      <td>1.0866959999999999 t</td>\n",
       "      <td>NaN</td>\n",
       "      <td>NaN</td>\n",
       "      <td>NaN</td>\n",
       "    </tr>\n",
       "    <tr>\n",
       "      <th>EAF</th>\n",
       "      <td>255.15622079999997 EUR</td>\n",
       "      <td>0.011953655999999998 t</td>\n",
       "      <td>0.19951738559999999 MWh</td>\n",
       "      <td>0.8471882015999999 MWh</td>\n",
       "      <td>0.002309229 t</td>\n",
       "      <td>NaN</td>\n",
       "      <td>0.054334799999999996 t</td>\n",
       "      <td>0.23548702319999998 MWh</td>\n",
       "      <td>0.5433479999999999 t</td>\n",
       "      <td>0.28232362079999995 t</td>\n",
       "      <td>0.20114742959999996 t</td>\n",
       "      <td>NaN</td>\n",
       "      <td>1.0877826959999997 t</td>\n",
       "      <td>NaN</td>\n",
       "      <td>NaN</td>\n",
       "      <td>NaN</td>\n",
       "      <td>25.961167439999997 EUR</td>\n",
       "      <td>9.780263999999999 EUR</td>\n",
       "    </tr>\n",
       "    <tr>\n",
       "      <th>ELH2</th>\n",
       "      <td>63.61881868598253 EUR</td>\n",
       "      <td>NaN</td>\n",
       "      <td>NaN</td>\n",
       "      <td>2.8947485703296145 MWh</td>\n",
       "      <td>NaN</td>\n",
       "      <td>NaN</td>\n",
       "      <td>NaN</td>\n",
       "      <td>NaN</td>\n",
       "      <td>NaN</td>\n",
       "      <td>NaN</td>\n",
       "      <td>NaN</td>\n",
       "      <td>0.5846940769269596 t</td>\n",
       "      <td>NaN</td>\n",
       "      <td>NaN</td>\n",
       "      <td>NaN</td>\n",
       "      <td>NaN</td>\n",
       "      <td>3.5594534156781585 EUR</td>\n",
       "      <td>NaN</td>\n",
       "    </tr>\n",
       "    <tr>\n",
       "      <th>HOTROLL</th>\n",
       "      <td>103.3 EUR</td>\n",
       "      <td>NaN</td>\n",
       "      <td>NaN</td>\n",
       "      <td>0.50902 MWh</td>\n",
       "      <td>NaN</td>\n",
       "      <td>NaN</td>\n",
       "      <td>NaN</td>\n",
       "      <td>NaN</td>\n",
       "      <td>NaN</td>\n",
       "      <td>NaN</td>\n",
       "      <td>NaN</td>\n",
       "      <td>NaN</td>\n",
       "      <td>NaN</td>\n",
       "      <td>NaN</td>\n",
       "      <td>NaN</td>\n",
       "      <td>1.053 t</td>\n",
       "      <td>NaN</td>\n",
       "      <td>NaN</td>\n",
       "    </tr>\n",
       "    <tr>\n",
       "      <th>IDR</th>\n",
       "      <td>348.8519106071999 EUR</td>\n",
       "      <td>NaN</td>\n",
       "      <td>NaN</td>\n",
       "      <td>0.6248115027554397 MWh</td>\n",
       "      <td>NaN</td>\n",
       "      <td>1.5707582130239994 t</td>\n",
       "      <td>NaN</td>\n",
       "      <td>0.5220269158103998 MWh</td>\n",
       "      <td>NaN</td>\n",
       "      <td>NaN</td>\n",
       "      <td>NaN</td>\n",
       "      <td>NaN</td>\n",
       "      <td>NaN</td>\n",
       "      <td>2.051558164655999 MWh</td>\n",
       "      <td>NaN</td>\n",
       "      <td>NaN</td>\n",
       "      <td>13.510261084319996 EUR</td>\n",
       "      <td>NaN</td>\n",
       "    </tr>\n",
       "    <tr>\n",
       "      <th rowspan=\"5\" valign=\"top\">w/o reheating</th>\n",
       "      <th>CAST</th>\n",
       "      <td>43.83639 EUR</td>\n",
       "      <td>NaN</td>\n",
       "      <td>NaN</td>\n",
       "      <td>0.017415567 MWh</td>\n",
       "      <td>NaN</td>\n",
       "      <td>NaN</td>\n",
       "      <td>NaN</td>\n",
       "      <td>NaN</td>\n",
       "      <td>NaN</td>\n",
       "      <td>NaN</td>\n",
       "      <td>NaN</td>\n",
       "      <td>NaN</td>\n",
       "      <td>NaN</td>\n",
       "      <td>NaN</td>\n",
       "      <td>1.0866959999999999 t</td>\n",
       "      <td>NaN</td>\n",
       "      <td>NaN</td>\n",
       "      <td>NaN</td>\n",
       "    </tr>\n",
       "    <tr>\n",
       "      <th>EAF</th>\n",
       "      <td>255.15622079999997 EUR</td>\n",
       "      <td>0.011953655999999998 t</td>\n",
       "      <td>0.19951738559999999 MWh</td>\n",
       "      <td>0.8039377007999999 MWh</td>\n",
       "      <td>0.002309229 t</td>\n",
       "      <td>NaN</td>\n",
       "      <td>0.054334799999999996 t</td>\n",
       "      <td>0.23548702319999998 MWh</td>\n",
       "      <td>0.5433479999999999 t</td>\n",
       "      <td>0.28232362079999995 t</td>\n",
       "      <td>0.20114742959999996 t</td>\n",
       "      <td>NaN</td>\n",
       "      <td>1.0877826959999997 t</td>\n",
       "      <td>NaN</td>\n",
       "      <td>NaN</td>\n",
       "      <td>NaN</td>\n",
       "      <td>25.961167439999997 EUR</td>\n",
       "      <td>9.780263999999999 EUR</td>\n",
       "    </tr>\n",
       "    <tr>\n",
       "      <th>ELH2</th>\n",
       "      <td>63.61881868598253 EUR</td>\n",
       "      <td>NaN</td>\n",
       "      <td>NaN</td>\n",
       "      <td>2.8947485703296145 MWh</td>\n",
       "      <td>NaN</td>\n",
       "      <td>NaN</td>\n",
       "      <td>NaN</td>\n",
       "      <td>NaN</td>\n",
       "      <td>NaN</td>\n",
       "      <td>NaN</td>\n",
       "      <td>NaN</td>\n",
       "      <td>0.5846940769269596 t</td>\n",
       "      <td>NaN</td>\n",
       "      <td>NaN</td>\n",
       "      <td>NaN</td>\n",
       "      <td>NaN</td>\n",
       "      <td>3.5594534156781585 EUR</td>\n",
       "      <td>NaN</td>\n",
       "    </tr>\n",
       "    <tr>\n",
       "      <th>HOTROLL</th>\n",
       "      <td>103.3 EUR</td>\n",
       "      <td>NaN</td>\n",
       "      <td>NaN</td>\n",
       "      <td>0.50902 MWh</td>\n",
       "      <td>NaN</td>\n",
       "      <td>NaN</td>\n",
       "      <td>NaN</td>\n",
       "      <td>NaN</td>\n",
       "      <td>NaN</td>\n",
       "      <td>NaN</td>\n",
       "      <td>NaN</td>\n",
       "      <td>NaN</td>\n",
       "      <td>NaN</td>\n",
       "      <td>NaN</td>\n",
       "      <td>NaN</td>\n",
       "      <td>1.053 t</td>\n",
       "      <td>NaN</td>\n",
       "      <td>NaN</td>\n",
       "    </tr>\n",
       "    <tr>\n",
       "      <th>IDR</th>\n",
       "      <td>348.8519106071999 EUR</td>\n",
       "      <td>NaN</td>\n",
       "      <td>NaN</td>\n",
       "      <td>0.6248115027554397 MWh</td>\n",
       "      <td>NaN</td>\n",
       "      <td>1.5707582130239994 t</td>\n",
       "      <td>NaN</td>\n",
       "      <td>0.5220269158103998 MWh</td>\n",
       "      <td>NaN</td>\n",
       "      <td>NaN</td>\n",
       "      <td>NaN</td>\n",
       "      <td>NaN</td>\n",
       "      <td>NaN</td>\n",
       "      <td>2.051558164655999 MWh</td>\n",
       "      <td>NaN</td>\n",
       "      <td>NaN</td>\n",
       "      <td>13.510261084319996 EUR</td>\n",
       "      <td>NaN</td>\n",
       "    </tr>\n",
       "  </tbody>\n",
       "</table>\n",
       "</div>"
      ],
      "text/plain": [
       "part                                    value                          \\\n",
       "type                                    capex           demand:alloys   \n",
       "reheating     process                                                   \n",
       "w/ reheating  CAST               43.83639 EUR                     NaN   \n",
       "              EAF      255.15622079999997 EUR  0.011953655999999998 t   \n",
       "              ELH2      63.61881868598253 EUR                     NaN   \n",
       "              HOTROLL               103.3 EUR                     NaN   \n",
       "              IDR       348.8519106071999 EUR                     NaN   \n",
       "w/o reheating CAST               43.83639 EUR                     NaN   \n",
       "              EAF      255.15622079999997 EUR  0.011953655999999998 t   \n",
       "              ELH2      63.61881868598253 EUR                     NaN   \n",
       "              HOTROLL               103.3 EUR                     NaN   \n",
       "              IDR       348.8519106071999 EUR                     NaN   \n",
       "\n",
       "part                                                                    \\\n",
       "type                               demand:coal             demand:elec   \n",
       "reheating     process                                                    \n",
       "w/ reheating  CAST                         NaN         0.017415567 MWh   \n",
       "              EAF      0.19951738559999999 MWh  0.8471882015999999 MWh   \n",
       "              ELH2                         NaN  2.8947485703296145 MWh   \n",
       "              HOTROLL                      NaN             0.50902 MWh   \n",
       "              IDR                          NaN  0.6248115027554397 MWh   \n",
       "w/o reheating CAST                         NaN         0.017415567 MWh   \n",
       "              EAF      0.19951738559999999 MWh  0.8039377007999999 MWh   \n",
       "              ELH2                         NaN  2.8947485703296145 MWh   \n",
       "              HOTROLL                      NaN             0.50902 MWh   \n",
       "              IDR                          NaN  0.6248115027554397 MWh   \n",
       "\n",
       "part                                                             \\\n",
       "type                  demand:graph_electr        demand:ironore   \n",
       "reheating     process                                             \n",
       "w/ reheating  CAST                    NaN                   NaN   \n",
       "              EAF           0.002309229 t                   NaN   \n",
       "              ELH2                    NaN                   NaN   \n",
       "              HOTROLL                 NaN                   NaN   \n",
       "              IDR                     NaN  1.5707582130239994 t   \n",
       "w/o reheating CAST                    NaN                   NaN   \n",
       "              EAF           0.002309229 t                   NaN   \n",
       "              ELH2                    NaN                   NaN   \n",
       "              HOTROLL                 NaN                   NaN   \n",
       "              IDR                     NaN  1.5707582130239994 t   \n",
       "\n",
       "part                                                                    \\\n",
       "type                              demand:lime                demand:ng   \n",
       "reheating     process                                                    \n",
       "w/ reheating  CAST                        NaN                      NaN   \n",
       "              EAF      0.054334799999999996 t  0.23548702319999998 MWh   \n",
       "              ELH2                        NaN                      NaN   \n",
       "              HOTROLL                     NaN                      NaN   \n",
       "              IDR                         NaN   0.5220269158103998 MWh   \n",
       "w/o reheating CAST                        NaN                      NaN   \n",
       "              EAF      0.054334799999999996 t  0.23548702319999998 MWh   \n",
       "              ELH2                        NaN                      NaN   \n",
       "              HOTROLL                     NaN                      NaN   \n",
       "              IDR                         NaN   0.5220269158103998 MWh   \n",
       "\n",
       "part                                                                \\\n",
       "type                        demand:nitrogen          demand:oxygen   \n",
       "reheating     process                                                \n",
       "w/ reheating  CAST                      NaN                    NaN   \n",
       "              EAF      0.5433479999999999 t  0.28232362079999995 t   \n",
       "              ELH2                      NaN                    NaN   \n",
       "              HOTROLL                   NaN                    NaN   \n",
       "              IDR                       NaN                    NaN   \n",
       "w/o reheating CAST                      NaN                    NaN   \n",
       "              EAF      0.5433479999999999 t  0.28232362079999995 t   \n",
       "              ELH2                      NaN                    NaN   \n",
       "              HOTROLL                   NaN                    NaN   \n",
       "              IDR                       NaN                    NaN   \n",
       "\n",
       "part                                                                \\\n",
       "type                       demand:steelscrap          demand:water   \n",
       "reheating     process                                                \n",
       "w/ reheating  CAST                       NaN                   NaN   \n",
       "              EAF      0.20114742959999996 t                   NaN   \n",
       "              ELH2                       NaN  0.5846940769269596 t   \n",
       "              HOTROLL                    NaN                   NaN   \n",
       "              IDR                        NaN                   NaN   \n",
       "w/o reheating CAST                       NaN                   NaN   \n",
       "              EAF      0.20114742959999996 t                   NaN   \n",
       "              ELH2                       NaN  0.5846940769269596 t   \n",
       "              HOTROLL                    NaN                   NaN   \n",
       "              IDR                        NaN                   NaN   \n",
       "\n",
       "part                                                                \\\n",
       "type                          demand_sc:dri           demand_sc:h2   \n",
       "reheating     process                                                \n",
       "w/ reheating  CAST                      NaN                    NaN   \n",
       "              EAF      1.0877826959999997 t                    NaN   \n",
       "              ELH2                      NaN                    NaN   \n",
       "              HOTROLL                   NaN                    NaN   \n",
       "              IDR                       NaN  2.051558164655999 MWh   \n",
       "w/o reheating CAST                      NaN                    NaN   \n",
       "              EAF      1.0877826959999997 t                    NaN   \n",
       "              ELH2                      NaN                    NaN   \n",
       "              HOTROLL                   NaN                    NaN   \n",
       "              IDR                       NaN  2.051558164655999 MWh   \n",
       "\n",
       "part                                                             \\\n",
       "type                     demand_sc:steelliq demand_sc:steelslab   \n",
       "reheating     process                                             \n",
       "w/ reheating  CAST     1.0866959999999999 t                 NaN   \n",
       "              EAF                       NaN                 NaN   \n",
       "              ELH2                      NaN                 NaN   \n",
       "              HOTROLL                   NaN             1.053 t   \n",
       "              IDR                       NaN                 NaN   \n",
       "w/o reheating CAST     1.0866959999999999 t                 NaN   \n",
       "              EAF                       NaN                 NaN   \n",
       "              ELH2                      NaN                 NaN   \n",
       "              HOTROLL                   NaN             1.053 t   \n",
       "              IDR                       NaN                 NaN   \n",
       "\n",
       "part                                                                  \n",
       "type                               fopex_spec                  vopex  \n",
       "reheating     process                                                 \n",
       "w/ reheating  CAST                        NaN                    NaN  \n",
       "              EAF      25.961167439999997 EUR  9.780263999999999 EUR  \n",
       "              ELH2     3.5594534156781585 EUR                    NaN  \n",
       "              HOTROLL                     NaN                    NaN  \n",
       "              IDR      13.510261084319996 EUR                    NaN  \n",
       "w/o reheating CAST                        NaN                    NaN  \n",
       "              EAF      25.961167439999997 EUR  9.780263999999999 EUR  \n",
       "              ELH2     3.5594534156781585 EUR                    NaN  \n",
       "              HOTROLL                     NaN                    NaN  \n",
       "              IDR      13.510261084319996 EUR                    NaN  "
      ]
     },
     "metadata": {},
     "output_type": "display_data"
    },
    {
     "data": {
      "text/markdown": [
       "**Urea**"
      ],
      "text/plain": [
       "<IPython.core.display.Markdown object>"
      ]
     },
     "metadata": {},
     "output_type": "display_data"
    },
    {
     "data": {
      "text/html": [
       "<div>\n",
       "<style scoped>\n",
       "    .dataframe tbody tr th:only-of-type {\n",
       "        vertical-align: middle;\n",
       "    }\n",
       "\n",
       "    .dataframe tbody tr th {\n",
       "        vertical-align: top;\n",
       "    }\n",
       "\n",
       "    .dataframe thead tr th {\n",
       "        text-align: left;\n",
       "    }\n",
       "\n",
       "    .dataframe thead tr:last-of-type th {\n",
       "        text-align: right;\n",
       "    }\n",
       "</style>\n",
       "<table border=\"1\" class=\"dataframe\">\n",
       "  <thead>\n",
       "    <tr>\n",
       "      <th></th>\n",
       "      <th>part</th>\n",
       "      <th colspan=\"11\" halign=\"left\">value</th>\n",
       "    </tr>\n",
       "    <tr>\n",
       "      <th></th>\n",
       "      <th>type</th>\n",
       "      <th>capex</th>\n",
       "      <th>demand:elec</th>\n",
       "      <th>demand:water</th>\n",
       "      <th>demand_sc:co2</th>\n",
       "      <th>demand_sc:h2</th>\n",
       "      <th>demand_sc:heat</th>\n",
       "      <th>demand_sc:nh3</th>\n",
       "      <th>fopex_spec</th>\n",
       "      <th>lifetime</th>\n",
       "      <th>ocf</th>\n",
       "      <th>vopex</th>\n",
       "    </tr>\n",
       "    <tr>\n",
       "      <th></th>\n",
       "      <th>process</th>\n",
       "      <th></th>\n",
       "      <th></th>\n",
       "      <th></th>\n",
       "      <th></th>\n",
       "      <th></th>\n",
       "      <th></th>\n",
       "      <th></th>\n",
       "      <th></th>\n",
       "      <th></th>\n",
       "      <th></th>\n",
       "      <th></th>\n",
       "    </tr>\n",
       "  </thead>\n",
       "  <tbody>\n",
       "    <tr>\n",
       "      <th rowspan=\"5\" valign=\"top\">0</th>\n",
       "      <th>DAC</th>\n",
       "      <td>129.1187 EUR</td>\n",
       "      <td>0.7828984 MWh</td>\n",
       "      <td>NaN</td>\n",
       "      <td>NaN</td>\n",
       "      <td>NaN</td>\n",
       "      <td>1.6826362000000001 MWh</td>\n",
       "      <td>NaN</td>\n",
       "      <td>17.756612 EUR</td>\n",
       "      <td>37.5 a</td>\n",
       "      <td>0.9132</td>\n",
       "      <td>NaN</td>\n",
       "    </tr>\n",
       "    <tr>\n",
       "      <th>ELH2</th>\n",
       "      <td>105.78983975 EUR</td>\n",
       "      <td>4.813591225 MWh</td>\n",
       "      <td>0.9722703749999999 t</td>\n",
       "      <td>NaN</td>\n",
       "      <td>NaN</td>\n",
       "      <td>NaN</td>\n",
       "      <td>NaN</td>\n",
       "      <td>5.918909125 EUR</td>\n",
       "      <td>NaN</td>\n",
       "      <td>NaN</td>\n",
       "      <td>NaN</td>\n",
       "    </tr>\n",
       "    <tr>\n",
       "      <th>HBNH3-ASU</th>\n",
       "      <td>256.565 EUR</td>\n",
       "      <td>0.47379999999999994 MWh</td>\n",
       "      <td>NaN</td>\n",
       "      <td>NaN</td>\n",
       "      <td>3.411475 MWh</td>\n",
       "      <td>NaN</td>\n",
       "      <td>NaN</td>\n",
       "      <td>6.152499999999999 EUR</td>\n",
       "      <td>NaN</td>\n",
       "      <td>NaN</td>\n",
       "      <td>1782.4999999999998 EUR</td>\n",
       "    </tr>\n",
       "    <tr>\n",
       "      <th>HEATPUMP-4-DAC</th>\n",
       "      <td>112.080397282 EUR</td>\n",
       "      <td>0.5123627229000001 MWh</td>\n",
       "      <td>NaN</td>\n",
       "      <td>NaN</td>\n",
       "      <td>NaN</td>\n",
       "      <td>NaN</td>\n",
       "      <td>NaN</td>\n",
       "      <td>2.035989802 EUR</td>\n",
       "      <td>NaN</td>\n",
       "      <td>NaN</td>\n",
       "      <td>NaN</td>\n",
       "    </tr>\n",
       "    <tr>\n",
       "      <th>UREA-SYN</th>\n",
       "      <td>213.0 EUR</td>\n",
       "      <td>1.0465 MWh</td>\n",
       "      <td>NaN</td>\n",
       "      <td>0.7442 t</td>\n",
       "      <td>NaN</td>\n",
       "      <td>NaN</td>\n",
       "      <td>0.575 t</td>\n",
       "      <td>NaN</td>\n",
       "      <td>NaN</td>\n",
       "      <td>NaN</td>\n",
       "      <td>NaN</td>\n",
       "    </tr>\n",
       "  </tbody>\n",
       "</table>\n",
       "</div>"
      ],
      "text/plain": [
       "part                          value                           \\\n",
       "type                          capex              demand:elec   \n",
       "  process                                                      \n",
       "0 DAC                  129.1187 EUR            0.7828984 MWh   \n",
       "  ELH2             105.78983975 EUR          4.813591225 MWh   \n",
       "  HBNH3-ASU             256.565 EUR  0.47379999999999994 MWh   \n",
       "  HEATPUMP-4-DAC  112.080397282 EUR   0.5123627229000001 MWh   \n",
       "  UREA-SYN                213.0 EUR               1.0465 MWh   \n",
       "\n",
       "part                                                                \\\n",
       "type                      demand:water demand_sc:co2  demand_sc:h2   \n",
       "  process                                                            \n",
       "0 DAC                              NaN           NaN           NaN   \n",
       "  ELH2            0.9722703749999999 t           NaN           NaN   \n",
       "  HBNH3-ASU                        NaN           NaN  3.411475 MWh   \n",
       "  HEATPUMP-4-DAC                   NaN           NaN           NaN   \n",
       "  UREA-SYN                         NaN      0.7442 t           NaN   \n",
       "\n",
       "part                                                                           \\\n",
       "type                      demand_sc:heat demand_sc:nh3             fopex_spec   \n",
       "  process                                                                       \n",
       "0 DAC             1.6826362000000001 MWh           NaN          17.756612 EUR   \n",
       "  ELH2                               NaN           NaN        5.918909125 EUR   \n",
       "  HBNH3-ASU                          NaN           NaN  6.152499999999999 EUR   \n",
       "  HEATPUMP-4-DAC                     NaN           NaN        2.035989802 EUR   \n",
       "  UREA-SYN                           NaN       0.575 t                    NaN   \n",
       "\n",
       "part                                                       \n",
       "type             lifetime     ocf                   vopex  \n",
       "  process                                                  \n",
       "0 DAC              37.5 a  0.9132                     NaN  \n",
       "  ELH2                NaN     NaN                     NaN  \n",
       "  HBNH3-ASU           NaN     NaN  1782.4999999999998 EUR  \n",
       "  HEATPUMP-4-DAC      NaN     NaN                     NaN  \n",
       "  UREA-SYN            NaN     NaN                     NaN  "
      ]
     },
     "metadata": {},
     "output_type": "display_data"
    },
    {
     "data": {
      "text/markdown": [
       "**Ethylene**"
      ],
      "text/plain": [
       "<IPython.core.display.Markdown object>"
      ]
     },
     "metadata": {},
     "output_type": "display_data"
    },
    {
     "data": {
      "text/html": [
       "<div>\n",
       "<style scoped>\n",
       "    .dataframe tbody tr th:only-of-type {\n",
       "        vertical-align: middle;\n",
       "    }\n",
       "\n",
       "    .dataframe tbody tr th {\n",
       "        vertical-align: top;\n",
       "    }\n",
       "\n",
       "    .dataframe thead tr th {\n",
       "        text-align: left;\n",
       "    }\n",
       "\n",
       "    .dataframe thead tr:last-of-type th {\n",
       "        text-align: right;\n",
       "    }\n",
       "</style>\n",
       "<table border=\"1\" class=\"dataframe\">\n",
       "  <thead>\n",
       "    <tr>\n",
       "      <th></th>\n",
       "      <th>part</th>\n",
       "      <th colspan=\"11\" halign=\"left\">value</th>\n",
       "    </tr>\n",
       "    <tr>\n",
       "      <th></th>\n",
       "      <th>type</th>\n",
       "      <th>capex</th>\n",
       "      <th>demand:elec</th>\n",
       "      <th>demand:water</th>\n",
       "      <th>demand_sc:co2</th>\n",
       "      <th>demand_sc:h2</th>\n",
       "      <th>demand_sc:heat</th>\n",
       "      <th>demand_sc:meoh</th>\n",
       "      <th>fopex_spec</th>\n",
       "      <th>lifetime</th>\n",
       "      <th>ocf</th>\n",
       "      <th>vopex</th>\n",
       "    </tr>\n",
       "    <tr>\n",
       "      <th></th>\n",
       "      <th>process</th>\n",
       "      <th></th>\n",
       "      <th></th>\n",
       "      <th></th>\n",
       "      <th></th>\n",
       "      <th></th>\n",
       "      <th></th>\n",
       "      <th></th>\n",
       "      <th></th>\n",
       "      <th></th>\n",
       "      <th></th>\n",
       "      <th></th>\n",
       "    </tr>\n",
       "  </thead>\n",
       "  <tbody>\n",
       "    <tr>\n",
       "      <th rowspan=\"5\" valign=\"top\">0</th>\n",
       "      <th>DAC</th>\n",
       "      <td>556.97664 EUR</td>\n",
       "      <td>3.37717248 MWh</td>\n",
       "      <td>NaN</td>\n",
       "      <td>NaN</td>\n",
       "      <td>NaN</td>\n",
       "      <td>7.25835264 MWh</td>\n",
       "      <td>NaN</td>\n",
       "      <td>76.5963264 EUR</td>\n",
       "      <td>37.5 a</td>\n",
       "      <td>0.9132</td>\n",
       "      <td>NaN</td>\n",
       "    </tr>\n",
       "    <tr>\n",
       "      <th>ELH2</th>\n",
       "      <td>455.3967348 EUR</td>\n",
       "      <td>20.72121228 MWh</td>\n",
       "      <td>4.185361799999999 t</td>\n",
       "      <td>NaN</td>\n",
       "      <td>NaN</td>\n",
       "      <td>NaN</td>\n",
       "      <td>NaN</td>\n",
       "      <td>25.479307799999997 EUR</td>\n",
       "      <td>NaN</td>\n",
       "      <td>NaN</td>\n",
       "      <td>NaN</td>\n",
       "    </tr>\n",
       "    <tr>\n",
       "      <th>HEATPUMP-4-DAC</th>\n",
       "      <td>483.4788693504 EUR</td>\n",
       "      <td>2.21016837888 MWh</td>\n",
       "      <td>NaN</td>\n",
       "      <td>NaN</td>\n",
       "      <td>NaN</td>\n",
       "      <td>NaN</td>\n",
       "      <td>NaN</td>\n",
       "      <td>8.7826066944 EUR</td>\n",
       "      <td>NaN</td>\n",
       "      <td>NaN</td>\n",
       "      <td>NaN</td>\n",
       "    </tr>\n",
       "    <tr>\n",
       "      <th>MEOH-2-OLEF</th>\n",
       "      <td>395.1 EUR</td>\n",
       "      <td>1.389 MWh</td>\n",
       "      <td>NaN</td>\n",
       "      <td>NaN</td>\n",
       "      <td>NaN</td>\n",
       "      <td>NaN</td>\n",
       "      <td>2.28 t</td>\n",
       "      <td>29.85 EUR</td>\n",
       "      <td>NaN</td>\n",
       "      <td>NaN</td>\n",
       "      <td>20.0 EUR</td>\n",
       "    </tr>\n",
       "    <tr>\n",
       "      <th>MEOH-SYN</th>\n",
       "      <td>810.084 EUR</td>\n",
       "      <td>4.8792 MWh</td>\n",
       "      <td>NaN</td>\n",
       "      <td>3.2102399999999998 t</td>\n",
       "      <td>14.685479999999998 MWh</td>\n",
       "      <td>NaN</td>\n",
       "      <td>NaN</td>\n",
       "      <td>18.67776 EUR</td>\n",
       "      <td>25.0 a</td>\n",
       "      <td>NaN</td>\n",
       "      <td>56.99999999999999 EUR</td>\n",
       "    </tr>\n",
       "  </tbody>\n",
       "</table>\n",
       "</div>"
      ],
      "text/plain": [
       "part                           value                                          \\\n",
       "type                           capex        demand:elec         demand:water   \n",
       "  process                                                                      \n",
       "0 DAC                  556.97664 EUR     3.37717248 MWh                  NaN   \n",
       "  ELH2               455.3967348 EUR    20.72121228 MWh  4.185361799999999 t   \n",
       "  HEATPUMP-4-DAC  483.4788693504 EUR  2.21016837888 MWh                  NaN   \n",
       "  MEOH-2-OLEF              395.1 EUR          1.389 MWh                  NaN   \n",
       "  MEOH-SYN               810.084 EUR         4.8792 MWh                  NaN   \n",
       "\n",
       "part                                                            \\\n",
       "type                     demand_sc:co2            demand_sc:h2   \n",
       "  process                                                        \n",
       "0 DAC                              NaN                     NaN   \n",
       "  ELH2                             NaN                     NaN   \n",
       "  HEATPUMP-4-DAC                   NaN                     NaN   \n",
       "  MEOH-2-OLEF                      NaN                     NaN   \n",
       "  MEOH-SYN        3.2102399999999998 t  14.685479999999998 MWh   \n",
       "\n",
       "part                                                                     \\\n",
       "type              demand_sc:heat demand_sc:meoh              fopex_spec   \n",
       "  process                                                                 \n",
       "0 DAC             7.25835264 MWh            NaN          76.5963264 EUR   \n",
       "  ELH2                       NaN            NaN  25.479307799999997 EUR   \n",
       "  HEATPUMP-4-DAC             NaN            NaN        8.7826066944 EUR   \n",
       "  MEOH-2-OLEF                NaN         2.28 t               29.85 EUR   \n",
       "  MEOH-SYN                   NaN            NaN            18.67776 EUR   \n",
       "\n",
       "part                                                      \n",
       "type             lifetime     ocf                  vopex  \n",
       "  process                                                 \n",
       "0 DAC              37.5 a  0.9132                    NaN  \n",
       "  ELH2                NaN     NaN                    NaN  \n",
       "  HEATPUMP-4-DAC      NaN     NaN                    NaN  \n",
       "  MEOH-2-OLEF         NaN     NaN               20.0 EUR  \n",
       "  MEOH-SYN         25.0 a     NaN  56.99999999999999 EUR  "
      ]
     },
     "metadata": {},
     "output_type": "display_data"
    }
   ],
   "source": [
    "for comm, table in inputs['vc_tables'].items():\n",
    "    display(Markdown(f\"**{comm}**\"))\n",
    "    display(table.data.stack('process'))"
   ]
  },
  {
   "cell_type": "markdown",
   "id": "4e59655b-33fc-4339-b313-b992168cdc6c",
   "metadata": {},
   "source": [
    "##### Combine with other assumptions"
   ]
  },
  {
   "cell_type": "code",
   "execution_count": 15,
   "id": "377517e8-3b30-47d4-801b-ebb33535bc08",
   "metadata": {},
   "outputs": [
    {
     "data": {
      "text/html": [
       "<div>\n",
       "<style scoped>\n",
       "    .dataframe tbody tr th:only-of-type {\n",
       "        vertical-align: middle;\n",
       "    }\n",
       "\n",
       "    .dataframe tbody tr th {\n",
       "        vertical-align: top;\n",
       "    }\n",
       "\n",
       "    .dataframe thead tr th {\n",
       "        text-align: left;\n",
       "    }\n",
       "</style>\n",
       "<table border=\"1\" class=\"dataframe\">\n",
       "  <thead>\n",
       "    <tr>\n",
       "      <th>process</th>\n",
       "      <th>CAST</th>\n",
       "      <th>EAF</th>\n",
       "      <th>ELH2</th>\n",
       "      <th>HOTROLL</th>\n",
       "      <th>IDR</th>\n",
       "    </tr>\n",
       "    <tr>\n",
       "      <th>type</th>\n",
       "      <th>ocf</th>\n",
       "      <th>ocf</th>\n",
       "      <th>ocf</th>\n",
       "      <th>ocf</th>\n",
       "      <th>ocf</th>\n",
       "    </tr>\n",
       "  </thead>\n",
       "  <tbody>\n",
       "    <tr>\n",
       "      <th>0</th>\n",
       "      <td>0.95</td>\n",
       "      <td>0.95</td>\n",
       "      <td>0.5</td>\n",
       "      <td>0.95</td>\n",
       "      <td>0.95</td>\n",
       "    </tr>\n",
       "  </tbody>\n",
       "</table>\n",
       "</div>"
      ],
      "text/plain": [
       "process  CAST   EAF ELH2 HOTROLL   IDR\n",
       "type      ocf   ocf  ocf     ocf   ocf\n",
       "0        0.95  0.95  0.5    0.95  0.95"
      ]
     },
     "metadata": {},
     "output_type": "display_data"
    },
    {
     "data": {
      "text/html": [
       "<div>\n",
       "<style scoped>\n",
       "    .dataframe tbody tr th:only-of-type {\n",
       "        vertical-align: middle;\n",
       "    }\n",
       "\n",
       "    .dataframe tbody tr th {\n",
       "        vertical-align: top;\n",
       "    }\n",
       "\n",
       "    .dataframe thead tr th {\n",
       "        text-align: left;\n",
       "    }\n",
       "</style>\n",
       "<table border=\"1\" class=\"dataframe\">\n",
       "  <thead>\n",
       "    <tr>\n",
       "      <th>process</th>\n",
       "      <th>DAC</th>\n",
       "      <th>ELH2</th>\n",
       "      <th>HBNH3-ASU</th>\n",
       "      <th>HEATPUMP-4-DAC</th>\n",
       "      <th>UREA-SYN</th>\n",
       "    </tr>\n",
       "    <tr>\n",
       "      <th>type</th>\n",
       "      <th>ocf</th>\n",
       "      <th>ocf</th>\n",
       "      <th>ocf</th>\n",
       "      <th>ocf</th>\n",
       "      <th>ocf</th>\n",
       "    </tr>\n",
       "  </thead>\n",
       "  <tbody>\n",
       "    <tr>\n",
       "      <th>0</th>\n",
       "      <td>0.95</td>\n",
       "      <td>0.5</td>\n",
       "      <td>0.95</td>\n",
       "      <td>0.95</td>\n",
       "      <td>0.95</td>\n",
       "    </tr>\n",
       "  </tbody>\n",
       "</table>\n",
       "</div>"
      ],
      "text/plain": [
       "process   DAC ELH2 HBNH3-ASU HEATPUMP-4-DAC UREA-SYN\n",
       "type      ocf  ocf       ocf            ocf      ocf\n",
       "0        0.95  0.5      0.95           0.95     0.95"
      ]
     },
     "metadata": {},
     "output_type": "display_data"
    },
    {
     "data": {
      "text/html": [
       "<div>\n",
       "<style scoped>\n",
       "    .dataframe tbody tr th:only-of-type {\n",
       "        vertical-align: middle;\n",
       "    }\n",
       "\n",
       "    .dataframe tbody tr th {\n",
       "        vertical-align: top;\n",
       "    }\n",
       "\n",
       "    .dataframe thead tr th {\n",
       "        text-align: left;\n",
       "    }\n",
       "</style>\n",
       "<table border=\"1\" class=\"dataframe\">\n",
       "  <thead>\n",
       "    <tr>\n",
       "      <th>process</th>\n",
       "      <th>DAC</th>\n",
       "      <th>ELH2</th>\n",
       "      <th>HEATPUMP-4-DAC</th>\n",
       "      <th>MEOH-2-OLEF</th>\n",
       "      <th>MEOH-SYN</th>\n",
       "    </tr>\n",
       "    <tr>\n",
       "      <th>type</th>\n",
       "      <th>ocf</th>\n",
       "      <th>ocf</th>\n",
       "      <th>ocf</th>\n",
       "      <th>ocf</th>\n",
       "      <th>ocf</th>\n",
       "    </tr>\n",
       "  </thead>\n",
       "  <tbody>\n",
       "    <tr>\n",
       "      <th>0</th>\n",
       "      <td>0.95</td>\n",
       "      <td>0.5</td>\n",
       "      <td>0.95</td>\n",
       "      <td>0.95</td>\n",
       "      <td>0.95</td>\n",
       "    </tr>\n",
       "  </tbody>\n",
       "</table>\n",
       "</div>"
      ],
      "text/plain": [
       "process   DAC ELH2 HEATPUMP-4-DAC MEOH-2-OLEF MEOH-SYN\n",
       "type      ocf  ocf            ocf         ocf      ocf\n",
       "0        0.95  0.5           0.95        0.95     0.95"
      ]
     },
     "metadata": {},
     "output_type": "display_data"
    }
   ],
   "source": [
    "# add OCF and other prices (all except electricity) to tables\n",
    "for comm, table in inputs['vc_tables'].items():\n",
    "    # other prices\n",
    "    assumpOther = inputs['other_prices']\n",
    "\n",
    "    # ocf assumptions\n",
    "    assumpOCF = pd.DataFrame(\n",
    "        columns=pd.MultiIndex.from_product([table.data.columns.unique('process'), ['ocf']], names=['process', 'type']),\n",
    "        index=[0],\n",
    "        data=inputs['other_assump']['ocf']['default'],\n",
    "    )\n",
    "    assumpOCF['ELH2', 'ocf'] = inputs['other_assump']['ocf']['ELH2']\n",
    "    display(assumpOCF)\n",
    "\n",
    "    # add assumptions to tables\n",
    "    inputs['vc_tables'][comm] = table \\\n",
    "        .assume(assumpOCF) \\\n",
    "        .assume(assumpOther)"
   ]
  },
  {
   "cell_type": "markdown",
   "id": "6a5487ae-b11f-4cd8-b3a0-0ebb1866932d",
   "metadata": {},
   "source": [
    "### Process data"
   ]
  },
  {
   "cell_type": "code",
   "execution_count": 16,
   "id": "6f2e29a4-6daa-4a16-9629-4553a8ebd765",
   "metadata": {},
   "outputs": [
    {
     "name": "stderr",
     "output_type": "stream",
     "text": [
      "/home/philippv/Documents/4-projects/02-green-value-chain/01-vcs/green-value-chains/.venv/lib/python3.11/site-packages/posted/utils/utils.py:13: PerformanceWarning: dropping on a non-lexsorted multi-index without a level parameter may impact performance.\n",
      "  ret = pd.merge(\n",
      "/home/philippv/Documents/4-projects/02-green-value-chain/01-vcs/green-value-chains/.venv/lib/python3.11/site-packages/posted/utils/utils.py:13: PerformanceWarning: dropping on a non-lexsorted multi-index without a level parameter may impact performance.\n",
      "  ret = pd.merge(\n",
      "/home/philippv/Documents/4-projects/02-green-value-chain/01-vcs/green-value-chains/.venv/lib/python3.11/site-packages/posted/utils/utils.py:13: PerformanceWarning: dropping on a non-lexsorted multi-index without a level parameter may impact performance.\n",
      "  ret = pd.merge(\n",
      "/home/philippv/Documents/4-projects/02-green-value-chain/01-vcs/green-value-chains/.venv/lib/python3.11/site-packages/numpy/lib/function_base.py:2455: RuntimeWarning: invalid value encountered in <lambda> (vectorized)\n",
      "  outputs = ufunc(*inputs)\n",
      "/home/philippv/Documents/4-projects/02-green-value-chain/01-vcs/green-value-chains/.venv/lib/python3.11/site-packages/numpy/lib/function_base.py:2455: RuntimeWarning: invalid value encountered in <lambda> (vectorized)\n",
      "  outputs = ufunc(*inputs)\n",
      "/home/philippv/Documents/4-projects/02-green-value-chain/01-vcs/green-value-chains/.venv/lib/python3.11/site-packages/numpy/lib/function_base.py:2455: RuntimeWarning: invalid value encountered in <lambda> (vectorized)\n",
      "  outputs = ufunc(*inputs)\n",
      "/home/philippv/Documents/4-projects/02-green-value-chain/01-vcs/green-value-chains/.venv/lib/python3.11/site-packages/numpy/lib/function_base.py:2455: RuntimeWarning: invalid value encountered in <lambda> (vectorized)\n",
      "  outputs = ufunc(*inputs)\n",
      "/home/philippv/Documents/4-projects/02-green-value-chain/01-vcs/green-value-chains/.venv/lib/python3.11/site-packages/numpy/lib/function_base.py:2455: RuntimeWarning: invalid value encountered in <lambda> (vectorized)\n",
      "  outputs = ufunc(*inputs)\n",
      "/home/philippv/Documents/4-projects/02-green-value-chain/01-vcs/green-value-chains/.venv/lib/python3.11/site-packages/numpy/lib/function_base.py:2455: RuntimeWarning: invalid value encountered in <lambda> (vectorized)\n",
      "  outputs = ufunc(*inputs)\n",
      "/home/philippv/Documents/4-projects/02-green-value-chain/01-vcs/green-value-chains/.venv/lib/python3.11/site-packages/numpy/lib/function_base.py:2455: RuntimeWarning: invalid value encountered in <lambda> (vectorized)\n",
      "  outputs = ufunc(*inputs)\n",
      "/home/philippv/Documents/4-projects/02-green-value-chain/01-vcs/green-value-chains/.venv/lib/python3.11/site-packages/numpy/lib/function_base.py:2455: RuntimeWarning: invalid value encountered in <lambda> (vectorized)\n",
      "  outputs = ufunc(*inputs)\n",
      "/home/philippv/Documents/4-projects/02-green-value-chain/01-vcs/green-value-chains/.venv/lib/python3.11/site-packages/numpy/lib/function_base.py:2455: RuntimeWarning: invalid value encountered in <lambda> (vectorized)\n",
      "  outputs = ufunc(*inputs)\n",
      "/home/philippv/Documents/4-projects/02-green-value-chain/01-vcs/green-value-chains/.venv/lib/python3.11/site-packages/numpy/lib/function_base.py:2455: RuntimeWarning: invalid value encountered in <lambda> (vectorized)\n",
      "  outputs = ufunc(*inputs)\n",
      "/home/philippv/Documents/4-projects/02-green-value-chain/01-vcs/green-value-chains/.venv/lib/python3.11/site-packages/numpy/lib/function_base.py:2455: RuntimeWarning: invalid value encountered in <lambda> (vectorized)\n",
      "  outputs = ufunc(*inputs)\n",
      "/home/philippv/Documents/4-projects/02-green-value-chain/01-vcs/green-value-chains/.venv/lib/python3.11/site-packages/numpy/lib/function_base.py:2455: RuntimeWarning: invalid value encountered in <lambda> (vectorized)\n",
      "  outputs = ufunc(*inputs)\n",
      "/home/philippv/Documents/4-projects/02-green-value-chain/01-vcs/green-value-chains/.venv/lib/python3.11/site-packages/numpy/lib/function_base.py:2455: RuntimeWarning: invalid value encountered in <lambda> (vectorized)\n",
      "  outputs = ufunc(*inputs)\n",
      "/home/philippv/Documents/4-projects/02-green-value-chain/01-vcs/green-value-chains/.venv/lib/python3.11/site-packages/numpy/lib/function_base.py:2455: RuntimeWarning: invalid value encountered in <lambda> (vectorized)\n",
      "  outputs = ufunc(*inputs)\n",
      "/home/philippv/Documents/4-projects/02-green-value-chain/01-vcs/green-value-chains/.venv/lib/python3.11/site-packages/numpy/lib/function_base.py:2455: RuntimeWarning: invalid value encountered in <lambda> (vectorized)\n",
      "  outputs = ufunc(*inputs)\n",
      "/home/philippv/Documents/4-projects/02-green-value-chain/01-vcs/green-value-chains/.venv/lib/python3.11/site-packages/numpy/lib/function_base.py:2455: RuntimeWarning: invalid value encountered in <lambda> (vectorized)\n",
      "  outputs = ufunc(*inputs)\n",
      "/home/philippv/Documents/4-projects/02-green-value-chain/01-vcs/green-value-chains/.venv/lib/python3.11/site-packages/posted/utils/utils.py:13: PerformanceWarning: dropping on a non-lexsorted multi-index without a level parameter may impact performance.\n",
      "  ret = pd.merge(\n",
      "/home/philippv/Documents/4-projects/02-green-value-chain/01-vcs/green-value-chains/.venv/lib/python3.11/site-packages/posted/utils/utils.py:13: PerformanceWarning: dropping on a non-lexsorted multi-index without a level parameter may impact performance.\n",
      "  ret = pd.merge(\n",
      "/home/philippv/Documents/4-projects/02-green-value-chain/01-vcs/green-value-chains/.venv/lib/python3.11/site-packages/posted/utils/utils.py:13: PerformanceWarning: dropping on a non-lexsorted multi-index without a level parameter may impact performance.\n",
      "  ret = pd.merge(\n",
      "/home/philippv/Documents/4-projects/02-green-value-chain/01-vcs/green-value-chains/.venv/lib/python3.11/site-packages/numpy/lib/function_base.py:2455: RuntimeWarning: invalid value encountered in <lambda> (vectorized)\n",
      "  outputs = ufunc(*inputs)\n",
      "/home/philippv/Documents/4-projects/02-green-value-chain/01-vcs/green-value-chains/.venv/lib/python3.11/site-packages/numpy/lib/function_base.py:2455: RuntimeWarning: invalid value encountered in <lambda> (vectorized)\n",
      "  outputs = ufunc(*inputs)\n",
      "/home/philippv/Documents/4-projects/02-green-value-chain/01-vcs/green-value-chains/.venv/lib/python3.11/site-packages/numpy/lib/function_base.py:2455: RuntimeWarning: invalid value encountered in <lambda> (vectorized)\n",
      "  outputs = ufunc(*inputs)\n",
      "/home/philippv/Documents/4-projects/02-green-value-chain/01-vcs/green-value-chains/.venv/lib/python3.11/site-packages/numpy/lib/function_base.py:2455: RuntimeWarning: invalid value encountered in <lambda> (vectorized)\n",
      "  outputs = ufunc(*inputs)\n",
      "/home/philippv/Documents/4-projects/02-green-value-chain/01-vcs/green-value-chains/.venv/lib/python3.11/site-packages/numpy/lib/function_base.py:2455: RuntimeWarning: invalid value encountered in <lambda> (vectorized)\n",
      "  outputs = ufunc(*inputs)\n",
      "/home/philippv/Documents/4-projects/02-green-value-chain/01-vcs/green-value-chains/.venv/lib/python3.11/site-packages/numpy/lib/function_base.py:2455: RuntimeWarning: invalid value encountered in <lambda> (vectorized)\n",
      "  outputs = ufunc(*inputs)\n",
      "/home/philippv/Documents/4-projects/02-green-value-chain/01-vcs/green-value-chains/.venv/lib/python3.11/site-packages/numpy/lib/function_base.py:2455: RuntimeWarning: invalid value encountered in <lambda> (vectorized)\n",
      "  outputs = ufunc(*inputs)\n",
      "/home/philippv/Documents/4-projects/02-green-value-chain/01-vcs/green-value-chains/.venv/lib/python3.11/site-packages/numpy/lib/function_base.py:2455: RuntimeWarning: invalid value encountered in <lambda> (vectorized)\n",
      "  outputs = ufunc(*inputs)\n",
      "/home/philippv/Documents/4-projects/02-green-value-chain/01-vcs/green-value-chains/.venv/lib/python3.11/site-packages/numpy/lib/function_base.py:2455: RuntimeWarning: invalid value encountered in <lambda> (vectorized)\n",
      "  outputs = ufunc(*inputs)\n",
      "/home/philippv/Documents/4-projects/02-green-value-chain/01-vcs/green-value-chains/.venv/lib/python3.11/site-packages/posted/utils/utils.py:13: PerformanceWarning: dropping on a non-lexsorted multi-index without a level parameter may impact performance.\n",
      "  ret = pd.merge(\n",
      "/home/philippv/Documents/4-projects/02-green-value-chain/01-vcs/green-value-chains/.venv/lib/python3.11/site-packages/posted/utils/utils.py:13: PerformanceWarning: dropping on a non-lexsorted multi-index without a level parameter may impact performance.\n",
      "  ret = pd.merge(\n",
      "/home/philippv/Documents/4-projects/02-green-value-chain/01-vcs/green-value-chains/.venv/lib/python3.11/site-packages/posted/utils/utils.py:13: PerformanceWarning: dropping on a non-lexsorted multi-index without a level parameter may impact performance.\n",
      "  ret = pd.merge(\n",
      "/home/philippv/Documents/4-projects/02-green-value-chain/01-vcs/green-value-chains/.venv/lib/python3.11/site-packages/numpy/lib/function_base.py:2455: RuntimeWarning: invalid value encountered in <lambda> (vectorized)\n",
      "  outputs = ufunc(*inputs)\n",
      "/home/philippv/Documents/4-projects/02-green-value-chain/01-vcs/green-value-chains/.venv/lib/python3.11/site-packages/numpy/lib/function_base.py:2455: RuntimeWarning: invalid value encountered in <lambda> (vectorized)\n",
      "  outputs = ufunc(*inputs)\n",
      "/home/philippv/Documents/4-projects/02-green-value-chain/01-vcs/green-value-chains/.venv/lib/python3.11/site-packages/numpy/lib/function_base.py:2455: RuntimeWarning: invalid value encountered in <lambda> (vectorized)\n",
      "  outputs = ufunc(*inputs)\n",
      "/home/philippv/Documents/4-projects/02-green-value-chain/01-vcs/green-value-chains/.venv/lib/python3.11/site-packages/numpy/lib/function_base.py:2455: RuntimeWarning: invalid value encountered in <lambda> (vectorized)\n",
      "  outputs = ufunc(*inputs)\n",
      "/home/philippv/Documents/4-projects/02-green-value-chain/01-vcs/green-value-chains/.venv/lib/python3.11/site-packages/numpy/lib/function_base.py:2455: RuntimeWarning: invalid value encountered in <lambda> (vectorized)\n",
      "  outputs = ufunc(*inputs)\n",
      "/home/philippv/Documents/4-projects/02-green-value-chain/01-vcs/green-value-chains/.venv/lib/python3.11/site-packages/numpy/lib/function_base.py:2455: RuntimeWarning: invalid value encountered in <lambda> (vectorized)\n",
      "  outputs = ufunc(*inputs)\n",
      "/home/philippv/Documents/4-projects/02-green-value-chain/01-vcs/green-value-chains/.venv/lib/python3.11/site-packages/numpy/lib/function_base.py:2455: RuntimeWarning: invalid value encountered in <lambda> (vectorized)\n",
      "  outputs = ufunc(*inputs)\n",
      "/home/philippv/Documents/4-projects/02-green-value-chain/01-vcs/green-value-chains/.venv/lib/python3.11/site-packages/numpy/lib/function_base.py:2455: RuntimeWarning: invalid value encountered in <lambda> (vectorized)\n",
      "  outputs = ufunc(*inputs)\n"
     ]
    }
   ],
   "source": [
    "import numpy as np\n",
    "\n",
    "from posted.calc_routines.LCOX import LCOX\n",
    "\n",
    "\n",
    "outputs = {}\n",
    "vcs = inputs['value_chains']\n",
    "\n",
    "# calculate epd from price cases\n",
    "outputs['epd'] = inputs['epdcases'] \\\n",
    "    .assign(epd=lambda row: row['RE-scarce'] - row['RE-rich']) \\\n",
    "    .rename_axis('type', axis=1) \\\n",
    "    .sort_values(by='epd')\n",
    "\n",
    "# calculate transport cost outputs from inputs\n",
    "outputs['transp_cost'] = inputs['transp_cost'] \\\n",
    "    .set_index(['traded', 'impsubcase', 'unit']) \\\n",
    "    .transpose() \\\n",
    "    .stack('impsubcase') \\\n",
    "    .pint.quantify() \\\n",
    "    .droplevel(0)\n",
    "\n",
    "# associate correct RE prices with processes\n",
    "outputs['cases'] = {}\n",
    "outputs['tables'] = {}\n",
    "outputs['procLocs'] = {}\n",
    "outputs['lcox'] = {}\n",
    "for comm in vcs:\n",
    "    locs = vcs[comm]['locations']\n",
    "\n",
    "    # get dataframe of process locations\n",
    "    procLocs = pd.DataFrame(data=[\n",
    "            {\n",
    "                'impcase': f\"Case {i}\" if i else 'Base Case',\n",
    "                **{\n",
    "                    p: loc\n",
    "                    for loc, pgList in {'RE-rich': locs[:i], 'RE-scarce': locs[i:]}.items()\n",
    "                    for pg in pgList for p in pg\n",
    "                }\n",
    "            }\n",
    "            for i in range(4)\n",
    "        ]) \\\n",
    "        .set_index('impcase') \\\n",
    "        .rename_axis('process', axis=1)\n",
    "    outputs['procLocs'][comm] = procLocs\n",
    "\n",
    "    # get dataframe mapping epdcases and associated elec prices to processes\n",
    "    procLocsStacked = procLocs \\\n",
    "        .stack() \\\n",
    "        .swaplevel(0, 1, 0) \\\n",
    "        .to_frame('location') \\\n",
    "        .reset_index() \\\n",
    "        .set_index(['process', 'location'])\n",
    "\n",
    "    # electricity-price difference cases by process\n",
    "    epdcasesByProc = pd.concat(\n",
    "        [inputs['epdcases'].query(\"process!='OTHER'\")]\n",
    "      + [inputs['epdcases'].query(\"process=='OTHER'\").assign(process=p)\n",
    "         for p in procLocs.columns if p != 'ELH2']\n",
    "    )\n",
    "\n",
    "    outputs['cases'][comm] = epdcasesByProc \\\n",
    "        .set_index(['process', 'epdcase']) \\\n",
    "        .rename_axis('location', axis=1) \\\n",
    "        .stack() \\\n",
    "        .to_frame('price:elec') \\\n",
    "        .merge(procLocsStacked, left_index=True, right_index=True) \\\n",
    "        .reset_index() \\\n",
    "        .drop(columns='location') \\\n",
    "        .set_index(['impcase', 'epdcase', 'process']) \\\n",
    "        .rename_axis('type', axis=1) \\\n",
    "        .unstack('process')\n",
    "\n",
    "    # financing assumptions\n",
    "    assumpWACC = procLocs \\\n",
    "        .replace('RE-scarce', inputs['other_assump']['irate']['RE-scarce']) \\\n",
    "        .replace('RE-rich', inputs['other_assump']['irate']['RE-rich']) \\\n",
    "        .astype(float) \\\n",
    "        .apply(lambda x: x/100.0) \\\n",
    "        .assign(type='wacc') \\\n",
    "        .set_index('type', append=True) \\\n",
    "        .unstack('type')\n",
    "    table = inputs['vc_tables'][comm] \\\n",
    "        .assume(assumpWACC) \\\n",
    "        .assume({'lifetime': 18.0 * ureg('a')})\n",
    "\n",
    "    # insert dummy process\n",
    "    newData = table.data.copy()\n",
    "    newData['value', f\"demand_sc:{table.refFlow}\", 'DUMMY'] = 1.0\n",
    "    table.data = newData\n",
    "\n",
    "    # find goods in value chain that have transport cost\n",
    "    traded = [\n",
    "        t.split(':')[-1] for t in outputs['transp_cost'].columns\n",
    "        if table.data.columns.unique(level=1).str.match(fr\"^demand(_sc)?:{t.split(':')[-1]}$\").any()\n",
    "    ]\n",
    "\n",
    "    # create dataframe containing transport cost assumptions\n",
    "    assumpTransp = pd.DataFrame(\n",
    "        index=[f\"Case {i}\" if i else 'Base Case' for i in range(4)],\n",
    "        columns=traded,\n",
    "        data=np.nan,\n",
    "    ) \\\n",
    "    .rename_axis('impcase') \\\n",
    "    .rename_axis('traded', axis=1)\n",
    "\n",
    "    # match traded goods to import cases\n",
    "    for p1, p1s in vcs[comm]['graph'].items():\n",
    "        for t, p2 in p1s.items():\n",
    "            if t in traded:\n",
    "                assumpTransp.loc[(procLocs[p1] != procLocs[p2]), t] = 1\n",
    "    assumpTransp.loc['Case 3', table.refFlow] = 1\n",
    "    if comm == 'Steel':\n",
    "        assumpTransp.loc[['Base Case', 'Case 1'], 'ironore'] = 1\n",
    "\n",
    "    # determine trade cost cases (including impsubcases)\n",
    "    tradeCostCases = []\n",
    "    for impcase, row in assumpTransp.iterrows():\n",
    "        tradeCostCase = pd.DataFrame(columns=['impcase'], data=[impcase])\n",
    "        for t in row.dropna().index.tolist():\n",
    "            tmp = outputs['transp_cost'] \\\n",
    "                .loc[:, t] \\\n",
    "                .dropna() \\\n",
    "                .to_frame() \\\n",
    "                .rename_axis(f\"impsubcase_{t}\") \\\n",
    "                .reset_index()\n",
    "            tradeCostCase = tradeCostCase.merge(tmp, how='cross').dropna(axis=1, how='all')\n",
    "        tradeCostCases.append(tradeCostCase)\n",
    "    assumpTransp = pd.concat(tradeCostCases)\n",
    "    indexCols = [c for c in assumpTransp if c not in traded]\n",
    "    assumpTransp = assumpTransp \\\n",
    "        .fillna({c: '' for c in indexCols}) \\\n",
    "        .set_index(indexCols) \\\n",
    "        .rename(columns={c: f\"transp:{c}\" for c in traded}) \\\n",
    "        .rename_axis('type', axis=1)\n",
    "    assumpTransp.index = assumpTransp.index \\\n",
    "        .map(lambda i: (i[0], f\"{i[0]}{i[1]}\")) \\\n",
    "        .rename(['impcase', 'impsubcase'])\n",
    "\n",
    "    # add trade cost assumptions to table\n",
    "    table = table.assume(assumpTransp)\n",
    "\n",
    "    # associate reheating cases to impcases\n",
    "    if comm == 'Steel':\n",
    "        table.data = table.data \\\n",
    "            .query(f\"(reheating=='w/o reheating' & impcase!='Case 2') | \"\n",
    "                   f\"(reheating=='w/ reheating') & (impcase=='Case 2')\") \\\n",
    "            .droplevel(level='reheating')\n",
    "\n",
    "    outputs['tables'][comm] = table\n",
    "\n",
    "    # assume electriticy prices and calculate levelised cost\n",
    "    outputs['lcox'][comm] = table \\\n",
    "        .assume(outputs['cases'][comm]) \\\n",
    "        .calc(LCOX)"
   ]
  },
  {
   "cell_type": "markdown",
   "id": "2a825e7a-4cb6-4f58-b736-cbbaaf71b072",
   "metadata": {},
   "source": [
    "### Plot outputs"
   ]
  },
  {
   "cell_type": "code",
   "execution_count": 34,
   "id": "86508970-78cf-474d-943f-2306aa8abf71",
   "metadata": {},
   "outputs": [
    {
     "data": {
      "text/markdown": [
       "**Steel**"
      ],
      "text/plain": [
       "<IPython.core.display.Markdown object>"
      ]
     },
     "metadata": {},
     "output_type": "display_data"
    },
    {
     "data": {
      "application/vnd.plotly.v1+json": {
       "config": {
        "plotlyServerURL": "https://plot.ly"
       },
       "data": [
        {
         "alignmentgroup": "True",
         "hovertemplate": "ptype=Annualised<br>CAPEX<br>impsubcase=%{x}<br>value=%{y}<extra></extra>",
         "legendgroup": "Annualised<br>CAPEX",
         "marker": {
          "color": "#f36f21",
          "pattern": {
           "shape": ""
          }
         },
         "name": "Annualised<br>CAPEX",
         "offsetgroup": "Annualised<br>CAPEX",
         "orientation": "v",
         "showlegend": true,
         "textposition": "auto",
         "type": "bar",
         "x": [
          "Case 2",
          "Case 2",
          "Case 2",
          "Case 2",
          "Case 2",
          "Base Case",
          "Base Case",
          "Base Case",
          "Base Case",
          "Base Case",
          "Case 1A",
          "Case 1A",
          "Case 1A",
          "Case 1A",
          "Case 1A",
          "Case 1B",
          "Case 1B",
          "Case 1B",
          "Case 1B",
          "Case 1B",
          "Case 3",
          "Case 3",
          "Case 3",
          "Case 3",
          "Case 3"
         ],
         "xaxis": "x",
         "y": [
          3.947,
          22.98,
          13.58,
          9.302,
          39.18,
          3.947,
          22.98,
          10.88,
          9.302,
          31.41,
          3.947,
          22.98,
          13.58,
          9.302,
          31.41,
          3.947,
          22.98,
          13.58,
          9.302,
          31.41,
          4.924,
          28.66,
          13.58,
          11.6,
          39.18
         ],
         "yaxis": "y"
        },
        {
         "alignmentgroup": "True",
         "hovertemplate": "ptype=Electricity<br>impsubcase=%{x}<br>value=%{y}<extra></extra>",
         "legendgroup": "Electricity",
         "marker": {
          "color": "#e6af2e",
          "pattern": {
           "shape": ""
          }
         },
         "name": "Electricity",
         "offsetgroup": "Electricity",
         "orientation": "v",
         "showlegend": true,
         "textposition": "auto",
         "type": "bar",
         "x": [
          "Case 2",
          "Case 2",
          "Case 2",
          "Case 2",
          "Case 2",
          "Base Case",
          "Base Case",
          "Base Case",
          "Base Case",
          "Base Case",
          "Case 1A",
          "Case 1A",
          "Case 1A",
          "Case 1A",
          "Case 1A",
          "Case 1B",
          "Case 1B",
          "Case 1B",
          "Case 1B",
          "Case 1B",
          "Case 3",
          "Case 3",
          "Case 3",
          "Case 3",
          "Case 3"
         ],
         "xaxis": "x",
         "y": [
          1.567,
          76.25,
          86.84,
          45.81,
          31.24,
          1.567,
          72.35,
          202.6,
          45.81,
          56.23,
          1.567,
          72.35,
          86.84,
          45.81,
          56.23,
          1.567,
          72.35,
          86.84,
          45.81,
          56.23,
          0.8708,
          40.2,
          86.84,
          25.45,
          31.24
         ],
         "yaxis": "y"
        },
        {
         "alignmentgroup": "True",
         "hovertemplate": "ptype=Raw materials<br>impsubcase=%{x}<br>value=%{y}<extra></extra>",
         "legendgroup": "Raw materials",
         "marker": {
          "color": "#cccccc",
          "pattern": {
           "shape": ""
          }
         },
         "name": "Raw materials",
         "offsetgroup": "Raw materials",
         "orientation": "v",
         "showlegend": true,
         "textposition": "auto",
         "type": "bar",
         "x": [
          "Case 2",
          "Case 2",
          "Case 2",
          "Case 2",
          "Case 2",
          "Case 2",
          "Case 2",
          "Case 2",
          "Base Case",
          "Base Case",
          "Base Case",
          "Base Case",
          "Base Case",
          "Base Case",
          "Base Case",
          "Base Case",
          "Case 1A",
          "Case 1A",
          "Case 1A",
          "Case 1A",
          "Case 1A",
          "Case 1A",
          "Case 1A",
          "Case 1A",
          "Case 1B",
          "Case 1B",
          "Case 1B",
          "Case 1B",
          "Case 1B",
          "Case 1B",
          "Case 1B",
          "Case 1B",
          "Case 3",
          "Case 3",
          "Case 3",
          "Case 3",
          "Case 3",
          "Case 3",
          "Case 3",
          "Case 3"
         ],
         "xaxis": "x",
         "y": [
          20.56,
          9.237,
          5.433,
          54.33,
          28.23,
          36.21,
          5.847,
          204.2,
          20.56,
          9.237,
          5.433,
          54.33,
          28.23,
          36.21,
          5.847,
          204.2,
          20.56,
          9.237,
          5.433,
          54.33,
          28.23,
          36.21,
          5.847,
          204.2,
          20.56,
          9.237,
          5.433,
          54.33,
          28.23,
          36.21,
          5.847,
          204.2,
          20.56,
          9.237,
          5.433,
          54.33,
          28.23,
          36.21,
          5.847,
          204.2
         ],
         "yaxis": "y"
        },
        {
         "alignmentgroup": "True",
         "hovertemplate": "ptype=Non-elec. energy<br>impsubcase=%{x}<br>value=%{y}<extra></extra>",
         "legendgroup": "Non-elec. energy",
         "marker": {
          "color": "#aaaaaa",
          "pattern": {
           "shape": ""
          }
         },
         "name": "Non-elec. energy",
         "offsetgroup": "Non-elec. energy",
         "orientation": "v",
         "showlegend": true,
         "textposition": "auto",
         "type": "bar",
         "x": [
          "Case 2",
          "Case 2",
          "Case 2",
          "Base Case",
          "Base Case",
          "Base Case",
          "Case 1A",
          "Case 1A",
          "Case 1A",
          "Case 1B",
          "Case 1B",
          "Case 1B",
          "Case 3",
          "Case 3",
          "Case 3"
         ],
         "xaxis": "x",
         "y": [
          2.873,
          10.6,
          23.49,
          2.873,
          10.6,
          23.49,
          2.873,
          10.6,
          23.49,
          2.873,
          10.6,
          23.49,
          2.873,
          10.6,
          23.49
         ],
         "yaxis": "y"
        },
        {
         "alignmentgroup": "True",
         "hovertemplate": "ptype=Operation and<br>maintenance<br>impsubcase=%{x}<br>value=%{y}<extra></extra>",
         "legendgroup": "Operation and<br>maintenance",
         "marker": {
          "color": "#00813e",
          "pattern": {
           "shape": ""
          }
         },
         "name": "Operation and<br>maintenance",
         "offsetgroup": "Operation and<br>maintenance",
         "orientation": "v",
         "showlegend": true,
         "textposition": "auto",
         "type": "bar",
         "x": [
          "Case 2",
          "Case 2",
          "Case 2",
          "Base Case",
          "Base Case",
          "Base Case",
          "Case 1A",
          "Case 1A",
          "Case 1A",
          "Case 1B",
          "Case 1B",
          "Case 1B",
          "Case 3",
          "Case 3",
          "Case 3"
         ],
         "xaxis": "x",
         "y": [
          27.33,
          7.119,
          14.22,
          27.33,
          7.119,
          14.22,
          27.33,
          7.119,
          14.22,
          27.33,
          7.119,
          14.22,
          27.33,
          7.119,
          14.22
         ],
         "yaxis": "y"
        },
        {
         "alignmentgroup": "True",
         "hovertemplate": "ptype=Transport<br>impsubcase=%{x}<br>value=%{y}<extra></extra>",
         "legendgroup": "Transport",
         "marker": {
          "color": "#7c1f8a",
          "pattern": {
           "shape": ""
          }
         },
         "name": "Transport",
         "offsetgroup": "Transport",
         "orientation": "v",
         "showlegend": true,
         "textposition": "auto",
         "type": "bar",
         "x": [
          "Case 2",
          "Base Case",
          "Case 1A",
          "Case 1A",
          "Case 1B",
          "Case 1B",
          "Case 3"
         ],
         "xaxis": "x",
         "y": [
          21.76,
          15.71,
          102.6,
          15.71,
          30.77,
          15.71,
          20
         ],
         "yaxis": "y"
        }
       ],
       "layout": {
        "autosize": true,
        "barmode": "relative",
        "legend": {
         "title": {
          "text": "ptype"
         },
         "tracegroupgap": 0
        },
        "margin": {
         "t": 60
        },
        "template": {
         "data": {
          "bar": [
           {
            "error_x": {
             "color": "#2a3f5f"
            },
            "error_y": {
             "color": "#2a3f5f"
            },
            "marker": {
             "line": {
              "color": "#E5ECF6",
              "width": 0.5
             },
             "pattern": {
              "fillmode": "overlay",
              "size": 10,
              "solidity": 0.2
             }
            },
            "type": "bar"
           }
          ],
          "barpolar": [
           {
            "marker": {
             "line": {
              "color": "#E5ECF6",
              "width": 0.5
             },
             "pattern": {
              "fillmode": "overlay",
              "size": 10,
              "solidity": 0.2
             }
            },
            "type": "barpolar"
           }
          ],
          "carpet": [
           {
            "aaxis": {
             "endlinecolor": "#2a3f5f",
             "gridcolor": "white",
             "linecolor": "white",
             "minorgridcolor": "white",
             "startlinecolor": "#2a3f5f"
            },
            "baxis": {
             "endlinecolor": "#2a3f5f",
             "gridcolor": "white",
             "linecolor": "white",
             "minorgridcolor": "white",
             "startlinecolor": "#2a3f5f"
            },
            "type": "carpet"
           }
          ],
          "choropleth": [
           {
            "colorbar": {
             "outlinewidth": 0,
             "ticks": ""
            },
            "type": "choropleth"
           }
          ],
          "contour": [
           {
            "colorbar": {
             "outlinewidth": 0,
             "ticks": ""
            },
            "colorscale": [
             [
              0,
              "#0d0887"
             ],
             [
              0.1111111111111111,
              "#46039f"
             ],
             [
              0.2222222222222222,
              "#7201a8"
             ],
             [
              0.3333333333333333,
              "#9c179e"
             ],
             [
              0.4444444444444444,
              "#bd3786"
             ],
             [
              0.5555555555555556,
              "#d8576b"
             ],
             [
              0.6666666666666666,
              "#ed7953"
             ],
             [
              0.7777777777777778,
              "#fb9f3a"
             ],
             [
              0.8888888888888888,
              "#fdca26"
             ],
             [
              1,
              "#f0f921"
             ]
            ],
            "type": "contour"
           }
          ],
          "contourcarpet": [
           {
            "colorbar": {
             "outlinewidth": 0,
             "ticks": ""
            },
            "type": "contourcarpet"
           }
          ],
          "heatmap": [
           {
            "colorbar": {
             "outlinewidth": 0,
             "ticks": ""
            },
            "colorscale": [
             [
              0,
              "#0d0887"
             ],
             [
              0.1111111111111111,
              "#46039f"
             ],
             [
              0.2222222222222222,
              "#7201a8"
             ],
             [
              0.3333333333333333,
              "#9c179e"
             ],
             [
              0.4444444444444444,
              "#bd3786"
             ],
             [
              0.5555555555555556,
              "#d8576b"
             ],
             [
              0.6666666666666666,
              "#ed7953"
             ],
             [
              0.7777777777777778,
              "#fb9f3a"
             ],
             [
              0.8888888888888888,
              "#fdca26"
             ],
             [
              1,
              "#f0f921"
             ]
            ],
            "type": "heatmap"
           }
          ],
          "heatmapgl": [
           {
            "colorbar": {
             "outlinewidth": 0,
             "ticks": ""
            },
            "colorscale": [
             [
              0,
              "#0d0887"
             ],
             [
              0.1111111111111111,
              "#46039f"
             ],
             [
              0.2222222222222222,
              "#7201a8"
             ],
             [
              0.3333333333333333,
              "#9c179e"
             ],
             [
              0.4444444444444444,
              "#bd3786"
             ],
             [
              0.5555555555555556,
              "#d8576b"
             ],
             [
              0.6666666666666666,
              "#ed7953"
             ],
             [
              0.7777777777777778,
              "#fb9f3a"
             ],
             [
              0.8888888888888888,
              "#fdca26"
             ],
             [
              1,
              "#f0f921"
             ]
            ],
            "type": "heatmapgl"
           }
          ],
          "histogram": [
           {
            "marker": {
             "pattern": {
              "fillmode": "overlay",
              "size": 10,
              "solidity": 0.2
             }
            },
            "type": "histogram"
           }
          ],
          "histogram2d": [
           {
            "colorbar": {
             "outlinewidth": 0,
             "ticks": ""
            },
            "colorscale": [
             [
              0,
              "#0d0887"
             ],
             [
              0.1111111111111111,
              "#46039f"
             ],
             [
              0.2222222222222222,
              "#7201a8"
             ],
             [
              0.3333333333333333,
              "#9c179e"
             ],
             [
              0.4444444444444444,
              "#bd3786"
             ],
             [
              0.5555555555555556,
              "#d8576b"
             ],
             [
              0.6666666666666666,
              "#ed7953"
             ],
             [
              0.7777777777777778,
              "#fb9f3a"
             ],
             [
              0.8888888888888888,
              "#fdca26"
             ],
             [
              1,
              "#f0f921"
             ]
            ],
            "type": "histogram2d"
           }
          ],
          "histogram2dcontour": [
           {
            "colorbar": {
             "outlinewidth": 0,
             "ticks": ""
            },
            "colorscale": [
             [
              0,
              "#0d0887"
             ],
             [
              0.1111111111111111,
              "#46039f"
             ],
             [
              0.2222222222222222,
              "#7201a8"
             ],
             [
              0.3333333333333333,
              "#9c179e"
             ],
             [
              0.4444444444444444,
              "#bd3786"
             ],
             [
              0.5555555555555556,
              "#d8576b"
             ],
             [
              0.6666666666666666,
              "#ed7953"
             ],
             [
              0.7777777777777778,
              "#fb9f3a"
             ],
             [
              0.8888888888888888,
              "#fdca26"
             ],
             [
              1,
              "#f0f921"
             ]
            ],
            "type": "histogram2dcontour"
           }
          ],
          "mesh3d": [
           {
            "colorbar": {
             "outlinewidth": 0,
             "ticks": ""
            },
            "type": "mesh3d"
           }
          ],
          "parcoords": [
           {
            "line": {
             "colorbar": {
              "outlinewidth": 0,
              "ticks": ""
             }
            },
            "type": "parcoords"
           }
          ],
          "pie": [
           {
            "automargin": true,
            "type": "pie"
           }
          ],
          "scatter": [
           {
            "fillpattern": {
             "fillmode": "overlay",
             "size": 10,
             "solidity": 0.2
            },
            "type": "scatter"
           }
          ],
          "scatter3d": [
           {
            "line": {
             "colorbar": {
              "outlinewidth": 0,
              "ticks": ""
             }
            },
            "marker": {
             "colorbar": {
              "outlinewidth": 0,
              "ticks": ""
             }
            },
            "type": "scatter3d"
           }
          ],
          "scattercarpet": [
           {
            "marker": {
             "colorbar": {
              "outlinewidth": 0,
              "ticks": ""
             }
            },
            "type": "scattercarpet"
           }
          ],
          "scattergeo": [
           {
            "marker": {
             "colorbar": {
              "outlinewidth": 0,
              "ticks": ""
             }
            },
            "type": "scattergeo"
           }
          ],
          "scattergl": [
           {
            "marker": {
             "colorbar": {
              "outlinewidth": 0,
              "ticks": ""
             }
            },
            "type": "scattergl"
           }
          ],
          "scattermapbox": [
           {
            "marker": {
             "colorbar": {
              "outlinewidth": 0,
              "ticks": ""
             }
            },
            "type": "scattermapbox"
           }
          ],
          "scatterpolar": [
           {
            "marker": {
             "colorbar": {
              "outlinewidth": 0,
              "ticks": ""
             }
            },
            "type": "scatterpolar"
           }
          ],
          "scatterpolargl": [
           {
            "marker": {
             "colorbar": {
              "outlinewidth": 0,
              "ticks": ""
             }
            },
            "type": "scatterpolargl"
           }
          ],
          "scatterternary": [
           {
            "marker": {
             "colorbar": {
              "outlinewidth": 0,
              "ticks": ""
             }
            },
            "type": "scatterternary"
           }
          ],
          "surface": [
           {
            "colorbar": {
             "outlinewidth": 0,
             "ticks": ""
            },
            "colorscale": [
             [
              0,
              "#0d0887"
             ],
             [
              0.1111111111111111,
              "#46039f"
             ],
             [
              0.2222222222222222,
              "#7201a8"
             ],
             [
              0.3333333333333333,
              "#9c179e"
             ],
             [
              0.4444444444444444,
              "#bd3786"
             ],
             [
              0.5555555555555556,
              "#d8576b"
             ],
             [
              0.6666666666666666,
              "#ed7953"
             ],
             [
              0.7777777777777778,
              "#fb9f3a"
             ],
             [
              0.8888888888888888,
              "#fdca26"
             ],
             [
              1,
              "#f0f921"
             ]
            ],
            "type": "surface"
           }
          ],
          "table": [
           {
            "cells": {
             "fill": {
              "color": "#EBF0F8"
             },
             "line": {
              "color": "white"
             }
            },
            "header": {
             "fill": {
              "color": "#C8D4E3"
             },
             "line": {
              "color": "white"
             }
            },
            "type": "table"
           }
          ]
         },
         "layout": {
          "annotationdefaults": {
           "arrowcolor": "#2a3f5f",
           "arrowhead": 0,
           "arrowwidth": 1
          },
          "autotypenumbers": "strict",
          "coloraxis": {
           "colorbar": {
            "outlinewidth": 0,
            "ticks": ""
           }
          },
          "colorscale": {
           "diverging": [
            [
             0,
             "#8e0152"
            ],
            [
             0.1,
             "#c51b7d"
            ],
            [
             0.2,
             "#de77ae"
            ],
            [
             0.3,
             "#f1b6da"
            ],
            [
             0.4,
             "#fde0ef"
            ],
            [
             0.5,
             "#f7f7f7"
            ],
            [
             0.6,
             "#e6f5d0"
            ],
            [
             0.7,
             "#b8e186"
            ],
            [
             0.8,
             "#7fbc41"
            ],
            [
             0.9,
             "#4d9221"
            ],
            [
             1,
             "#276419"
            ]
           ],
           "sequential": [
            [
             0,
             "#0d0887"
            ],
            [
             0.1111111111111111,
             "#46039f"
            ],
            [
             0.2222222222222222,
             "#7201a8"
            ],
            [
             0.3333333333333333,
             "#9c179e"
            ],
            [
             0.4444444444444444,
             "#bd3786"
            ],
            [
             0.5555555555555556,
             "#d8576b"
            ],
            [
             0.6666666666666666,
             "#ed7953"
            ],
            [
             0.7777777777777778,
             "#fb9f3a"
            ],
            [
             0.8888888888888888,
             "#fdca26"
            ],
            [
             1,
             "#f0f921"
            ]
           ],
           "sequentialminus": [
            [
             0,
             "#0d0887"
            ],
            [
             0.1111111111111111,
             "#46039f"
            ],
            [
             0.2222222222222222,
             "#7201a8"
            ],
            [
             0.3333333333333333,
             "#9c179e"
            ],
            [
             0.4444444444444444,
             "#bd3786"
            ],
            [
             0.5555555555555556,
             "#d8576b"
            ],
            [
             0.6666666666666666,
             "#ed7953"
            ],
            [
             0.7777777777777778,
             "#fb9f3a"
            ],
            [
             0.8888888888888888,
             "#fdca26"
            ],
            [
             1,
             "#f0f921"
            ]
           ]
          },
          "colorway": [
           "#636efa",
           "#EF553B",
           "#00cc96",
           "#ab63fa",
           "#FFA15A",
           "#19d3f3",
           "#FF6692",
           "#B6E880",
           "#FF97FF",
           "#FECB52"
          ],
          "font": {
           "color": "#2a3f5f"
          },
          "geo": {
           "bgcolor": "white",
           "lakecolor": "white",
           "landcolor": "#E5ECF6",
           "showlakes": true,
           "showland": true,
           "subunitcolor": "white"
          },
          "hoverlabel": {
           "align": "left"
          },
          "hovermode": "closest",
          "mapbox": {
           "style": "light"
          },
          "paper_bgcolor": "white",
          "plot_bgcolor": "#E5ECF6",
          "polar": {
           "angularaxis": {
            "gridcolor": "white",
            "linecolor": "white",
            "ticks": ""
           },
           "bgcolor": "#E5ECF6",
           "radialaxis": {
            "gridcolor": "white",
            "linecolor": "white",
            "ticks": ""
           }
          },
          "scene": {
           "xaxis": {
            "backgroundcolor": "#E5ECF6",
            "gridcolor": "white",
            "gridwidth": 2,
            "linecolor": "white",
            "showbackground": true,
            "ticks": "",
            "zerolinecolor": "white"
           },
           "yaxis": {
            "backgroundcolor": "#E5ECF6",
            "gridcolor": "white",
            "gridwidth": 2,
            "linecolor": "white",
            "showbackground": true,
            "ticks": "",
            "zerolinecolor": "white"
           },
           "zaxis": {
            "backgroundcolor": "#E5ECF6",
            "gridcolor": "white",
            "gridwidth": 2,
            "linecolor": "white",
            "showbackground": true,
            "ticks": "",
            "zerolinecolor": "white"
           }
          },
          "shapedefaults": {
           "line": {
            "color": "#2a3f5f"
           }
          },
          "ternary": {
           "aaxis": {
            "gridcolor": "white",
            "linecolor": "white",
            "ticks": ""
           },
           "baxis": {
            "gridcolor": "white",
            "linecolor": "white",
            "ticks": ""
           },
           "bgcolor": "#E5ECF6",
           "caxis": {
            "gridcolor": "white",
            "linecolor": "white",
            "ticks": ""
           }
          },
          "title": {
           "x": 0.05
          },
          "xaxis": {
           "automargin": true,
           "gridcolor": "white",
           "linecolor": "white",
           "ticks": "",
           "title": {
            "standoff": 15
           },
           "zerolinecolor": "white",
           "zerolinewidth": 2
          },
          "yaxis": {
           "automargin": true,
           "gridcolor": "white",
           "linecolor": "white",
           "ticks": "",
           "title": {
            "standoff": 15
           },
           "zerolinecolor": "white",
           "zerolinewidth": 2
          }
         }
        },
        "xaxis": {
         "anchor": "y",
         "autorange": true,
         "categoryarray": [
          "Base Case",
          "Case 1A",
          "Case 1B",
          "Case 2",
          "Case 3"
         ],
         "categoryorder": "array",
         "domain": [
          0,
          1
         ],
         "range": [
          -0.5,
          4.5
         ],
         "title": {
          "text": "impsubcase"
         },
         "type": "category"
        },
        "yaxis": {
         "anchor": "x",
         "autorange": true,
         "domain": [
          0,
          1
         ],
         "range": [
          0,
          971.0157894736844
         ],
         "title": {
          "text": "value"
         },
         "type": "linear"
        }
       }
      },
      "text/html": [
       "<div>                            <div id=\"173e512e-d1f6-4a74-8e7e-3b52806127e9\" class=\"plotly-graph-div\" style=\"height:525px; width:100%;\"></div>            <script type=\"text/javascript\">                require([\"plotly\"], function(Plotly) {                    window.PLOTLYENV=window.PLOTLYENV || {};                                    if (document.getElementById(\"173e512e-d1f6-4a74-8e7e-3b52806127e9\")) {                    Plotly.newPlot(                        \"173e512e-d1f6-4a74-8e7e-3b52806127e9\",                        [{\"alignmentgroup\":\"True\",\"hovertemplate\":\"ptype=Annualised\\u003cbr\\u003eCAPEX\\u003cbr\\u003eimpsubcase=%{x}\\u003cbr\\u003evalue=%{y}\\u003cextra\\u003e\\u003c\\u002fextra\\u003e\",\"legendgroup\":\"Annualised\\u003cbr\\u003eCAPEX\",\"marker\":{\"color\":\"#f36f21\",\"pattern\":{\"shape\":\"\"}},\"name\":\"Annualised\\u003cbr\\u003eCAPEX\",\"offsetgroup\":\"Annualised\\u003cbr\\u003eCAPEX\",\"orientation\":\"v\",\"showlegend\":true,\"textposition\":\"auto\",\"x\":[\"Case 2\",\"Case 2\",\"Case 2\",\"Case 2\",\"Case 2\",\"Base Case\",\"Base Case\",\"Base Case\",\"Base Case\",\"Base Case\",\"Case 1A\",\"Case 1A\",\"Case 1A\",\"Case 1A\",\"Case 1A\",\"Case 1B\",\"Case 1B\",\"Case 1B\",\"Case 1B\",\"Case 1B\",\"Case 3\",\"Case 3\",\"Case 3\",\"Case 3\",\"Case 3\"],\"xaxis\":\"x\",\"y\":[3.947,22.98,13.58,9.302,39.18,3.947,22.98,10.88,9.302,31.41,3.947,22.98,13.58,9.302,31.41,3.947,22.98,13.58,9.302,31.41,4.924,28.66,13.58,11.6,39.18],\"yaxis\":\"y\",\"type\":\"bar\"},{\"alignmentgroup\":\"True\",\"hovertemplate\":\"ptype=Electricity\\u003cbr\\u003eimpsubcase=%{x}\\u003cbr\\u003evalue=%{y}\\u003cextra\\u003e\\u003c\\u002fextra\\u003e\",\"legendgroup\":\"Electricity\",\"marker\":{\"color\":\"#e6af2e\",\"pattern\":{\"shape\":\"\"}},\"name\":\"Electricity\",\"offsetgroup\":\"Electricity\",\"orientation\":\"v\",\"showlegend\":true,\"textposition\":\"auto\",\"x\":[\"Case 2\",\"Case 2\",\"Case 2\",\"Case 2\",\"Case 2\",\"Base Case\",\"Base Case\",\"Base Case\",\"Base Case\",\"Base Case\",\"Case 1A\",\"Case 1A\",\"Case 1A\",\"Case 1A\",\"Case 1A\",\"Case 1B\",\"Case 1B\",\"Case 1B\",\"Case 1B\",\"Case 1B\",\"Case 3\",\"Case 3\",\"Case 3\",\"Case 3\",\"Case 3\"],\"xaxis\":\"x\",\"y\":[1.567,76.25,86.84,45.81,31.24,1.567,72.35,202.6,45.81,56.23,1.567,72.35,86.84,45.81,56.23,1.567,72.35,86.84,45.81,56.23,0.8708,40.2,86.84,25.45,31.24],\"yaxis\":\"y\",\"type\":\"bar\"},{\"alignmentgroup\":\"True\",\"hovertemplate\":\"ptype=Raw materials\\u003cbr\\u003eimpsubcase=%{x}\\u003cbr\\u003evalue=%{y}\\u003cextra\\u003e\\u003c\\u002fextra\\u003e\",\"legendgroup\":\"Raw materials\",\"marker\":{\"color\":\"#cccccc\",\"pattern\":{\"shape\":\"\"}},\"name\":\"Raw materials\",\"offsetgroup\":\"Raw materials\",\"orientation\":\"v\",\"showlegend\":true,\"textposition\":\"auto\",\"x\":[\"Case 2\",\"Case 2\",\"Case 2\",\"Case 2\",\"Case 2\",\"Case 2\",\"Case 2\",\"Case 2\",\"Base Case\",\"Base Case\",\"Base Case\",\"Base Case\",\"Base Case\",\"Base Case\",\"Base Case\",\"Base Case\",\"Case 1A\",\"Case 1A\",\"Case 1A\",\"Case 1A\",\"Case 1A\",\"Case 1A\",\"Case 1A\",\"Case 1A\",\"Case 1B\",\"Case 1B\",\"Case 1B\",\"Case 1B\",\"Case 1B\",\"Case 1B\",\"Case 1B\",\"Case 1B\",\"Case 3\",\"Case 3\",\"Case 3\",\"Case 3\",\"Case 3\",\"Case 3\",\"Case 3\",\"Case 3\"],\"xaxis\":\"x\",\"y\":[20.56,9.237,5.433,54.33,28.23,36.21,5.847,204.2,20.56,9.237,5.433,54.33,28.23,36.21,5.847,204.2,20.56,9.237,5.433,54.33,28.23,36.21,5.847,204.2,20.56,9.237,5.433,54.33,28.23,36.21,5.847,204.2,20.56,9.237,5.433,54.33,28.23,36.21,5.847,204.2],\"yaxis\":\"y\",\"type\":\"bar\"},{\"alignmentgroup\":\"True\",\"hovertemplate\":\"ptype=Non-elec. energy\\u003cbr\\u003eimpsubcase=%{x}\\u003cbr\\u003evalue=%{y}\\u003cextra\\u003e\\u003c\\u002fextra\\u003e\",\"legendgroup\":\"Non-elec. energy\",\"marker\":{\"color\":\"#aaaaaa\",\"pattern\":{\"shape\":\"\"}},\"name\":\"Non-elec. energy\",\"offsetgroup\":\"Non-elec. energy\",\"orientation\":\"v\",\"showlegend\":true,\"textposition\":\"auto\",\"x\":[\"Case 2\",\"Case 2\",\"Case 2\",\"Base Case\",\"Base Case\",\"Base Case\",\"Case 1A\",\"Case 1A\",\"Case 1A\",\"Case 1B\",\"Case 1B\",\"Case 1B\",\"Case 3\",\"Case 3\",\"Case 3\"],\"xaxis\":\"x\",\"y\":[2.873,10.6,23.49,2.873,10.6,23.49,2.873,10.6,23.49,2.873,10.6,23.49,2.873,10.6,23.49],\"yaxis\":\"y\",\"type\":\"bar\"},{\"alignmentgroup\":\"True\",\"hovertemplate\":\"ptype=Operation and\\u003cbr\\u003emaintenance\\u003cbr\\u003eimpsubcase=%{x}\\u003cbr\\u003evalue=%{y}\\u003cextra\\u003e\\u003c\\u002fextra\\u003e\",\"legendgroup\":\"Operation and\\u003cbr\\u003emaintenance\",\"marker\":{\"color\":\"#00813e\",\"pattern\":{\"shape\":\"\"}},\"name\":\"Operation and\\u003cbr\\u003emaintenance\",\"offsetgroup\":\"Operation and\\u003cbr\\u003emaintenance\",\"orientation\":\"v\",\"showlegend\":true,\"textposition\":\"auto\",\"x\":[\"Case 2\",\"Case 2\",\"Case 2\",\"Base Case\",\"Base Case\",\"Base Case\",\"Case 1A\",\"Case 1A\",\"Case 1A\",\"Case 1B\",\"Case 1B\",\"Case 1B\",\"Case 3\",\"Case 3\",\"Case 3\"],\"xaxis\":\"x\",\"y\":[27.33,7.119,14.22,27.33,7.119,14.22,27.33,7.119,14.22,27.33,7.119,14.22,27.33,7.119,14.22],\"yaxis\":\"y\",\"type\":\"bar\"},{\"alignmentgroup\":\"True\",\"hovertemplate\":\"ptype=Transport\\u003cbr\\u003eimpsubcase=%{x}\\u003cbr\\u003evalue=%{y}\\u003cextra\\u003e\\u003c\\u002fextra\\u003e\",\"legendgroup\":\"Transport\",\"marker\":{\"color\":\"#7c1f8a\",\"pattern\":{\"shape\":\"\"}},\"name\":\"Transport\",\"offsetgroup\":\"Transport\",\"orientation\":\"v\",\"showlegend\":true,\"textposition\":\"auto\",\"x\":[\"Case 2\",\"Base Case\",\"Case 1A\",\"Case 1A\",\"Case 1B\",\"Case 1B\",\"Case 3\"],\"xaxis\":\"x\",\"y\":[21.76,15.71,102.6,15.71,30.77,15.71,20.0],\"yaxis\":\"y\",\"type\":\"bar\"}],                        {\"template\":{\"data\":{\"histogram2dcontour\":[{\"type\":\"histogram2dcontour\",\"colorbar\":{\"outlinewidth\":0,\"ticks\":\"\"},\"colorscale\":[[0.0,\"#0d0887\"],[0.1111111111111111,\"#46039f\"],[0.2222222222222222,\"#7201a8\"],[0.3333333333333333,\"#9c179e\"],[0.4444444444444444,\"#bd3786\"],[0.5555555555555556,\"#d8576b\"],[0.6666666666666666,\"#ed7953\"],[0.7777777777777778,\"#fb9f3a\"],[0.8888888888888888,\"#fdca26\"],[1.0,\"#f0f921\"]]}],\"choropleth\":[{\"type\":\"choropleth\",\"colorbar\":{\"outlinewidth\":0,\"ticks\":\"\"}}],\"histogram2d\":[{\"type\":\"histogram2d\",\"colorbar\":{\"outlinewidth\":0,\"ticks\":\"\"},\"colorscale\":[[0.0,\"#0d0887\"],[0.1111111111111111,\"#46039f\"],[0.2222222222222222,\"#7201a8\"],[0.3333333333333333,\"#9c179e\"],[0.4444444444444444,\"#bd3786\"],[0.5555555555555556,\"#d8576b\"],[0.6666666666666666,\"#ed7953\"],[0.7777777777777778,\"#fb9f3a\"],[0.8888888888888888,\"#fdca26\"],[1.0,\"#f0f921\"]]}],\"heatmap\":[{\"type\":\"heatmap\",\"colorbar\":{\"outlinewidth\":0,\"ticks\":\"\"},\"colorscale\":[[0.0,\"#0d0887\"],[0.1111111111111111,\"#46039f\"],[0.2222222222222222,\"#7201a8\"],[0.3333333333333333,\"#9c179e\"],[0.4444444444444444,\"#bd3786\"],[0.5555555555555556,\"#d8576b\"],[0.6666666666666666,\"#ed7953\"],[0.7777777777777778,\"#fb9f3a\"],[0.8888888888888888,\"#fdca26\"],[1.0,\"#f0f921\"]]}],\"heatmapgl\":[{\"type\":\"heatmapgl\",\"colorbar\":{\"outlinewidth\":0,\"ticks\":\"\"},\"colorscale\":[[0.0,\"#0d0887\"],[0.1111111111111111,\"#46039f\"],[0.2222222222222222,\"#7201a8\"],[0.3333333333333333,\"#9c179e\"],[0.4444444444444444,\"#bd3786\"],[0.5555555555555556,\"#d8576b\"],[0.6666666666666666,\"#ed7953\"],[0.7777777777777778,\"#fb9f3a\"],[0.8888888888888888,\"#fdca26\"],[1.0,\"#f0f921\"]]}],\"contourcarpet\":[{\"type\":\"contourcarpet\",\"colorbar\":{\"outlinewidth\":0,\"ticks\":\"\"}}],\"contour\":[{\"type\":\"contour\",\"colorbar\":{\"outlinewidth\":0,\"ticks\":\"\"},\"colorscale\":[[0.0,\"#0d0887\"],[0.1111111111111111,\"#46039f\"],[0.2222222222222222,\"#7201a8\"],[0.3333333333333333,\"#9c179e\"],[0.4444444444444444,\"#bd3786\"],[0.5555555555555556,\"#d8576b\"],[0.6666666666666666,\"#ed7953\"],[0.7777777777777778,\"#fb9f3a\"],[0.8888888888888888,\"#fdca26\"],[1.0,\"#f0f921\"]]}],\"surface\":[{\"type\":\"surface\",\"colorbar\":{\"outlinewidth\":0,\"ticks\":\"\"},\"colorscale\":[[0.0,\"#0d0887\"],[0.1111111111111111,\"#46039f\"],[0.2222222222222222,\"#7201a8\"],[0.3333333333333333,\"#9c179e\"],[0.4444444444444444,\"#bd3786\"],[0.5555555555555556,\"#d8576b\"],[0.6666666666666666,\"#ed7953\"],[0.7777777777777778,\"#fb9f3a\"],[0.8888888888888888,\"#fdca26\"],[1.0,\"#f0f921\"]]}],\"mesh3d\":[{\"type\":\"mesh3d\",\"colorbar\":{\"outlinewidth\":0,\"ticks\":\"\"}}],\"scatter\":[{\"fillpattern\":{\"fillmode\":\"overlay\",\"size\":10,\"solidity\":0.2},\"type\":\"scatter\"}],\"parcoords\":[{\"type\":\"parcoords\",\"line\":{\"colorbar\":{\"outlinewidth\":0,\"ticks\":\"\"}}}],\"scatterpolargl\":[{\"type\":\"scatterpolargl\",\"marker\":{\"colorbar\":{\"outlinewidth\":0,\"ticks\":\"\"}}}],\"bar\":[{\"error_x\":{\"color\":\"#2a3f5f\"},\"error_y\":{\"color\":\"#2a3f5f\"},\"marker\":{\"line\":{\"color\":\"#E5ECF6\",\"width\":0.5},\"pattern\":{\"fillmode\":\"overlay\",\"size\":10,\"solidity\":0.2}},\"type\":\"bar\"}],\"scattergeo\":[{\"type\":\"scattergeo\",\"marker\":{\"colorbar\":{\"outlinewidth\":0,\"ticks\":\"\"}}}],\"scatterpolar\":[{\"type\":\"scatterpolar\",\"marker\":{\"colorbar\":{\"outlinewidth\":0,\"ticks\":\"\"}}}],\"histogram\":[{\"marker\":{\"pattern\":{\"fillmode\":\"overlay\",\"size\":10,\"solidity\":0.2}},\"type\":\"histogram\"}],\"scattergl\":[{\"type\":\"scattergl\",\"marker\":{\"colorbar\":{\"outlinewidth\":0,\"ticks\":\"\"}}}],\"scatter3d\":[{\"type\":\"scatter3d\",\"line\":{\"colorbar\":{\"outlinewidth\":0,\"ticks\":\"\"}},\"marker\":{\"colorbar\":{\"outlinewidth\":0,\"ticks\":\"\"}}}],\"scattermapbox\":[{\"type\":\"scattermapbox\",\"marker\":{\"colorbar\":{\"outlinewidth\":0,\"ticks\":\"\"}}}],\"scatterternary\":[{\"type\":\"scatterternary\",\"marker\":{\"colorbar\":{\"outlinewidth\":0,\"ticks\":\"\"}}}],\"scattercarpet\":[{\"type\":\"scattercarpet\",\"marker\":{\"colorbar\":{\"outlinewidth\":0,\"ticks\":\"\"}}}],\"carpet\":[{\"aaxis\":{\"endlinecolor\":\"#2a3f5f\",\"gridcolor\":\"white\",\"linecolor\":\"white\",\"minorgridcolor\":\"white\",\"startlinecolor\":\"#2a3f5f\"},\"baxis\":{\"endlinecolor\":\"#2a3f5f\",\"gridcolor\":\"white\",\"linecolor\":\"white\",\"minorgridcolor\":\"white\",\"startlinecolor\":\"#2a3f5f\"},\"type\":\"carpet\"}],\"table\":[{\"cells\":{\"fill\":{\"color\":\"#EBF0F8\"},\"line\":{\"color\":\"white\"}},\"header\":{\"fill\":{\"color\":\"#C8D4E3\"},\"line\":{\"color\":\"white\"}},\"type\":\"table\"}],\"barpolar\":[{\"marker\":{\"line\":{\"color\":\"#E5ECF6\",\"width\":0.5},\"pattern\":{\"fillmode\":\"overlay\",\"size\":10,\"solidity\":0.2}},\"type\":\"barpolar\"}],\"pie\":[{\"automargin\":true,\"type\":\"pie\"}]},\"layout\":{\"autotypenumbers\":\"strict\",\"colorway\":[\"#636efa\",\"#EF553B\",\"#00cc96\",\"#ab63fa\",\"#FFA15A\",\"#19d3f3\",\"#FF6692\",\"#B6E880\",\"#FF97FF\",\"#FECB52\"],\"font\":{\"color\":\"#2a3f5f\"},\"hovermode\":\"closest\",\"hoverlabel\":{\"align\":\"left\"},\"paper_bgcolor\":\"white\",\"plot_bgcolor\":\"#E5ECF6\",\"polar\":{\"bgcolor\":\"#E5ECF6\",\"angularaxis\":{\"gridcolor\":\"white\",\"linecolor\":\"white\",\"ticks\":\"\"},\"radialaxis\":{\"gridcolor\":\"white\",\"linecolor\":\"white\",\"ticks\":\"\"}},\"ternary\":{\"bgcolor\":\"#E5ECF6\",\"aaxis\":{\"gridcolor\":\"white\",\"linecolor\":\"white\",\"ticks\":\"\"},\"baxis\":{\"gridcolor\":\"white\",\"linecolor\":\"white\",\"ticks\":\"\"},\"caxis\":{\"gridcolor\":\"white\",\"linecolor\":\"white\",\"ticks\":\"\"}},\"coloraxis\":{\"colorbar\":{\"outlinewidth\":0,\"ticks\":\"\"}},\"colorscale\":{\"sequential\":[[0.0,\"#0d0887\"],[0.1111111111111111,\"#46039f\"],[0.2222222222222222,\"#7201a8\"],[0.3333333333333333,\"#9c179e\"],[0.4444444444444444,\"#bd3786\"],[0.5555555555555556,\"#d8576b\"],[0.6666666666666666,\"#ed7953\"],[0.7777777777777778,\"#fb9f3a\"],[0.8888888888888888,\"#fdca26\"],[1.0,\"#f0f921\"]],\"sequentialminus\":[[0.0,\"#0d0887\"],[0.1111111111111111,\"#46039f\"],[0.2222222222222222,\"#7201a8\"],[0.3333333333333333,\"#9c179e\"],[0.4444444444444444,\"#bd3786\"],[0.5555555555555556,\"#d8576b\"],[0.6666666666666666,\"#ed7953\"],[0.7777777777777778,\"#fb9f3a\"],[0.8888888888888888,\"#fdca26\"],[1.0,\"#f0f921\"]],\"diverging\":[[0,\"#8e0152\"],[0.1,\"#c51b7d\"],[0.2,\"#de77ae\"],[0.3,\"#f1b6da\"],[0.4,\"#fde0ef\"],[0.5,\"#f7f7f7\"],[0.6,\"#e6f5d0\"],[0.7,\"#b8e186\"],[0.8,\"#7fbc41\"],[0.9,\"#4d9221\"],[1,\"#276419\"]]},\"xaxis\":{\"gridcolor\":\"white\",\"linecolor\":\"white\",\"ticks\":\"\",\"title\":{\"standoff\":15},\"zerolinecolor\":\"white\",\"automargin\":true,\"zerolinewidth\":2},\"yaxis\":{\"gridcolor\":\"white\",\"linecolor\":\"white\",\"ticks\":\"\",\"title\":{\"standoff\":15},\"zerolinecolor\":\"white\",\"automargin\":true,\"zerolinewidth\":2},\"scene\":{\"xaxis\":{\"backgroundcolor\":\"#E5ECF6\",\"gridcolor\":\"white\",\"linecolor\":\"white\",\"showbackground\":true,\"ticks\":\"\",\"zerolinecolor\":\"white\",\"gridwidth\":2},\"yaxis\":{\"backgroundcolor\":\"#E5ECF6\",\"gridcolor\":\"white\",\"linecolor\":\"white\",\"showbackground\":true,\"ticks\":\"\",\"zerolinecolor\":\"white\",\"gridwidth\":2},\"zaxis\":{\"backgroundcolor\":\"#E5ECF6\",\"gridcolor\":\"white\",\"linecolor\":\"white\",\"showbackground\":true,\"ticks\":\"\",\"zerolinecolor\":\"white\",\"gridwidth\":2}},\"shapedefaults\":{\"line\":{\"color\":\"#2a3f5f\"}},\"annotationdefaults\":{\"arrowcolor\":\"#2a3f5f\",\"arrowhead\":0,\"arrowwidth\":1},\"geo\":{\"bgcolor\":\"white\",\"landcolor\":\"#E5ECF6\",\"subunitcolor\":\"white\",\"showland\":true,\"showlakes\":true,\"lakecolor\":\"white\"},\"title\":{\"x\":0.05},\"mapbox\":{\"style\":\"light\"}}},\"xaxis\":{\"anchor\":\"y\",\"domain\":[0.0,1.0],\"title\":{\"text\":\"impsubcase\"},\"categoryorder\":\"array\",\"categoryarray\":[\"Base Case\",\"Case 1A\",\"Case 1B\",\"Case 2\",\"Case 3\"]},\"yaxis\":{\"anchor\":\"x\",\"domain\":[0.0,1.0],\"title\":{\"text\":\"value\"}},\"legend\":{\"title\":{\"text\":\"ptype\"},\"tracegroupgap\":0},\"margin\":{\"t\":60},\"barmode\":\"relative\"},                        {\"responsive\": true}                    ).then(function(){\n",
       "                            \n",
       "var gd = document.getElementById('173e512e-d1f6-4a74-8e7e-3b52806127e9');\n",
       "var x = new MutationObserver(function (mutations, observer) {{\n",
       "        var display = window.getComputedStyle(gd).display;\n",
       "        if (!display || display === 'none') {{\n",
       "            console.log([gd, 'removed!']);\n",
       "            Plotly.purge(gd);\n",
       "            observer.disconnect();\n",
       "        }}\n",
       "}});\n",
       "\n",
       "// Listen for the removal of the full notebook cells\n",
       "var notebookContainer = gd.closest('#notebook-container');\n",
       "if (notebookContainer) {{\n",
       "    x.observe(notebookContainer, {childList: true});\n",
       "}}\n",
       "\n",
       "// Listen for the clearing of the current output cell\n",
       "var outputEl = gd.closest('.output');\n",
       "if (outputEl) {{\n",
       "    x.observe(outputEl, {childList: true});\n",
       "}}\n",
       "\n",
       "                        })                };                });            </script>        </div>"
      ]
     },
     "metadata": {},
     "output_type": "display_data"
    },
    {
     "data": {
      "text/markdown": [
       "**Urea**"
      ],
      "text/plain": [
       "<IPython.core.display.Markdown object>"
      ]
     },
     "metadata": {},
     "output_type": "display_data"
    },
    {
     "data": {
      "application/vnd.plotly.v1+json": {
       "config": {
        "plotlyServerURL": "https://plot.ly"
       },
       "data": [
        {
         "alignmentgroup": "True",
         "hovertemplate": "ptype=Annualised<br>CAPEX<br>impsubcase=%{x}<br>value=%{y}<extra></extra>",
         "legendgroup": "Annualised<br>CAPEX",
         "marker": {
          "color": "#f36f21",
          "pattern": {
           "shape": ""
          }
         },
         "name": "Annualised<br>CAPEX",
         "offsetgroup": "Annualised<br>CAPEX",
         "orientation": "v",
         "showlegend": true,
         "textposition": "auto",
         "type": "bar",
         "x": [
          "Base Case",
          "Base Case",
          "Base Case",
          "Base Case",
          "Base Case",
          "Case 1A",
          "Case 1A",
          "Case 1A",
          "Case 1A",
          "Case 1A",
          "Case 1B",
          "Case 1B",
          "Case 1B",
          "Case 1B",
          "Case 1B",
          "Case 2",
          "Case 2",
          "Case 2",
          "Case 2",
          "Case 2",
          "Case 3",
          "Case 3",
          "Case 3",
          "Case 3",
          "Case 3"
         ],
         "xaxis": "x",
         "y": [
          11.63,
          18.1,
          23.1,
          10.09,
          19.18,
          11.63,
          22.58,
          23.1,
          10.09,
          19.18,
          11.63,
          22.58,
          23.1,
          10.09,
          19.18,
          11.63,
          22.58,
          28.82,
          10.09,
          19.18,
          14.5,
          22.58,
          28.82,
          12.59,
          23.92
         ],
         "yaxis": "y"
        },
        {
         "alignmentgroup": "True",
         "hovertemplate": "ptype=Electricity<br>impsubcase=%{x}<br>value=%{y}<extra></extra>",
         "legendgroup": "Electricity",
         "marker": {
          "color": "#e6af2e",
          "pattern": {
           "shape": ""
          }
         },
         "name": "Electricity",
         "offsetgroup": "Electricity",
         "orientation": "v",
         "showlegend": true,
         "textposition": "auto",
         "type": "bar",
         "x": [
          "Base Case",
          "Base Case",
          "Base Case",
          "Base Case",
          "Base Case",
          "Case 1A",
          "Case 1A",
          "Case 1A",
          "Case 1A",
          "Case 1A",
          "Case 1B",
          "Case 1B",
          "Case 1B",
          "Case 1B",
          "Case 1B",
          "Case 2",
          "Case 2",
          "Case 2",
          "Case 2",
          "Case 2",
          "Case 3",
          "Case 3",
          "Case 3",
          "Case 3",
          "Case 3"
         ],
         "xaxis": "x",
         "y": [
          70.46,
          337,
          42.64,
          46.11,
          94.19,
          70.46,
          144.4,
          42.64,
          46.11,
          94.19,
          70.46,
          144.4,
          42.64,
          46.11,
          94.19,
          70.46,
          144.4,
          23.69,
          46.11,
          94.19,
          39.14,
          144.4,
          23.69,
          25.62,
          52.33
         ],
         "yaxis": "y"
        },
        {
         "alignmentgroup": "True",
         "hovertemplate": "ptype=Operation and<br>maintenance<br>impsubcase=%{x}<br>value=%{y}<extra></extra>",
         "legendgroup": "Operation and<br>maintenance",
         "marker": {
          "color": "#00813e",
          "pattern": {
           "shape": ""
          }
         },
         "name": "Operation and<br>maintenance",
         "offsetgroup": "Operation and<br>maintenance",
         "orientation": "v",
         "showlegend": true,
         "textposition": "auto",
         "type": "bar",
         "x": [
          "Base Case",
          "Base Case",
          "Base Case",
          "Base Case",
          "Case 1A",
          "Case 1A",
          "Case 1A",
          "Case 1A",
          "Case 1B",
          "Case 1B",
          "Case 1B",
          "Case 1B",
          "Case 2",
          "Case 2",
          "Case 2",
          "Case 2",
          "Case 3",
          "Case 3",
          "Case 3",
          "Case 3"
         ],
         "xaxis": "x",
         "y": [
          18.69,
          11.84,
          6.476,
          2.143,
          18.69,
          11.84,
          6.476,
          2.143,
          18.69,
          11.84,
          6.476,
          2.143,
          18.69,
          11.84,
          6.476,
          2.143,
          18.69,
          11.84,
          6.476,
          2.143
         ],
         "yaxis": "y"
        },
        {
         "alignmentgroup": "True",
         "hovertemplate": "ptype=Raw materials<br>impsubcase=%{x}<br>value=%{y}<extra></extra>",
         "legendgroup": "Raw materials",
         "marker": {
          "color": "#cccccc",
          "pattern": {
           "shape": ""
          }
         },
         "name": "Raw materials",
         "offsetgroup": "Raw materials",
         "orientation": "v",
         "showlegend": true,
         "textposition": "auto",
         "type": "bar",
         "x": [
          "Base Case",
          "Case 1A",
          "Case 1B",
          "Case 2",
          "Case 3"
         ],
         "xaxis": "x",
         "y": [
          9.723,
          9.723,
          9.723,
          9.723,
          9.723
         ],
         "yaxis": "y"
        },
        {
         "alignmentgroup": "True",
         "hovertemplate": "ptype=Transport<br>impsubcase=%{x}<br>value=%{y}<extra></extra>",
         "legendgroup": "Transport",
         "marker": {
          "color": "#7c1f8a",
          "pattern": {
           "shape": ""
          }
         },
         "name": "Transport",
         "offsetgroup": "Transport",
         "orientation": "v",
         "showlegend": true,
         "textposition": "auto",
         "type": "bar",
         "x": [
          "Case 1A",
          "Case 1B",
          "Case 2",
          "Case 3"
         ],
         "xaxis": "x",
         "y": [
          170.6,
          51.17,
          17.25,
          50
         ],
         "yaxis": "y"
        }
       ],
       "layout": {
        "autosize": true,
        "barmode": "relative",
        "legend": {
         "title": {
          "text": "ptype"
         },
         "tracegroupgap": 0
        },
        "margin": {
         "t": 60
        },
        "template": {
         "data": {
          "bar": [
           {
            "error_x": {
             "color": "#2a3f5f"
            },
            "error_y": {
             "color": "#2a3f5f"
            },
            "marker": {
             "line": {
              "color": "#E5ECF6",
              "width": 0.5
             },
             "pattern": {
              "fillmode": "overlay",
              "size": 10,
              "solidity": 0.2
             }
            },
            "type": "bar"
           }
          ],
          "barpolar": [
           {
            "marker": {
             "line": {
              "color": "#E5ECF6",
              "width": 0.5
             },
             "pattern": {
              "fillmode": "overlay",
              "size": 10,
              "solidity": 0.2
             }
            },
            "type": "barpolar"
           }
          ],
          "carpet": [
           {
            "aaxis": {
             "endlinecolor": "#2a3f5f",
             "gridcolor": "white",
             "linecolor": "white",
             "minorgridcolor": "white",
             "startlinecolor": "#2a3f5f"
            },
            "baxis": {
             "endlinecolor": "#2a3f5f",
             "gridcolor": "white",
             "linecolor": "white",
             "minorgridcolor": "white",
             "startlinecolor": "#2a3f5f"
            },
            "type": "carpet"
           }
          ],
          "choropleth": [
           {
            "colorbar": {
             "outlinewidth": 0,
             "ticks": ""
            },
            "type": "choropleth"
           }
          ],
          "contour": [
           {
            "colorbar": {
             "outlinewidth": 0,
             "ticks": ""
            },
            "colorscale": [
             [
              0,
              "#0d0887"
             ],
             [
              0.1111111111111111,
              "#46039f"
             ],
             [
              0.2222222222222222,
              "#7201a8"
             ],
             [
              0.3333333333333333,
              "#9c179e"
             ],
             [
              0.4444444444444444,
              "#bd3786"
             ],
             [
              0.5555555555555556,
              "#d8576b"
             ],
             [
              0.6666666666666666,
              "#ed7953"
             ],
             [
              0.7777777777777778,
              "#fb9f3a"
             ],
             [
              0.8888888888888888,
              "#fdca26"
             ],
             [
              1,
              "#f0f921"
             ]
            ],
            "type": "contour"
           }
          ],
          "contourcarpet": [
           {
            "colorbar": {
             "outlinewidth": 0,
             "ticks": ""
            },
            "type": "contourcarpet"
           }
          ],
          "heatmap": [
           {
            "colorbar": {
             "outlinewidth": 0,
             "ticks": ""
            },
            "colorscale": [
             [
              0,
              "#0d0887"
             ],
             [
              0.1111111111111111,
              "#46039f"
             ],
             [
              0.2222222222222222,
              "#7201a8"
             ],
             [
              0.3333333333333333,
              "#9c179e"
             ],
             [
              0.4444444444444444,
              "#bd3786"
             ],
             [
              0.5555555555555556,
              "#d8576b"
             ],
             [
              0.6666666666666666,
              "#ed7953"
             ],
             [
              0.7777777777777778,
              "#fb9f3a"
             ],
             [
              0.8888888888888888,
              "#fdca26"
             ],
             [
              1,
              "#f0f921"
             ]
            ],
            "type": "heatmap"
           }
          ],
          "heatmapgl": [
           {
            "colorbar": {
             "outlinewidth": 0,
             "ticks": ""
            },
            "colorscale": [
             [
              0,
              "#0d0887"
             ],
             [
              0.1111111111111111,
              "#46039f"
             ],
             [
              0.2222222222222222,
              "#7201a8"
             ],
             [
              0.3333333333333333,
              "#9c179e"
             ],
             [
              0.4444444444444444,
              "#bd3786"
             ],
             [
              0.5555555555555556,
              "#d8576b"
             ],
             [
              0.6666666666666666,
              "#ed7953"
             ],
             [
              0.7777777777777778,
              "#fb9f3a"
             ],
             [
              0.8888888888888888,
              "#fdca26"
             ],
             [
              1,
              "#f0f921"
             ]
            ],
            "type": "heatmapgl"
           }
          ],
          "histogram": [
           {
            "marker": {
             "pattern": {
              "fillmode": "overlay",
              "size": 10,
              "solidity": 0.2
             }
            },
            "type": "histogram"
           }
          ],
          "histogram2d": [
           {
            "colorbar": {
             "outlinewidth": 0,
             "ticks": ""
            },
            "colorscale": [
             [
              0,
              "#0d0887"
             ],
             [
              0.1111111111111111,
              "#46039f"
             ],
             [
              0.2222222222222222,
              "#7201a8"
             ],
             [
              0.3333333333333333,
              "#9c179e"
             ],
             [
              0.4444444444444444,
              "#bd3786"
             ],
             [
              0.5555555555555556,
              "#d8576b"
             ],
             [
              0.6666666666666666,
              "#ed7953"
             ],
             [
              0.7777777777777778,
              "#fb9f3a"
             ],
             [
              0.8888888888888888,
              "#fdca26"
             ],
             [
              1,
              "#f0f921"
             ]
            ],
            "type": "histogram2d"
           }
          ],
          "histogram2dcontour": [
           {
            "colorbar": {
             "outlinewidth": 0,
             "ticks": ""
            },
            "colorscale": [
             [
              0,
              "#0d0887"
             ],
             [
              0.1111111111111111,
              "#46039f"
             ],
             [
              0.2222222222222222,
              "#7201a8"
             ],
             [
              0.3333333333333333,
              "#9c179e"
             ],
             [
              0.4444444444444444,
              "#bd3786"
             ],
             [
              0.5555555555555556,
              "#d8576b"
             ],
             [
              0.6666666666666666,
              "#ed7953"
             ],
             [
              0.7777777777777778,
              "#fb9f3a"
             ],
             [
              0.8888888888888888,
              "#fdca26"
             ],
             [
              1,
              "#f0f921"
             ]
            ],
            "type": "histogram2dcontour"
           }
          ],
          "mesh3d": [
           {
            "colorbar": {
             "outlinewidth": 0,
             "ticks": ""
            },
            "type": "mesh3d"
           }
          ],
          "parcoords": [
           {
            "line": {
             "colorbar": {
              "outlinewidth": 0,
              "ticks": ""
             }
            },
            "type": "parcoords"
           }
          ],
          "pie": [
           {
            "automargin": true,
            "type": "pie"
           }
          ],
          "scatter": [
           {
            "fillpattern": {
             "fillmode": "overlay",
             "size": 10,
             "solidity": 0.2
            },
            "type": "scatter"
           }
          ],
          "scatter3d": [
           {
            "line": {
             "colorbar": {
              "outlinewidth": 0,
              "ticks": ""
             }
            },
            "marker": {
             "colorbar": {
              "outlinewidth": 0,
              "ticks": ""
             }
            },
            "type": "scatter3d"
           }
          ],
          "scattercarpet": [
           {
            "marker": {
             "colorbar": {
              "outlinewidth": 0,
              "ticks": ""
             }
            },
            "type": "scattercarpet"
           }
          ],
          "scattergeo": [
           {
            "marker": {
             "colorbar": {
              "outlinewidth": 0,
              "ticks": ""
             }
            },
            "type": "scattergeo"
           }
          ],
          "scattergl": [
           {
            "marker": {
             "colorbar": {
              "outlinewidth": 0,
              "ticks": ""
             }
            },
            "type": "scattergl"
           }
          ],
          "scattermapbox": [
           {
            "marker": {
             "colorbar": {
              "outlinewidth": 0,
              "ticks": ""
             }
            },
            "type": "scattermapbox"
           }
          ],
          "scatterpolar": [
           {
            "marker": {
             "colorbar": {
              "outlinewidth": 0,
              "ticks": ""
             }
            },
            "type": "scatterpolar"
           }
          ],
          "scatterpolargl": [
           {
            "marker": {
             "colorbar": {
              "outlinewidth": 0,
              "ticks": ""
             }
            },
            "type": "scatterpolargl"
           }
          ],
          "scatterternary": [
           {
            "marker": {
             "colorbar": {
              "outlinewidth": 0,
              "ticks": ""
             }
            },
            "type": "scatterternary"
           }
          ],
          "surface": [
           {
            "colorbar": {
             "outlinewidth": 0,
             "ticks": ""
            },
            "colorscale": [
             [
              0,
              "#0d0887"
             ],
             [
              0.1111111111111111,
              "#46039f"
             ],
             [
              0.2222222222222222,
              "#7201a8"
             ],
             [
              0.3333333333333333,
              "#9c179e"
             ],
             [
              0.4444444444444444,
              "#bd3786"
             ],
             [
              0.5555555555555556,
              "#d8576b"
             ],
             [
              0.6666666666666666,
              "#ed7953"
             ],
             [
              0.7777777777777778,
              "#fb9f3a"
             ],
             [
              0.8888888888888888,
              "#fdca26"
             ],
             [
              1,
              "#f0f921"
             ]
            ],
            "type": "surface"
           }
          ],
          "table": [
           {
            "cells": {
             "fill": {
              "color": "#EBF0F8"
             },
             "line": {
              "color": "white"
             }
            },
            "header": {
             "fill": {
              "color": "#C8D4E3"
             },
             "line": {
              "color": "white"
             }
            },
            "type": "table"
           }
          ]
         },
         "layout": {
          "annotationdefaults": {
           "arrowcolor": "#2a3f5f",
           "arrowhead": 0,
           "arrowwidth": 1
          },
          "autotypenumbers": "strict",
          "coloraxis": {
           "colorbar": {
            "outlinewidth": 0,
            "ticks": ""
           }
          },
          "colorscale": {
           "diverging": [
            [
             0,
             "#8e0152"
            ],
            [
             0.1,
             "#c51b7d"
            ],
            [
             0.2,
             "#de77ae"
            ],
            [
             0.3,
             "#f1b6da"
            ],
            [
             0.4,
             "#fde0ef"
            ],
            [
             0.5,
             "#f7f7f7"
            ],
            [
             0.6,
             "#e6f5d0"
            ],
            [
             0.7,
             "#b8e186"
            ],
            [
             0.8,
             "#7fbc41"
            ],
            [
             0.9,
             "#4d9221"
            ],
            [
             1,
             "#276419"
            ]
           ],
           "sequential": [
            [
             0,
             "#0d0887"
            ],
            [
             0.1111111111111111,
             "#46039f"
            ],
            [
             0.2222222222222222,
             "#7201a8"
            ],
            [
             0.3333333333333333,
             "#9c179e"
            ],
            [
             0.4444444444444444,
             "#bd3786"
            ],
            [
             0.5555555555555556,
             "#d8576b"
            ],
            [
             0.6666666666666666,
             "#ed7953"
            ],
            [
             0.7777777777777778,
             "#fb9f3a"
            ],
            [
             0.8888888888888888,
             "#fdca26"
            ],
            [
             1,
             "#f0f921"
            ]
           ],
           "sequentialminus": [
            [
             0,
             "#0d0887"
            ],
            [
             0.1111111111111111,
             "#46039f"
            ],
            [
             0.2222222222222222,
             "#7201a8"
            ],
            [
             0.3333333333333333,
             "#9c179e"
            ],
            [
             0.4444444444444444,
             "#bd3786"
            ],
            [
             0.5555555555555556,
             "#d8576b"
            ],
            [
             0.6666666666666666,
             "#ed7953"
            ],
            [
             0.7777777777777778,
             "#fb9f3a"
            ],
            [
             0.8888888888888888,
             "#fdca26"
            ],
            [
             1,
             "#f0f921"
            ]
           ]
          },
          "colorway": [
           "#636efa",
           "#EF553B",
           "#00cc96",
           "#ab63fa",
           "#FFA15A",
           "#19d3f3",
           "#FF6692",
           "#B6E880",
           "#FF97FF",
           "#FECB52"
          ],
          "font": {
           "color": "#2a3f5f"
          },
          "geo": {
           "bgcolor": "white",
           "lakecolor": "white",
           "landcolor": "#E5ECF6",
           "showlakes": true,
           "showland": true,
           "subunitcolor": "white"
          },
          "hoverlabel": {
           "align": "left"
          },
          "hovermode": "closest",
          "mapbox": {
           "style": "light"
          },
          "paper_bgcolor": "white",
          "plot_bgcolor": "#E5ECF6",
          "polar": {
           "angularaxis": {
            "gridcolor": "white",
            "linecolor": "white",
            "ticks": ""
           },
           "bgcolor": "#E5ECF6",
           "radialaxis": {
            "gridcolor": "white",
            "linecolor": "white",
            "ticks": ""
           }
          },
          "scene": {
           "xaxis": {
            "backgroundcolor": "#E5ECF6",
            "gridcolor": "white",
            "gridwidth": 2,
            "linecolor": "white",
            "showbackground": true,
            "ticks": "",
            "zerolinecolor": "white"
           },
           "yaxis": {
            "backgroundcolor": "#E5ECF6",
            "gridcolor": "white",
            "gridwidth": 2,
            "linecolor": "white",
            "showbackground": true,
            "ticks": "",
            "zerolinecolor": "white"
           },
           "zaxis": {
            "backgroundcolor": "#E5ECF6",
            "gridcolor": "white",
            "gridwidth": 2,
            "linecolor": "white",
            "showbackground": true,
            "ticks": "",
            "zerolinecolor": "white"
           }
          },
          "shapedefaults": {
           "line": {
            "color": "#2a3f5f"
           }
          },
          "ternary": {
           "aaxis": {
            "gridcolor": "white",
            "linecolor": "white",
            "ticks": ""
           },
           "baxis": {
            "gridcolor": "white",
            "linecolor": "white",
            "ticks": ""
           },
           "bgcolor": "#E5ECF6",
           "caxis": {
            "gridcolor": "white",
            "linecolor": "white",
            "ticks": ""
           }
          },
          "title": {
           "x": 0.05
          },
          "xaxis": {
           "automargin": true,
           "gridcolor": "white",
           "linecolor": "white",
           "ticks": "",
           "title": {
            "standoff": 15
           },
           "zerolinecolor": "white",
           "zerolinewidth": 2
          },
          "yaxis": {
           "automargin": true,
           "gridcolor": "white",
           "linecolor": "white",
           "ticks": "",
           "title": {
            "standoff": 15
           },
           "zerolinecolor": "white",
           "zerolinewidth": 2
          }
         }
        },
        "xaxis": {
         "anchor": "y",
         "autorange": true,
         "categoryarray": [
          "Base Case",
          "Case 1A",
          "Case 1B",
          "Case 2",
          "Case 3"
         ],
         "categoryorder": "array",
         "domain": [
          0,
          1
         ],
         "range": [
          -0.5,
          4.5
         ],
         "title": {
          "text": "impsubcase"
         },
         "type": "category"
        },
        "yaxis": {
         "anchor": "x",
         "autorange": true,
         "domain": [
          0,
          1
         ],
         "range": [
          0,
          759.3389473684211
         ],
         "title": {
          "text": "value"
         },
         "type": "linear"
        }
       }
      },
      "text/html": [
       "<div>                            <div id=\"76b42e36-c901-4715-911a-c15bb8ff0f4b\" class=\"plotly-graph-div\" style=\"height:525px; width:100%;\"></div>            <script type=\"text/javascript\">                require([\"plotly\"], function(Plotly) {                    window.PLOTLYENV=window.PLOTLYENV || {};                                    if (document.getElementById(\"76b42e36-c901-4715-911a-c15bb8ff0f4b\")) {                    Plotly.newPlot(                        \"76b42e36-c901-4715-911a-c15bb8ff0f4b\",                        [{\"alignmentgroup\":\"True\",\"hovertemplate\":\"ptype=Annualised\\u003cbr\\u003eCAPEX\\u003cbr\\u003eimpsubcase=%{x}\\u003cbr\\u003evalue=%{y}\\u003cextra\\u003e\\u003c\\u002fextra\\u003e\",\"legendgroup\":\"Annualised\\u003cbr\\u003eCAPEX\",\"marker\":{\"color\":\"#f36f21\",\"pattern\":{\"shape\":\"\"}},\"name\":\"Annualised\\u003cbr\\u003eCAPEX\",\"offsetgroup\":\"Annualised\\u003cbr\\u003eCAPEX\",\"orientation\":\"v\",\"showlegend\":true,\"textposition\":\"auto\",\"x\":[\"Base Case\",\"Base Case\",\"Base Case\",\"Base Case\",\"Base Case\",\"Case 1A\",\"Case 1A\",\"Case 1A\",\"Case 1A\",\"Case 1A\",\"Case 1B\",\"Case 1B\",\"Case 1B\",\"Case 1B\",\"Case 1B\",\"Case 2\",\"Case 2\",\"Case 2\",\"Case 2\",\"Case 2\",\"Case 3\",\"Case 3\",\"Case 3\",\"Case 3\",\"Case 3\"],\"xaxis\":\"x\",\"y\":[11.63,18.1,23.1,10.09,19.18,11.63,22.58,23.1,10.09,19.18,11.63,22.58,23.1,10.09,19.18,11.63,22.58,28.82,10.09,19.18,14.5,22.58,28.82,12.59,23.92],\"yaxis\":\"y\",\"type\":\"bar\"},{\"alignmentgroup\":\"True\",\"hovertemplate\":\"ptype=Electricity\\u003cbr\\u003eimpsubcase=%{x}\\u003cbr\\u003evalue=%{y}\\u003cextra\\u003e\\u003c\\u002fextra\\u003e\",\"legendgroup\":\"Electricity\",\"marker\":{\"color\":\"#e6af2e\",\"pattern\":{\"shape\":\"\"}},\"name\":\"Electricity\",\"offsetgroup\":\"Electricity\",\"orientation\":\"v\",\"showlegend\":true,\"textposition\":\"auto\",\"x\":[\"Base Case\",\"Base Case\",\"Base Case\",\"Base Case\",\"Base Case\",\"Case 1A\",\"Case 1A\",\"Case 1A\",\"Case 1A\",\"Case 1A\",\"Case 1B\",\"Case 1B\",\"Case 1B\",\"Case 1B\",\"Case 1B\",\"Case 2\",\"Case 2\",\"Case 2\",\"Case 2\",\"Case 2\",\"Case 3\",\"Case 3\",\"Case 3\",\"Case 3\",\"Case 3\"],\"xaxis\":\"x\",\"y\":[70.46,337.0,42.64,46.11,94.19,70.46,144.4,42.64,46.11,94.19,70.46,144.4,42.64,46.11,94.19,70.46,144.4,23.69,46.11,94.19,39.14,144.4,23.69,25.62,52.33],\"yaxis\":\"y\",\"type\":\"bar\"},{\"alignmentgroup\":\"True\",\"hovertemplate\":\"ptype=Operation and\\u003cbr\\u003emaintenance\\u003cbr\\u003eimpsubcase=%{x}\\u003cbr\\u003evalue=%{y}\\u003cextra\\u003e\\u003c\\u002fextra\\u003e\",\"legendgroup\":\"Operation and\\u003cbr\\u003emaintenance\",\"marker\":{\"color\":\"#00813e\",\"pattern\":{\"shape\":\"\"}},\"name\":\"Operation and\\u003cbr\\u003emaintenance\",\"offsetgroup\":\"Operation and\\u003cbr\\u003emaintenance\",\"orientation\":\"v\",\"showlegend\":true,\"textposition\":\"auto\",\"x\":[\"Base Case\",\"Base Case\",\"Base Case\",\"Base Case\",\"Case 1A\",\"Case 1A\",\"Case 1A\",\"Case 1A\",\"Case 1B\",\"Case 1B\",\"Case 1B\",\"Case 1B\",\"Case 2\",\"Case 2\",\"Case 2\",\"Case 2\",\"Case 3\",\"Case 3\",\"Case 3\",\"Case 3\"],\"xaxis\":\"x\",\"y\":[18.69,11.84,6.476,2.143,18.69,11.84,6.476,2.143,18.69,11.84,6.476,2.143,18.69,11.84,6.476,2.143,18.69,11.84,6.476,2.143],\"yaxis\":\"y\",\"type\":\"bar\"},{\"alignmentgroup\":\"True\",\"hovertemplate\":\"ptype=Raw materials\\u003cbr\\u003eimpsubcase=%{x}\\u003cbr\\u003evalue=%{y}\\u003cextra\\u003e\\u003c\\u002fextra\\u003e\",\"legendgroup\":\"Raw materials\",\"marker\":{\"color\":\"#cccccc\",\"pattern\":{\"shape\":\"\"}},\"name\":\"Raw materials\",\"offsetgroup\":\"Raw materials\",\"orientation\":\"v\",\"showlegend\":true,\"textposition\":\"auto\",\"x\":[\"Base Case\",\"Case 1A\",\"Case 1B\",\"Case 2\",\"Case 3\"],\"xaxis\":\"x\",\"y\":[9.723,9.723,9.723,9.723,9.723],\"yaxis\":\"y\",\"type\":\"bar\"},{\"alignmentgroup\":\"True\",\"hovertemplate\":\"ptype=Transport\\u003cbr\\u003eimpsubcase=%{x}\\u003cbr\\u003evalue=%{y}\\u003cextra\\u003e\\u003c\\u002fextra\\u003e\",\"legendgroup\":\"Transport\",\"marker\":{\"color\":\"#7c1f8a\",\"pattern\":{\"shape\":\"\"}},\"name\":\"Transport\",\"offsetgroup\":\"Transport\",\"orientation\":\"v\",\"showlegend\":true,\"textposition\":\"auto\",\"x\":[\"Case 1A\",\"Case 1B\",\"Case 2\",\"Case 3\"],\"xaxis\":\"x\",\"y\":[170.6,51.17,17.25,50.0],\"yaxis\":\"y\",\"type\":\"bar\"}],                        {\"template\":{\"data\":{\"histogram2dcontour\":[{\"type\":\"histogram2dcontour\",\"colorbar\":{\"outlinewidth\":0,\"ticks\":\"\"},\"colorscale\":[[0.0,\"#0d0887\"],[0.1111111111111111,\"#46039f\"],[0.2222222222222222,\"#7201a8\"],[0.3333333333333333,\"#9c179e\"],[0.4444444444444444,\"#bd3786\"],[0.5555555555555556,\"#d8576b\"],[0.6666666666666666,\"#ed7953\"],[0.7777777777777778,\"#fb9f3a\"],[0.8888888888888888,\"#fdca26\"],[1.0,\"#f0f921\"]]}],\"choropleth\":[{\"type\":\"choropleth\",\"colorbar\":{\"outlinewidth\":0,\"ticks\":\"\"}}],\"histogram2d\":[{\"type\":\"histogram2d\",\"colorbar\":{\"outlinewidth\":0,\"ticks\":\"\"},\"colorscale\":[[0.0,\"#0d0887\"],[0.1111111111111111,\"#46039f\"],[0.2222222222222222,\"#7201a8\"],[0.3333333333333333,\"#9c179e\"],[0.4444444444444444,\"#bd3786\"],[0.5555555555555556,\"#d8576b\"],[0.6666666666666666,\"#ed7953\"],[0.7777777777777778,\"#fb9f3a\"],[0.8888888888888888,\"#fdca26\"],[1.0,\"#f0f921\"]]}],\"heatmap\":[{\"type\":\"heatmap\",\"colorbar\":{\"outlinewidth\":0,\"ticks\":\"\"},\"colorscale\":[[0.0,\"#0d0887\"],[0.1111111111111111,\"#46039f\"],[0.2222222222222222,\"#7201a8\"],[0.3333333333333333,\"#9c179e\"],[0.4444444444444444,\"#bd3786\"],[0.5555555555555556,\"#d8576b\"],[0.6666666666666666,\"#ed7953\"],[0.7777777777777778,\"#fb9f3a\"],[0.8888888888888888,\"#fdca26\"],[1.0,\"#f0f921\"]]}],\"heatmapgl\":[{\"type\":\"heatmapgl\",\"colorbar\":{\"outlinewidth\":0,\"ticks\":\"\"},\"colorscale\":[[0.0,\"#0d0887\"],[0.1111111111111111,\"#46039f\"],[0.2222222222222222,\"#7201a8\"],[0.3333333333333333,\"#9c179e\"],[0.4444444444444444,\"#bd3786\"],[0.5555555555555556,\"#d8576b\"],[0.6666666666666666,\"#ed7953\"],[0.7777777777777778,\"#fb9f3a\"],[0.8888888888888888,\"#fdca26\"],[1.0,\"#f0f921\"]]}],\"contourcarpet\":[{\"type\":\"contourcarpet\",\"colorbar\":{\"outlinewidth\":0,\"ticks\":\"\"}}],\"contour\":[{\"type\":\"contour\",\"colorbar\":{\"outlinewidth\":0,\"ticks\":\"\"},\"colorscale\":[[0.0,\"#0d0887\"],[0.1111111111111111,\"#46039f\"],[0.2222222222222222,\"#7201a8\"],[0.3333333333333333,\"#9c179e\"],[0.4444444444444444,\"#bd3786\"],[0.5555555555555556,\"#d8576b\"],[0.6666666666666666,\"#ed7953\"],[0.7777777777777778,\"#fb9f3a\"],[0.8888888888888888,\"#fdca26\"],[1.0,\"#f0f921\"]]}],\"surface\":[{\"type\":\"surface\",\"colorbar\":{\"outlinewidth\":0,\"ticks\":\"\"},\"colorscale\":[[0.0,\"#0d0887\"],[0.1111111111111111,\"#46039f\"],[0.2222222222222222,\"#7201a8\"],[0.3333333333333333,\"#9c179e\"],[0.4444444444444444,\"#bd3786\"],[0.5555555555555556,\"#d8576b\"],[0.6666666666666666,\"#ed7953\"],[0.7777777777777778,\"#fb9f3a\"],[0.8888888888888888,\"#fdca26\"],[1.0,\"#f0f921\"]]}],\"mesh3d\":[{\"type\":\"mesh3d\",\"colorbar\":{\"outlinewidth\":0,\"ticks\":\"\"}}],\"scatter\":[{\"fillpattern\":{\"fillmode\":\"overlay\",\"size\":10,\"solidity\":0.2},\"type\":\"scatter\"}],\"parcoords\":[{\"type\":\"parcoords\",\"line\":{\"colorbar\":{\"outlinewidth\":0,\"ticks\":\"\"}}}],\"scatterpolargl\":[{\"type\":\"scatterpolargl\",\"marker\":{\"colorbar\":{\"outlinewidth\":0,\"ticks\":\"\"}}}],\"bar\":[{\"error_x\":{\"color\":\"#2a3f5f\"},\"error_y\":{\"color\":\"#2a3f5f\"},\"marker\":{\"line\":{\"color\":\"#E5ECF6\",\"width\":0.5},\"pattern\":{\"fillmode\":\"overlay\",\"size\":10,\"solidity\":0.2}},\"type\":\"bar\"}],\"scattergeo\":[{\"type\":\"scattergeo\",\"marker\":{\"colorbar\":{\"outlinewidth\":0,\"ticks\":\"\"}}}],\"scatterpolar\":[{\"type\":\"scatterpolar\",\"marker\":{\"colorbar\":{\"outlinewidth\":0,\"ticks\":\"\"}}}],\"histogram\":[{\"marker\":{\"pattern\":{\"fillmode\":\"overlay\",\"size\":10,\"solidity\":0.2}},\"type\":\"histogram\"}],\"scattergl\":[{\"type\":\"scattergl\",\"marker\":{\"colorbar\":{\"outlinewidth\":0,\"ticks\":\"\"}}}],\"scatter3d\":[{\"type\":\"scatter3d\",\"line\":{\"colorbar\":{\"outlinewidth\":0,\"ticks\":\"\"}},\"marker\":{\"colorbar\":{\"outlinewidth\":0,\"ticks\":\"\"}}}],\"scattermapbox\":[{\"type\":\"scattermapbox\",\"marker\":{\"colorbar\":{\"outlinewidth\":0,\"ticks\":\"\"}}}],\"scatterternary\":[{\"type\":\"scatterternary\",\"marker\":{\"colorbar\":{\"outlinewidth\":0,\"ticks\":\"\"}}}],\"scattercarpet\":[{\"type\":\"scattercarpet\",\"marker\":{\"colorbar\":{\"outlinewidth\":0,\"ticks\":\"\"}}}],\"carpet\":[{\"aaxis\":{\"endlinecolor\":\"#2a3f5f\",\"gridcolor\":\"white\",\"linecolor\":\"white\",\"minorgridcolor\":\"white\",\"startlinecolor\":\"#2a3f5f\"},\"baxis\":{\"endlinecolor\":\"#2a3f5f\",\"gridcolor\":\"white\",\"linecolor\":\"white\",\"minorgridcolor\":\"white\",\"startlinecolor\":\"#2a3f5f\"},\"type\":\"carpet\"}],\"table\":[{\"cells\":{\"fill\":{\"color\":\"#EBF0F8\"},\"line\":{\"color\":\"white\"}},\"header\":{\"fill\":{\"color\":\"#C8D4E3\"},\"line\":{\"color\":\"white\"}},\"type\":\"table\"}],\"barpolar\":[{\"marker\":{\"line\":{\"color\":\"#E5ECF6\",\"width\":0.5},\"pattern\":{\"fillmode\":\"overlay\",\"size\":10,\"solidity\":0.2}},\"type\":\"barpolar\"}],\"pie\":[{\"automargin\":true,\"type\":\"pie\"}]},\"layout\":{\"autotypenumbers\":\"strict\",\"colorway\":[\"#636efa\",\"#EF553B\",\"#00cc96\",\"#ab63fa\",\"#FFA15A\",\"#19d3f3\",\"#FF6692\",\"#B6E880\",\"#FF97FF\",\"#FECB52\"],\"font\":{\"color\":\"#2a3f5f\"},\"hovermode\":\"closest\",\"hoverlabel\":{\"align\":\"left\"},\"paper_bgcolor\":\"white\",\"plot_bgcolor\":\"#E5ECF6\",\"polar\":{\"bgcolor\":\"#E5ECF6\",\"angularaxis\":{\"gridcolor\":\"white\",\"linecolor\":\"white\",\"ticks\":\"\"},\"radialaxis\":{\"gridcolor\":\"white\",\"linecolor\":\"white\",\"ticks\":\"\"}},\"ternary\":{\"bgcolor\":\"#E5ECF6\",\"aaxis\":{\"gridcolor\":\"white\",\"linecolor\":\"white\",\"ticks\":\"\"},\"baxis\":{\"gridcolor\":\"white\",\"linecolor\":\"white\",\"ticks\":\"\"},\"caxis\":{\"gridcolor\":\"white\",\"linecolor\":\"white\",\"ticks\":\"\"}},\"coloraxis\":{\"colorbar\":{\"outlinewidth\":0,\"ticks\":\"\"}},\"colorscale\":{\"sequential\":[[0.0,\"#0d0887\"],[0.1111111111111111,\"#46039f\"],[0.2222222222222222,\"#7201a8\"],[0.3333333333333333,\"#9c179e\"],[0.4444444444444444,\"#bd3786\"],[0.5555555555555556,\"#d8576b\"],[0.6666666666666666,\"#ed7953\"],[0.7777777777777778,\"#fb9f3a\"],[0.8888888888888888,\"#fdca26\"],[1.0,\"#f0f921\"]],\"sequentialminus\":[[0.0,\"#0d0887\"],[0.1111111111111111,\"#46039f\"],[0.2222222222222222,\"#7201a8\"],[0.3333333333333333,\"#9c179e\"],[0.4444444444444444,\"#bd3786\"],[0.5555555555555556,\"#d8576b\"],[0.6666666666666666,\"#ed7953\"],[0.7777777777777778,\"#fb9f3a\"],[0.8888888888888888,\"#fdca26\"],[1.0,\"#f0f921\"]],\"diverging\":[[0,\"#8e0152\"],[0.1,\"#c51b7d\"],[0.2,\"#de77ae\"],[0.3,\"#f1b6da\"],[0.4,\"#fde0ef\"],[0.5,\"#f7f7f7\"],[0.6,\"#e6f5d0\"],[0.7,\"#b8e186\"],[0.8,\"#7fbc41\"],[0.9,\"#4d9221\"],[1,\"#276419\"]]},\"xaxis\":{\"gridcolor\":\"white\",\"linecolor\":\"white\",\"ticks\":\"\",\"title\":{\"standoff\":15},\"zerolinecolor\":\"white\",\"automargin\":true,\"zerolinewidth\":2},\"yaxis\":{\"gridcolor\":\"white\",\"linecolor\":\"white\",\"ticks\":\"\",\"title\":{\"standoff\":15},\"zerolinecolor\":\"white\",\"automargin\":true,\"zerolinewidth\":2},\"scene\":{\"xaxis\":{\"backgroundcolor\":\"#E5ECF6\",\"gridcolor\":\"white\",\"linecolor\":\"white\",\"showbackground\":true,\"ticks\":\"\",\"zerolinecolor\":\"white\",\"gridwidth\":2},\"yaxis\":{\"backgroundcolor\":\"#E5ECF6\",\"gridcolor\":\"white\",\"linecolor\":\"white\",\"showbackground\":true,\"ticks\":\"\",\"zerolinecolor\":\"white\",\"gridwidth\":2},\"zaxis\":{\"backgroundcolor\":\"#E5ECF6\",\"gridcolor\":\"white\",\"linecolor\":\"white\",\"showbackground\":true,\"ticks\":\"\",\"zerolinecolor\":\"white\",\"gridwidth\":2}},\"shapedefaults\":{\"line\":{\"color\":\"#2a3f5f\"}},\"annotationdefaults\":{\"arrowcolor\":\"#2a3f5f\",\"arrowhead\":0,\"arrowwidth\":1},\"geo\":{\"bgcolor\":\"white\",\"landcolor\":\"#E5ECF6\",\"subunitcolor\":\"white\",\"showland\":true,\"showlakes\":true,\"lakecolor\":\"white\"},\"title\":{\"x\":0.05},\"mapbox\":{\"style\":\"light\"}}},\"xaxis\":{\"anchor\":\"y\",\"domain\":[0.0,1.0],\"title\":{\"text\":\"impsubcase\"},\"categoryorder\":\"array\",\"categoryarray\":[\"Base Case\",\"Case 1A\",\"Case 1B\",\"Case 2\",\"Case 3\"]},\"yaxis\":{\"anchor\":\"x\",\"domain\":[0.0,1.0],\"title\":{\"text\":\"value\"}},\"legend\":{\"title\":{\"text\":\"ptype\"},\"tracegroupgap\":0},\"margin\":{\"t\":60},\"barmode\":\"relative\"},                        {\"responsive\": true}                    ).then(function(){\n",
       "                            \n",
       "var gd = document.getElementById('76b42e36-c901-4715-911a-c15bb8ff0f4b');\n",
       "var x = new MutationObserver(function (mutations, observer) {{\n",
       "        var display = window.getComputedStyle(gd).display;\n",
       "        if (!display || display === 'none') {{\n",
       "            console.log([gd, 'removed!']);\n",
       "            Plotly.purge(gd);\n",
       "            observer.disconnect();\n",
       "        }}\n",
       "}});\n",
       "\n",
       "// Listen for the removal of the full notebook cells\n",
       "var notebookContainer = gd.closest('#notebook-container');\n",
       "if (notebookContainer) {{\n",
       "    x.observe(notebookContainer, {childList: true});\n",
       "}}\n",
       "\n",
       "// Listen for the clearing of the current output cell\n",
       "var outputEl = gd.closest('.output');\n",
       "if (outputEl) {{\n",
       "    x.observe(outputEl, {childList: true});\n",
       "}}\n",
       "\n",
       "                        })                };                });            </script>        </div>"
      ]
     },
     "metadata": {},
     "output_type": "display_data"
    },
    {
     "data": {
      "text/markdown": [
       "**Ethylene**"
      ],
      "text/plain": [
       "<IPython.core.display.Markdown object>"
      ]
     },
     "metadata": {},
     "output_type": "display_data"
    },
    {
     "data": {
      "application/vnd.plotly.v1+json": {
       "config": {
        "plotlyServerURL": "https://plot.ly"
       },
       "data": [
        {
         "alignmentgroup": "True",
         "hovertemplate": "ptype=Annualised<br>CAPEX<br>impsubcase=%{x}<br>value=%{y}<extra></extra>",
         "legendgroup": "Annualised<br>CAPEX",
         "marker": {
          "color": "#f36f21",
          "pattern": {
           "shape": ""
          }
         },
         "name": "Annualised<br>CAPEX",
         "offsetgroup": "Annualised<br>CAPEX",
         "orientation": "v",
         "showlegend": true,
         "textposition": "auto",
         "type": "bar",
         "x": [
          "Base Case",
          "Base Case",
          "Base Case",
          "Base Case",
          "Base Case",
          "Case 1A",
          "Case 1A",
          "Case 1A",
          "Case 1A",
          "Case 1A",
          "Case 1B",
          "Case 1B",
          "Case 1B",
          "Case 1B",
          "Case 1B",
          "Case 2",
          "Case 2",
          "Case 2",
          "Case 2",
          "Case 2",
          "Case 3",
          "Case 3",
          "Case 3",
          "Case 3",
          "Case 3"
         ],
         "xaxis": "x",
         "y": [
          50.15,
          77.91,
          43.54,
          35.58,
          72.95,
          50.15,
          97.18,
          43.54,
          35.58,
          72.95,
          50.15,
          97.18,
          43.54,
          35.58,
          72.95,
          62.56,
          97.18,
          54.3,
          35.58,
          90.99,
          62.56,
          97.18,
          54.3,
          44.38,
          90.99
         ],
         "yaxis": "y"
        },
        {
         "alignmentgroup": "True",
         "hovertemplate": "ptype=Electricity<br>impsubcase=%{x}<br>value=%{y}<extra></extra>",
         "legendgroup": "Electricity",
         "marker": {
          "color": "#e6af2e",
          "pattern": {
           "shape": ""
          }
         },
         "name": "Electricity",
         "offsetgroup": "Electricity",
         "orientation": "v",
         "showlegend": true,
         "textposition": "auto",
         "type": "bar",
         "x": [
          "Base Case",
          "Base Case",
          "Base Case",
          "Base Case",
          "Base Case",
          "Case 1A",
          "Case 1A",
          "Case 1A",
          "Case 1A",
          "Case 1A",
          "Case 1B",
          "Case 1B",
          "Case 1B",
          "Case 1B",
          "Case 1B",
          "Case 2",
          "Case 2",
          "Case 2",
          "Case 2",
          "Case 2",
          "Case 3",
          "Case 3",
          "Case 3",
          "Case 3",
          "Case 3"
         ],
         "xaxis": "x",
         "y": [
          303.9,
          1450,
          198.9,
          125,
          439.1,
          303.9,
          621.6,
          198.9,
          125,
          439.1,
          303.9,
          621.6,
          198.9,
          125,
          439.1,
          168.9,
          621.6,
          110.5,
          125,
          244,
          168.9,
          621.6,
          110.5,
          69.45,
          244
         ],
         "yaxis": "y"
        },
        {
         "alignmentgroup": "True",
         "hovertemplate": "ptype=Operation and<br>maintenance<br>impsubcase=%{x}<br>value=%{y}<extra></extra>",
         "legendgroup": "Operation and<br>maintenance",
         "marker": {
          "color": "#00813e",
          "pattern": {
           "shape": ""
          }
         },
         "name": "Operation and<br>maintenance",
         "offsetgroup": "Operation and<br>maintenance",
         "orientation": "v",
         "showlegend": true,
         "textposition": "auto",
         "type": "bar",
         "x": [
          "Base Case",
          "Base Case",
          "Base Case",
          "Base Case",
          "Base Case",
          "Case 1A",
          "Case 1A",
          "Case 1A",
          "Case 1A",
          "Case 1A",
          "Case 1B",
          "Case 1B",
          "Case 1B",
          "Case 1B",
          "Case 1B",
          "Case 2",
          "Case 2",
          "Case 2",
          "Case 2",
          "Case 2",
          "Case 3",
          "Case 3",
          "Case 3",
          "Case 3",
          "Case 3"
         ],
         "xaxis": "x",
         "y": [
          80.63,
          50.96,
          9.245,
          31.42,
          19.66,
          80.63,
          50.96,
          9.245,
          31.42,
          19.66,
          80.63,
          50.96,
          9.245,
          31.42,
          19.66,
          80.63,
          50.96,
          9.245,
          31.42,
          19.66,
          80.63,
          50.96,
          9.245,
          31.42,
          19.66
         ],
         "yaxis": "y"
        },
        {
         "alignmentgroup": "True",
         "hovertemplate": "ptype=Raw materials<br>impsubcase=%{x}<br>value=%{y}<extra></extra>",
         "legendgroup": "Raw materials",
         "marker": {
          "color": "#cccccc",
          "pattern": {
           "shape": ""
          }
         },
         "name": "Raw materials",
         "offsetgroup": "Raw materials",
         "orientation": "v",
         "showlegend": true,
         "textposition": "auto",
         "type": "bar",
         "x": [
          "Base Case",
          "Case 1A",
          "Case 1B",
          "Case 2",
          "Case 3"
         ],
         "xaxis": "x",
         "y": [
          41.85,
          41.85,
          41.85,
          41.85,
          41.85
         ],
         "yaxis": "y"
        },
        {
         "alignmentgroup": "True",
         "hovertemplate": "ptype=Transport<br>impsubcase=%{x}<br>value=%{y}<extra></extra>",
         "legendgroup": "Transport",
         "marker": {
          "color": "#7c1f8a",
          "pattern": {
           "shape": ""
          }
         },
         "name": "Transport",
         "offsetgroup": "Transport",
         "orientation": "v",
         "showlegend": true,
         "textposition": "auto",
         "type": "bar",
         "x": [
          "Case 1A",
          "Case 1B",
          "Case 2",
          "Case 3"
         ],
         "xaxis": "x",
         "y": [
          734.3,
          220.3,
          68.4,
          80
         ],
         "yaxis": "y"
        }
       ],
       "layout": {
        "autosize": true,
        "barmode": "relative",
        "legend": {
         "title": {
          "text": "ptype"
         },
         "tracegroupgap": 0
        },
        "margin": {
         "t": 60
        },
        "template": {
         "data": {
          "bar": [
           {
            "error_x": {
             "color": "#2a3f5f"
            },
            "error_y": {
             "color": "#2a3f5f"
            },
            "marker": {
             "line": {
              "color": "#E5ECF6",
              "width": 0.5
             },
             "pattern": {
              "fillmode": "overlay",
              "size": 10,
              "solidity": 0.2
             }
            },
            "type": "bar"
           }
          ],
          "barpolar": [
           {
            "marker": {
             "line": {
              "color": "#E5ECF6",
              "width": 0.5
             },
             "pattern": {
              "fillmode": "overlay",
              "size": 10,
              "solidity": 0.2
             }
            },
            "type": "barpolar"
           }
          ],
          "carpet": [
           {
            "aaxis": {
             "endlinecolor": "#2a3f5f",
             "gridcolor": "white",
             "linecolor": "white",
             "minorgridcolor": "white",
             "startlinecolor": "#2a3f5f"
            },
            "baxis": {
             "endlinecolor": "#2a3f5f",
             "gridcolor": "white",
             "linecolor": "white",
             "minorgridcolor": "white",
             "startlinecolor": "#2a3f5f"
            },
            "type": "carpet"
           }
          ],
          "choropleth": [
           {
            "colorbar": {
             "outlinewidth": 0,
             "ticks": ""
            },
            "type": "choropleth"
           }
          ],
          "contour": [
           {
            "colorbar": {
             "outlinewidth": 0,
             "ticks": ""
            },
            "colorscale": [
             [
              0,
              "#0d0887"
             ],
             [
              0.1111111111111111,
              "#46039f"
             ],
             [
              0.2222222222222222,
              "#7201a8"
             ],
             [
              0.3333333333333333,
              "#9c179e"
             ],
             [
              0.4444444444444444,
              "#bd3786"
             ],
             [
              0.5555555555555556,
              "#d8576b"
             ],
             [
              0.6666666666666666,
              "#ed7953"
             ],
             [
              0.7777777777777778,
              "#fb9f3a"
             ],
             [
              0.8888888888888888,
              "#fdca26"
             ],
             [
              1,
              "#f0f921"
             ]
            ],
            "type": "contour"
           }
          ],
          "contourcarpet": [
           {
            "colorbar": {
             "outlinewidth": 0,
             "ticks": ""
            },
            "type": "contourcarpet"
           }
          ],
          "heatmap": [
           {
            "colorbar": {
             "outlinewidth": 0,
             "ticks": ""
            },
            "colorscale": [
             [
              0,
              "#0d0887"
             ],
             [
              0.1111111111111111,
              "#46039f"
             ],
             [
              0.2222222222222222,
              "#7201a8"
             ],
             [
              0.3333333333333333,
              "#9c179e"
             ],
             [
              0.4444444444444444,
              "#bd3786"
             ],
             [
              0.5555555555555556,
              "#d8576b"
             ],
             [
              0.6666666666666666,
              "#ed7953"
             ],
             [
              0.7777777777777778,
              "#fb9f3a"
             ],
             [
              0.8888888888888888,
              "#fdca26"
             ],
             [
              1,
              "#f0f921"
             ]
            ],
            "type": "heatmap"
           }
          ],
          "heatmapgl": [
           {
            "colorbar": {
             "outlinewidth": 0,
             "ticks": ""
            },
            "colorscale": [
             [
              0,
              "#0d0887"
             ],
             [
              0.1111111111111111,
              "#46039f"
             ],
             [
              0.2222222222222222,
              "#7201a8"
             ],
             [
              0.3333333333333333,
              "#9c179e"
             ],
             [
              0.4444444444444444,
              "#bd3786"
             ],
             [
              0.5555555555555556,
              "#d8576b"
             ],
             [
              0.6666666666666666,
              "#ed7953"
             ],
             [
              0.7777777777777778,
              "#fb9f3a"
             ],
             [
              0.8888888888888888,
              "#fdca26"
             ],
             [
              1,
              "#f0f921"
             ]
            ],
            "type": "heatmapgl"
           }
          ],
          "histogram": [
           {
            "marker": {
             "pattern": {
              "fillmode": "overlay",
              "size": 10,
              "solidity": 0.2
             }
            },
            "type": "histogram"
           }
          ],
          "histogram2d": [
           {
            "colorbar": {
             "outlinewidth": 0,
             "ticks": ""
            },
            "colorscale": [
             [
              0,
              "#0d0887"
             ],
             [
              0.1111111111111111,
              "#46039f"
             ],
             [
              0.2222222222222222,
              "#7201a8"
             ],
             [
              0.3333333333333333,
              "#9c179e"
             ],
             [
              0.4444444444444444,
              "#bd3786"
             ],
             [
              0.5555555555555556,
              "#d8576b"
             ],
             [
              0.6666666666666666,
              "#ed7953"
             ],
             [
              0.7777777777777778,
              "#fb9f3a"
             ],
             [
              0.8888888888888888,
              "#fdca26"
             ],
             [
              1,
              "#f0f921"
             ]
            ],
            "type": "histogram2d"
           }
          ],
          "histogram2dcontour": [
           {
            "colorbar": {
             "outlinewidth": 0,
             "ticks": ""
            },
            "colorscale": [
             [
              0,
              "#0d0887"
             ],
             [
              0.1111111111111111,
              "#46039f"
             ],
             [
              0.2222222222222222,
              "#7201a8"
             ],
             [
              0.3333333333333333,
              "#9c179e"
             ],
             [
              0.4444444444444444,
              "#bd3786"
             ],
             [
              0.5555555555555556,
              "#d8576b"
             ],
             [
              0.6666666666666666,
              "#ed7953"
             ],
             [
              0.7777777777777778,
              "#fb9f3a"
             ],
             [
              0.8888888888888888,
              "#fdca26"
             ],
             [
              1,
              "#f0f921"
             ]
            ],
            "type": "histogram2dcontour"
           }
          ],
          "mesh3d": [
           {
            "colorbar": {
             "outlinewidth": 0,
             "ticks": ""
            },
            "type": "mesh3d"
           }
          ],
          "parcoords": [
           {
            "line": {
             "colorbar": {
              "outlinewidth": 0,
              "ticks": ""
             }
            },
            "type": "parcoords"
           }
          ],
          "pie": [
           {
            "automargin": true,
            "type": "pie"
           }
          ],
          "scatter": [
           {
            "fillpattern": {
             "fillmode": "overlay",
             "size": 10,
             "solidity": 0.2
            },
            "type": "scatter"
           }
          ],
          "scatter3d": [
           {
            "line": {
             "colorbar": {
              "outlinewidth": 0,
              "ticks": ""
             }
            },
            "marker": {
             "colorbar": {
              "outlinewidth": 0,
              "ticks": ""
             }
            },
            "type": "scatter3d"
           }
          ],
          "scattercarpet": [
           {
            "marker": {
             "colorbar": {
              "outlinewidth": 0,
              "ticks": ""
             }
            },
            "type": "scattercarpet"
           }
          ],
          "scattergeo": [
           {
            "marker": {
             "colorbar": {
              "outlinewidth": 0,
              "ticks": ""
             }
            },
            "type": "scattergeo"
           }
          ],
          "scattergl": [
           {
            "marker": {
             "colorbar": {
              "outlinewidth": 0,
              "ticks": ""
             }
            },
            "type": "scattergl"
           }
          ],
          "scattermapbox": [
           {
            "marker": {
             "colorbar": {
              "outlinewidth": 0,
              "ticks": ""
             }
            },
            "type": "scattermapbox"
           }
          ],
          "scatterpolar": [
           {
            "marker": {
             "colorbar": {
              "outlinewidth": 0,
              "ticks": ""
             }
            },
            "type": "scatterpolar"
           }
          ],
          "scatterpolargl": [
           {
            "marker": {
             "colorbar": {
              "outlinewidth": 0,
              "ticks": ""
             }
            },
            "type": "scatterpolargl"
           }
          ],
          "scatterternary": [
           {
            "marker": {
             "colorbar": {
              "outlinewidth": 0,
              "ticks": ""
             }
            },
            "type": "scatterternary"
           }
          ],
          "surface": [
           {
            "colorbar": {
             "outlinewidth": 0,
             "ticks": ""
            },
            "colorscale": [
             [
              0,
              "#0d0887"
             ],
             [
              0.1111111111111111,
              "#46039f"
             ],
             [
              0.2222222222222222,
              "#7201a8"
             ],
             [
              0.3333333333333333,
              "#9c179e"
             ],
             [
              0.4444444444444444,
              "#bd3786"
             ],
             [
              0.5555555555555556,
              "#d8576b"
             ],
             [
              0.6666666666666666,
              "#ed7953"
             ],
             [
              0.7777777777777778,
              "#fb9f3a"
             ],
             [
              0.8888888888888888,
              "#fdca26"
             ],
             [
              1,
              "#f0f921"
             ]
            ],
            "type": "surface"
           }
          ],
          "table": [
           {
            "cells": {
             "fill": {
              "color": "#EBF0F8"
             },
             "line": {
              "color": "white"
             }
            },
            "header": {
             "fill": {
              "color": "#C8D4E3"
             },
             "line": {
              "color": "white"
             }
            },
            "type": "table"
           }
          ]
         },
         "layout": {
          "annotationdefaults": {
           "arrowcolor": "#2a3f5f",
           "arrowhead": 0,
           "arrowwidth": 1
          },
          "autotypenumbers": "strict",
          "coloraxis": {
           "colorbar": {
            "outlinewidth": 0,
            "ticks": ""
           }
          },
          "colorscale": {
           "diverging": [
            [
             0,
             "#8e0152"
            ],
            [
             0.1,
             "#c51b7d"
            ],
            [
             0.2,
             "#de77ae"
            ],
            [
             0.3,
             "#f1b6da"
            ],
            [
             0.4,
             "#fde0ef"
            ],
            [
             0.5,
             "#f7f7f7"
            ],
            [
             0.6,
             "#e6f5d0"
            ],
            [
             0.7,
             "#b8e186"
            ],
            [
             0.8,
             "#7fbc41"
            ],
            [
             0.9,
             "#4d9221"
            ],
            [
             1,
             "#276419"
            ]
           ],
           "sequential": [
            [
             0,
             "#0d0887"
            ],
            [
             0.1111111111111111,
             "#46039f"
            ],
            [
             0.2222222222222222,
             "#7201a8"
            ],
            [
             0.3333333333333333,
             "#9c179e"
            ],
            [
             0.4444444444444444,
             "#bd3786"
            ],
            [
             0.5555555555555556,
             "#d8576b"
            ],
            [
             0.6666666666666666,
             "#ed7953"
            ],
            [
             0.7777777777777778,
             "#fb9f3a"
            ],
            [
             0.8888888888888888,
             "#fdca26"
            ],
            [
             1,
             "#f0f921"
            ]
           ],
           "sequentialminus": [
            [
             0,
             "#0d0887"
            ],
            [
             0.1111111111111111,
             "#46039f"
            ],
            [
             0.2222222222222222,
             "#7201a8"
            ],
            [
             0.3333333333333333,
             "#9c179e"
            ],
            [
             0.4444444444444444,
             "#bd3786"
            ],
            [
             0.5555555555555556,
             "#d8576b"
            ],
            [
             0.6666666666666666,
             "#ed7953"
            ],
            [
             0.7777777777777778,
             "#fb9f3a"
            ],
            [
             0.8888888888888888,
             "#fdca26"
            ],
            [
             1,
             "#f0f921"
            ]
           ]
          },
          "colorway": [
           "#636efa",
           "#EF553B",
           "#00cc96",
           "#ab63fa",
           "#FFA15A",
           "#19d3f3",
           "#FF6692",
           "#B6E880",
           "#FF97FF",
           "#FECB52"
          ],
          "font": {
           "color": "#2a3f5f"
          },
          "geo": {
           "bgcolor": "white",
           "lakecolor": "white",
           "landcolor": "#E5ECF6",
           "showlakes": true,
           "showland": true,
           "subunitcolor": "white"
          },
          "hoverlabel": {
           "align": "left"
          },
          "hovermode": "closest",
          "mapbox": {
           "style": "light"
          },
          "paper_bgcolor": "white",
          "plot_bgcolor": "#E5ECF6",
          "polar": {
           "angularaxis": {
            "gridcolor": "white",
            "linecolor": "white",
            "ticks": ""
           },
           "bgcolor": "#E5ECF6",
           "radialaxis": {
            "gridcolor": "white",
            "linecolor": "white",
            "ticks": ""
           }
          },
          "scene": {
           "xaxis": {
            "backgroundcolor": "#E5ECF6",
            "gridcolor": "white",
            "gridwidth": 2,
            "linecolor": "white",
            "showbackground": true,
            "ticks": "",
            "zerolinecolor": "white"
           },
           "yaxis": {
            "backgroundcolor": "#E5ECF6",
            "gridcolor": "white",
            "gridwidth": 2,
            "linecolor": "white",
            "showbackground": true,
            "ticks": "",
            "zerolinecolor": "white"
           },
           "zaxis": {
            "backgroundcolor": "#E5ECF6",
            "gridcolor": "white",
            "gridwidth": 2,
            "linecolor": "white",
            "showbackground": true,
            "ticks": "",
            "zerolinecolor": "white"
           }
          },
          "shapedefaults": {
           "line": {
            "color": "#2a3f5f"
           }
          },
          "ternary": {
           "aaxis": {
            "gridcolor": "white",
            "linecolor": "white",
            "ticks": ""
           },
           "baxis": {
            "gridcolor": "white",
            "linecolor": "white",
            "ticks": ""
           },
           "bgcolor": "#E5ECF6",
           "caxis": {
            "gridcolor": "white",
            "linecolor": "white",
            "ticks": ""
           }
          },
          "title": {
           "x": 0.05
          },
          "xaxis": {
           "automargin": true,
           "gridcolor": "white",
           "linecolor": "white",
           "ticks": "",
           "title": {
            "standoff": 15
           },
           "zerolinecolor": "white",
           "zerolinewidth": 2
          },
          "yaxis": {
           "automargin": true,
           "gridcolor": "white",
           "linecolor": "white",
           "ticks": "",
           "title": {
            "standoff": 15
           },
           "zerolinecolor": "white",
           "zerolinewidth": 2
          }
         }
        },
        "xaxis": {
         "anchor": "y",
         "autorange": true,
         "categoryarray": [
          "Base Case",
          "Case 1A",
          "Case 1B",
          "Case 2",
          "Case 3"
         ],
         "categoryorder": "array",
         "domain": [
          0,
          1
         ],
         "range": [
          -0.5,
          4.5
         ],
         "title": {
          "text": "impsubcase"
         },
         "type": "category"
        },
        "yaxis": {
         "anchor": "x",
         "autorange": true,
         "domain": [
          0,
          1
         ],
         "range": [
          0,
          3190.310526315789
         ],
         "title": {
          "text": "value"
         },
         "type": "linear"
        }
       }
      },
      "text/html": [
       "<div>                            <div id=\"e98eb16a-1bf7-4912-b009-e8df94f71f0e\" class=\"plotly-graph-div\" style=\"height:525px; width:100%;\"></div>            <script type=\"text/javascript\">                require([\"plotly\"], function(Plotly) {                    window.PLOTLYENV=window.PLOTLYENV || {};                                    if (document.getElementById(\"e98eb16a-1bf7-4912-b009-e8df94f71f0e\")) {                    Plotly.newPlot(                        \"e98eb16a-1bf7-4912-b009-e8df94f71f0e\",                        [{\"alignmentgroup\":\"True\",\"hovertemplate\":\"ptype=Annualised\\u003cbr\\u003eCAPEX\\u003cbr\\u003eimpsubcase=%{x}\\u003cbr\\u003evalue=%{y}\\u003cextra\\u003e\\u003c\\u002fextra\\u003e\",\"legendgroup\":\"Annualised\\u003cbr\\u003eCAPEX\",\"marker\":{\"color\":\"#f36f21\",\"pattern\":{\"shape\":\"\"}},\"name\":\"Annualised\\u003cbr\\u003eCAPEX\",\"offsetgroup\":\"Annualised\\u003cbr\\u003eCAPEX\",\"orientation\":\"v\",\"showlegend\":true,\"textposition\":\"auto\",\"x\":[\"Base Case\",\"Base Case\",\"Base Case\",\"Base Case\",\"Base Case\",\"Case 1A\",\"Case 1A\",\"Case 1A\",\"Case 1A\",\"Case 1A\",\"Case 1B\",\"Case 1B\",\"Case 1B\",\"Case 1B\",\"Case 1B\",\"Case 2\",\"Case 2\",\"Case 2\",\"Case 2\",\"Case 2\",\"Case 3\",\"Case 3\",\"Case 3\",\"Case 3\",\"Case 3\"],\"xaxis\":\"x\",\"y\":[50.15,77.91,43.54,35.58,72.95,50.15,97.18,43.54,35.58,72.95,50.15,97.18,43.54,35.58,72.95,62.56,97.18,54.3,35.58,90.99,62.56,97.18,54.3,44.38,90.99],\"yaxis\":\"y\",\"type\":\"bar\"},{\"alignmentgroup\":\"True\",\"hovertemplate\":\"ptype=Electricity\\u003cbr\\u003eimpsubcase=%{x}\\u003cbr\\u003evalue=%{y}\\u003cextra\\u003e\\u003c\\u002fextra\\u003e\",\"legendgroup\":\"Electricity\",\"marker\":{\"color\":\"#e6af2e\",\"pattern\":{\"shape\":\"\"}},\"name\":\"Electricity\",\"offsetgroup\":\"Electricity\",\"orientation\":\"v\",\"showlegend\":true,\"textposition\":\"auto\",\"x\":[\"Base Case\",\"Base Case\",\"Base Case\",\"Base Case\",\"Base Case\",\"Case 1A\",\"Case 1A\",\"Case 1A\",\"Case 1A\",\"Case 1A\",\"Case 1B\",\"Case 1B\",\"Case 1B\",\"Case 1B\",\"Case 1B\",\"Case 2\",\"Case 2\",\"Case 2\",\"Case 2\",\"Case 2\",\"Case 3\",\"Case 3\",\"Case 3\",\"Case 3\",\"Case 3\"],\"xaxis\":\"x\",\"y\":[303.9,1450.0,198.9,125.0,439.1,303.9,621.6,198.9,125.0,439.1,303.9,621.6,198.9,125.0,439.1,168.9,621.6,110.5,125.0,244.0,168.9,621.6,110.5,69.45,244.0],\"yaxis\":\"y\",\"type\":\"bar\"},{\"alignmentgroup\":\"True\",\"hovertemplate\":\"ptype=Operation and\\u003cbr\\u003emaintenance\\u003cbr\\u003eimpsubcase=%{x}\\u003cbr\\u003evalue=%{y}\\u003cextra\\u003e\\u003c\\u002fextra\\u003e\",\"legendgroup\":\"Operation and\\u003cbr\\u003emaintenance\",\"marker\":{\"color\":\"#00813e\",\"pattern\":{\"shape\":\"\"}},\"name\":\"Operation and\\u003cbr\\u003emaintenance\",\"offsetgroup\":\"Operation and\\u003cbr\\u003emaintenance\",\"orientation\":\"v\",\"showlegend\":true,\"textposition\":\"auto\",\"x\":[\"Base Case\",\"Base Case\",\"Base Case\",\"Base Case\",\"Base Case\",\"Case 1A\",\"Case 1A\",\"Case 1A\",\"Case 1A\",\"Case 1A\",\"Case 1B\",\"Case 1B\",\"Case 1B\",\"Case 1B\",\"Case 1B\",\"Case 2\",\"Case 2\",\"Case 2\",\"Case 2\",\"Case 2\",\"Case 3\",\"Case 3\",\"Case 3\",\"Case 3\",\"Case 3\"],\"xaxis\":\"x\",\"y\":[80.63,50.96,9.245,31.42,19.66,80.63,50.96,9.245,31.42,19.66,80.63,50.96,9.245,31.42,19.66,80.63,50.96,9.245,31.42,19.66,80.63,50.96,9.245,31.42,19.66],\"yaxis\":\"y\",\"type\":\"bar\"},{\"alignmentgroup\":\"True\",\"hovertemplate\":\"ptype=Raw materials\\u003cbr\\u003eimpsubcase=%{x}\\u003cbr\\u003evalue=%{y}\\u003cextra\\u003e\\u003c\\u002fextra\\u003e\",\"legendgroup\":\"Raw materials\",\"marker\":{\"color\":\"#cccccc\",\"pattern\":{\"shape\":\"\"}},\"name\":\"Raw materials\",\"offsetgroup\":\"Raw materials\",\"orientation\":\"v\",\"showlegend\":true,\"textposition\":\"auto\",\"x\":[\"Base Case\",\"Case 1A\",\"Case 1B\",\"Case 2\",\"Case 3\"],\"xaxis\":\"x\",\"y\":[41.85,41.85,41.85,41.85,41.85],\"yaxis\":\"y\",\"type\":\"bar\"},{\"alignmentgroup\":\"True\",\"hovertemplate\":\"ptype=Transport\\u003cbr\\u003eimpsubcase=%{x}\\u003cbr\\u003evalue=%{y}\\u003cextra\\u003e\\u003c\\u002fextra\\u003e\",\"legendgroup\":\"Transport\",\"marker\":{\"color\":\"#7c1f8a\",\"pattern\":{\"shape\":\"\"}},\"name\":\"Transport\",\"offsetgroup\":\"Transport\",\"orientation\":\"v\",\"showlegend\":true,\"textposition\":\"auto\",\"x\":[\"Case 1A\",\"Case 1B\",\"Case 2\",\"Case 3\"],\"xaxis\":\"x\",\"y\":[734.3,220.3,68.4,80.0],\"yaxis\":\"y\",\"type\":\"bar\"}],                        {\"template\":{\"data\":{\"histogram2dcontour\":[{\"type\":\"histogram2dcontour\",\"colorbar\":{\"outlinewidth\":0,\"ticks\":\"\"},\"colorscale\":[[0.0,\"#0d0887\"],[0.1111111111111111,\"#46039f\"],[0.2222222222222222,\"#7201a8\"],[0.3333333333333333,\"#9c179e\"],[0.4444444444444444,\"#bd3786\"],[0.5555555555555556,\"#d8576b\"],[0.6666666666666666,\"#ed7953\"],[0.7777777777777778,\"#fb9f3a\"],[0.8888888888888888,\"#fdca26\"],[1.0,\"#f0f921\"]]}],\"choropleth\":[{\"type\":\"choropleth\",\"colorbar\":{\"outlinewidth\":0,\"ticks\":\"\"}}],\"histogram2d\":[{\"type\":\"histogram2d\",\"colorbar\":{\"outlinewidth\":0,\"ticks\":\"\"},\"colorscale\":[[0.0,\"#0d0887\"],[0.1111111111111111,\"#46039f\"],[0.2222222222222222,\"#7201a8\"],[0.3333333333333333,\"#9c179e\"],[0.4444444444444444,\"#bd3786\"],[0.5555555555555556,\"#d8576b\"],[0.6666666666666666,\"#ed7953\"],[0.7777777777777778,\"#fb9f3a\"],[0.8888888888888888,\"#fdca26\"],[1.0,\"#f0f921\"]]}],\"heatmap\":[{\"type\":\"heatmap\",\"colorbar\":{\"outlinewidth\":0,\"ticks\":\"\"},\"colorscale\":[[0.0,\"#0d0887\"],[0.1111111111111111,\"#46039f\"],[0.2222222222222222,\"#7201a8\"],[0.3333333333333333,\"#9c179e\"],[0.4444444444444444,\"#bd3786\"],[0.5555555555555556,\"#d8576b\"],[0.6666666666666666,\"#ed7953\"],[0.7777777777777778,\"#fb9f3a\"],[0.8888888888888888,\"#fdca26\"],[1.0,\"#f0f921\"]]}],\"heatmapgl\":[{\"type\":\"heatmapgl\",\"colorbar\":{\"outlinewidth\":0,\"ticks\":\"\"},\"colorscale\":[[0.0,\"#0d0887\"],[0.1111111111111111,\"#46039f\"],[0.2222222222222222,\"#7201a8\"],[0.3333333333333333,\"#9c179e\"],[0.4444444444444444,\"#bd3786\"],[0.5555555555555556,\"#d8576b\"],[0.6666666666666666,\"#ed7953\"],[0.7777777777777778,\"#fb9f3a\"],[0.8888888888888888,\"#fdca26\"],[1.0,\"#f0f921\"]]}],\"contourcarpet\":[{\"type\":\"contourcarpet\",\"colorbar\":{\"outlinewidth\":0,\"ticks\":\"\"}}],\"contour\":[{\"type\":\"contour\",\"colorbar\":{\"outlinewidth\":0,\"ticks\":\"\"},\"colorscale\":[[0.0,\"#0d0887\"],[0.1111111111111111,\"#46039f\"],[0.2222222222222222,\"#7201a8\"],[0.3333333333333333,\"#9c179e\"],[0.4444444444444444,\"#bd3786\"],[0.5555555555555556,\"#d8576b\"],[0.6666666666666666,\"#ed7953\"],[0.7777777777777778,\"#fb9f3a\"],[0.8888888888888888,\"#fdca26\"],[1.0,\"#f0f921\"]]}],\"surface\":[{\"type\":\"surface\",\"colorbar\":{\"outlinewidth\":0,\"ticks\":\"\"},\"colorscale\":[[0.0,\"#0d0887\"],[0.1111111111111111,\"#46039f\"],[0.2222222222222222,\"#7201a8\"],[0.3333333333333333,\"#9c179e\"],[0.4444444444444444,\"#bd3786\"],[0.5555555555555556,\"#d8576b\"],[0.6666666666666666,\"#ed7953\"],[0.7777777777777778,\"#fb9f3a\"],[0.8888888888888888,\"#fdca26\"],[1.0,\"#f0f921\"]]}],\"mesh3d\":[{\"type\":\"mesh3d\",\"colorbar\":{\"outlinewidth\":0,\"ticks\":\"\"}}],\"scatter\":[{\"fillpattern\":{\"fillmode\":\"overlay\",\"size\":10,\"solidity\":0.2},\"type\":\"scatter\"}],\"parcoords\":[{\"type\":\"parcoords\",\"line\":{\"colorbar\":{\"outlinewidth\":0,\"ticks\":\"\"}}}],\"scatterpolargl\":[{\"type\":\"scatterpolargl\",\"marker\":{\"colorbar\":{\"outlinewidth\":0,\"ticks\":\"\"}}}],\"bar\":[{\"error_x\":{\"color\":\"#2a3f5f\"},\"error_y\":{\"color\":\"#2a3f5f\"},\"marker\":{\"line\":{\"color\":\"#E5ECF6\",\"width\":0.5},\"pattern\":{\"fillmode\":\"overlay\",\"size\":10,\"solidity\":0.2}},\"type\":\"bar\"}],\"scattergeo\":[{\"type\":\"scattergeo\",\"marker\":{\"colorbar\":{\"outlinewidth\":0,\"ticks\":\"\"}}}],\"scatterpolar\":[{\"type\":\"scatterpolar\",\"marker\":{\"colorbar\":{\"outlinewidth\":0,\"ticks\":\"\"}}}],\"histogram\":[{\"marker\":{\"pattern\":{\"fillmode\":\"overlay\",\"size\":10,\"solidity\":0.2}},\"type\":\"histogram\"}],\"scattergl\":[{\"type\":\"scattergl\",\"marker\":{\"colorbar\":{\"outlinewidth\":0,\"ticks\":\"\"}}}],\"scatter3d\":[{\"type\":\"scatter3d\",\"line\":{\"colorbar\":{\"outlinewidth\":0,\"ticks\":\"\"}},\"marker\":{\"colorbar\":{\"outlinewidth\":0,\"ticks\":\"\"}}}],\"scattermapbox\":[{\"type\":\"scattermapbox\",\"marker\":{\"colorbar\":{\"outlinewidth\":0,\"ticks\":\"\"}}}],\"scatterternary\":[{\"type\":\"scatterternary\",\"marker\":{\"colorbar\":{\"outlinewidth\":0,\"ticks\":\"\"}}}],\"scattercarpet\":[{\"type\":\"scattercarpet\",\"marker\":{\"colorbar\":{\"outlinewidth\":0,\"ticks\":\"\"}}}],\"carpet\":[{\"aaxis\":{\"endlinecolor\":\"#2a3f5f\",\"gridcolor\":\"white\",\"linecolor\":\"white\",\"minorgridcolor\":\"white\",\"startlinecolor\":\"#2a3f5f\"},\"baxis\":{\"endlinecolor\":\"#2a3f5f\",\"gridcolor\":\"white\",\"linecolor\":\"white\",\"minorgridcolor\":\"white\",\"startlinecolor\":\"#2a3f5f\"},\"type\":\"carpet\"}],\"table\":[{\"cells\":{\"fill\":{\"color\":\"#EBF0F8\"},\"line\":{\"color\":\"white\"}},\"header\":{\"fill\":{\"color\":\"#C8D4E3\"},\"line\":{\"color\":\"white\"}},\"type\":\"table\"}],\"barpolar\":[{\"marker\":{\"line\":{\"color\":\"#E5ECF6\",\"width\":0.5},\"pattern\":{\"fillmode\":\"overlay\",\"size\":10,\"solidity\":0.2}},\"type\":\"barpolar\"}],\"pie\":[{\"automargin\":true,\"type\":\"pie\"}]},\"layout\":{\"autotypenumbers\":\"strict\",\"colorway\":[\"#636efa\",\"#EF553B\",\"#00cc96\",\"#ab63fa\",\"#FFA15A\",\"#19d3f3\",\"#FF6692\",\"#B6E880\",\"#FF97FF\",\"#FECB52\"],\"font\":{\"color\":\"#2a3f5f\"},\"hovermode\":\"closest\",\"hoverlabel\":{\"align\":\"left\"},\"paper_bgcolor\":\"white\",\"plot_bgcolor\":\"#E5ECF6\",\"polar\":{\"bgcolor\":\"#E5ECF6\",\"angularaxis\":{\"gridcolor\":\"white\",\"linecolor\":\"white\",\"ticks\":\"\"},\"radialaxis\":{\"gridcolor\":\"white\",\"linecolor\":\"white\",\"ticks\":\"\"}},\"ternary\":{\"bgcolor\":\"#E5ECF6\",\"aaxis\":{\"gridcolor\":\"white\",\"linecolor\":\"white\",\"ticks\":\"\"},\"baxis\":{\"gridcolor\":\"white\",\"linecolor\":\"white\",\"ticks\":\"\"},\"caxis\":{\"gridcolor\":\"white\",\"linecolor\":\"white\",\"ticks\":\"\"}},\"coloraxis\":{\"colorbar\":{\"outlinewidth\":0,\"ticks\":\"\"}},\"colorscale\":{\"sequential\":[[0.0,\"#0d0887\"],[0.1111111111111111,\"#46039f\"],[0.2222222222222222,\"#7201a8\"],[0.3333333333333333,\"#9c179e\"],[0.4444444444444444,\"#bd3786\"],[0.5555555555555556,\"#d8576b\"],[0.6666666666666666,\"#ed7953\"],[0.7777777777777778,\"#fb9f3a\"],[0.8888888888888888,\"#fdca26\"],[1.0,\"#f0f921\"]],\"sequentialminus\":[[0.0,\"#0d0887\"],[0.1111111111111111,\"#46039f\"],[0.2222222222222222,\"#7201a8\"],[0.3333333333333333,\"#9c179e\"],[0.4444444444444444,\"#bd3786\"],[0.5555555555555556,\"#d8576b\"],[0.6666666666666666,\"#ed7953\"],[0.7777777777777778,\"#fb9f3a\"],[0.8888888888888888,\"#fdca26\"],[1.0,\"#f0f921\"]],\"diverging\":[[0,\"#8e0152\"],[0.1,\"#c51b7d\"],[0.2,\"#de77ae\"],[0.3,\"#f1b6da\"],[0.4,\"#fde0ef\"],[0.5,\"#f7f7f7\"],[0.6,\"#e6f5d0\"],[0.7,\"#b8e186\"],[0.8,\"#7fbc41\"],[0.9,\"#4d9221\"],[1,\"#276419\"]]},\"xaxis\":{\"gridcolor\":\"white\",\"linecolor\":\"white\",\"ticks\":\"\",\"title\":{\"standoff\":15},\"zerolinecolor\":\"white\",\"automargin\":true,\"zerolinewidth\":2},\"yaxis\":{\"gridcolor\":\"white\",\"linecolor\":\"white\",\"ticks\":\"\",\"title\":{\"standoff\":15},\"zerolinecolor\":\"white\",\"automargin\":true,\"zerolinewidth\":2},\"scene\":{\"xaxis\":{\"backgroundcolor\":\"#E5ECF6\",\"gridcolor\":\"white\",\"linecolor\":\"white\",\"showbackground\":true,\"ticks\":\"\",\"zerolinecolor\":\"white\",\"gridwidth\":2},\"yaxis\":{\"backgroundcolor\":\"#E5ECF6\",\"gridcolor\":\"white\",\"linecolor\":\"white\",\"showbackground\":true,\"ticks\":\"\",\"zerolinecolor\":\"white\",\"gridwidth\":2},\"zaxis\":{\"backgroundcolor\":\"#E5ECF6\",\"gridcolor\":\"white\",\"linecolor\":\"white\",\"showbackground\":true,\"ticks\":\"\",\"zerolinecolor\":\"white\",\"gridwidth\":2}},\"shapedefaults\":{\"line\":{\"color\":\"#2a3f5f\"}},\"annotationdefaults\":{\"arrowcolor\":\"#2a3f5f\",\"arrowhead\":0,\"arrowwidth\":1},\"geo\":{\"bgcolor\":\"white\",\"landcolor\":\"#E5ECF6\",\"subunitcolor\":\"white\",\"showland\":true,\"showlakes\":true,\"lakecolor\":\"white\"},\"title\":{\"x\":0.05},\"mapbox\":{\"style\":\"light\"}}},\"xaxis\":{\"anchor\":\"y\",\"domain\":[0.0,1.0],\"title\":{\"text\":\"impsubcase\"},\"categoryorder\":\"array\",\"categoryarray\":[\"Base Case\",\"Case 1A\",\"Case 1B\",\"Case 2\",\"Case 3\"]},\"yaxis\":{\"anchor\":\"x\",\"domain\":[0.0,1.0],\"title\":{\"text\":\"value\"}},\"legend\":{\"title\":{\"text\":\"ptype\"},\"tracegroupgap\":0},\"margin\":{\"t\":60},\"barmode\":\"relative\"},                        {\"responsive\": true}                    ).then(function(){\n",
       "                            \n",
       "var gd = document.getElementById('e98eb16a-1bf7-4912-b009-e8df94f71f0e');\n",
       "var x = new MutationObserver(function (mutations, observer) {{\n",
       "        var display = window.getComputedStyle(gd).display;\n",
       "        if (!display || display === 'none') {{\n",
       "            console.log([gd, 'removed!']);\n",
       "            Plotly.purge(gd);\n",
       "            observer.disconnect();\n",
       "        }}\n",
       "}});\n",
       "\n",
       "// Listen for the removal of the full notebook cells\n",
       "var notebookContainer = gd.closest('#notebook-container');\n",
       "if (notebookContainer) {{\n",
       "    x.observe(notebookContainer, {childList: true});\n",
       "}}\n",
       "\n",
       "// Listen for the clearing of the current output cell\n",
       "var outputEl = gd.closest('.output');\n",
       "if (outputEl) {{\n",
       "    x.observe(outputEl, {childList: true});\n",
       "}}\n",
       "\n",
       "                        })                };                });            </script>        </div>"
      ]
     },
     "metadata": {},
     "output_type": "display_data"
    }
   ],
   "source": [
    "import plotly.express as px\n",
    "\n",
    "\n",
    "typeMapping = {\n",
    "    r'^cap$': 'capital',\n",
    "    r'^fop$': 'fonmco',\n",
    "    r'^transp_cost:.*$': 'transport',\n",
    "    r'^dem_cost:elec$': 'elec',\n",
    "    r'^dem_cost:(coal|ng)$': 'energy',\n",
    "    r'^dem_cost:\\b(?!(elec|coal|ng))\\b.*$': 'rawmat',\n",
    "}\n",
    "\n",
    "cost_types = {\n",
    "    'capital': {\n",
    "        'label': 'Annualised<br>CAPEX',\n",
    "        'colour': '#f36f21',\n",
    "    },\n",
    "    'fonmco': {\n",
    "        'label': 'Operation and<br>maintenance',\n",
    "        'colour': '#00813e',\n",
    "    },\n",
    "    'rawmat': {\n",
    "        'label': 'Raw materials',\n",
    "        'colour': '#cccccc',\n",
    "    },\n",
    "    'energy': {\n",
    "        'label': 'Non-elec. energy',\n",
    "        'colour': '#aaaaaa',\n",
    "    },\n",
    "    'elec': {\n",
    "        'label': 'Electricity',\n",
    "        'colour': '#e6af2e',\n",
    "    },\n",
    "    'transport': {\n",
    "        'label': 'Transport',\n",
    "        'colour': '#7c1f8a',\n",
    "    }\n",
    "}\n",
    "\n",
    "for comm, lcox in outputs['lcox'].items():\n",
    "    # convert lcox table to plot data\n",
    "    plotData = lcox \\\n",
    "        .data['LCOX'] \\\n",
    "        .pint.dequantify().droplevel('unit', axis=1) \\\n",
    "        .stack(['process', 'type']).to_frame('value') \\\n",
    "        .reset_index() \\\n",
    "        .query(f\"epdcase=='medium'\") \\\n",
    "        .drop(columns=['epdcase'])\n",
    "\n",
    "    # map types (so that colors are correct)\n",
    "    plotData['ptype'] = plotData['type'] \\\n",
    "        .replace(regex=typeMapping) \\\n",
    "        .map({\n",
    "            ptype: display['label']\n",
    "            for ptype, display in cost_types.items()\n",
    "        })\n",
    "\n",
    "    # plot figure\n",
    "    fig = px.bar(plotData, x='impsubcase', y='value', color='ptype')\n",
    "\n",
    "    # set colours\n",
    "    for item in fig.data:\n",
    "        item['marker']['color'] = next(t['colour'] for t in cost_types.values() if t['label'] == item['legendgroup'])\n",
    "\n",
    "    # order cases on x-axis\n",
    "    fig.update_layout(xaxis=dict(categoryorder='array', categoryarray=['Base Case', 'Case 1A', 'Case 1B', 'Case 2', 'Case 3']))\n",
    "\n",
    "    display(Markdown(f\"**{comm}**\"))\n",
    "    display(fig)"
   ]
  }
 ],
 "metadata": {
  "kernelspec": {
   "display_name": "Python 3 (ipykernel)",
   "language": "python",
   "name": "python3"
  },
  "language_info": {
   "codemirror_mode": {
    "name": "ipython",
    "version": 3
   },
   "file_extension": ".py",
   "mimetype": "text/x-python",
   "name": "python",
   "nbconvert_exporter": "python",
   "pygments_lexer": "ipython3",
   "version": "3.11.4"
  }
 },
 "nbformat": 4,
 "nbformat_minor": 5
}
